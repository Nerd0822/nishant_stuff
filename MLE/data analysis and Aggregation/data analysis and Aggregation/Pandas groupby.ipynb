{
 "cells": [
  {
   "cell_type": "markdown",
   "id": "4de787f3-bf71-46ff-9386-b372958c805e",
   "metadata": {},
   "source": [
    "# Pandas groupby\n",
    "In Pandas, the `groupby` operation lets us group data based on specific columns. This means we can divide a DataFrame into smaller groups based on the values in these columns.\n",
    "\n",
    "Once grouped, we can then apply functions to each group separately. These functions help summarize or aggregate the data in each group."
   ]
  },
  {
   "cell_type": "markdown",
   "id": "ffc6ef7a-8181-4b27-b275-c0b954eb98e7",
   "metadata": {},
   "source": [
    "## Group by a Single Column in Pandas\n",
    "In Pandas, we use the `groupby()` function to group data by a single column and then calculate the aggregates. For example,"
   ]
  },
  {
   "cell_type": "code",
   "execution_count": 1,
   "id": "60ab115e-50d8-42b7-9988-6b100c31d9ae",
   "metadata": {},
   "outputs": [
    {
     "name": "stdout",
     "output_type": "stream",
     "text": [
      "Category\n",
      "Clothing        800\n",
      "Electronics    1800\n",
      "Name: Sales, dtype: int64\n"
     ]
    }
   ],
   "source": [
    "import pandas as pd\n",
    "\n",
    "# create a dictionary containing the data\n",
    "data = {'Category': ['Electronics', 'Clothing', 'Electronics', 'Clothing'],\n",
    "        'Sales': [1000, 500, 800, 300]}\n",
    "\n",
    "# create a DataFrame using the data dictionary\n",
    "df = pd.DataFrame(data)\n",
    "\n",
    "# group the DataFrame by the Category column and\n",
    "# calculate the sum of Sales for each category\n",
    "grouped = df.groupby('Category')['Sales'].sum()\n",
    "\n",
    "# print the grouped data\n",
    "print(grouped)"
   ]
  },
  {
   "cell_type": "markdown",
   "id": "67dc5f6f-9b6f-4f20-8829-3a507aadf95b",
   "metadata": {},
   "source": [
    "In the above example, `df.groupby('Category')['Sales'].sum()` is used to group by a single column and calculate sum.\n",
    "\n",
    "This line does the following:\n",
    "\n",
    "- `df.groupby('Category')` - groups the `df` DataFrame by the unique values in the `Category` column.\n",
    "- `['Sales']` - specifies that we are interested in the `Sales` column within each group.\n",
    "- `.sum()` - calculates the sum of the `Sales` values for each group."
   ]
  },
  {
   "cell_type": "markdown",
   "id": "1468b0ab-cc46-4d06-ab20-dec1f7c535d9",
   "metadata": {},
   "source": [
    "## Group by a Multiple Column in Pandas\n",
    "We can also group multiple columns and calculate multiple aggregates in Pandas.\n",
    "\n",
    "Let's look at an example."
   ]
  },
  {
   "cell_type": "code",
   "execution_count": 2,
   "id": "a0e181a3-7cbe-4ffa-b754-46ee97295c24",
   "metadata": {},
   "outputs": [
    {
     "name": "stdout",
     "output_type": "stream",
     "text": [
      "             Score    \n",
      "              mean max\n",
      "Gender Grade          \n",
      "Female A      88.0  88\n",
      "       B      85.0  85\n",
      "Male   A      91.0  92\n",
      "       B      78.0  78\n"
     ]
    }
   ],
   "source": [
    "import pandas as pd\n",
    "\n",
    "# create a DataFrame with student data\n",
    "data = {\n",
    "    'Gender': ['Male', 'Female', 'Male', 'Female', 'Male'],\n",
    "    'Grade': ['A', 'B', 'A', 'A', 'B'],\n",
    "    'Score': [90, 85, 92, 88, 78]\n",
    "}\n",
    "\n",
    "df = pd.DataFrame(data)\n",
    "\n",
    "# define the aggregate functions to be applied to the Score column\n",
    "agg_functions = {\n",
    "    # calculate both mean and maximum of the Score column\n",
    "    'Score': ['mean', 'max'] \n",
    "}\n",
    "\n",
    "# group the DataFrame by Gender and Grade, then apply the aggregate functions\n",
    "grouped = df.groupby(['Gender', 'Grade']).aggregate(agg_functions)\n",
    "\n",
    "# print the resulting grouped DataFrame\n",
    "print(grouped)"
   ]
  },
  {
   "cell_type": "markdown",
   "id": "3392d7bd-0353-47cf-809f-0eed95a1bcd2",
   "metadata": {},
   "source": [
    "Here, In the output, we can see that the data has been grouped by `Gender` and `Grade`, and the `mean` and `maximum` scores for each group are displayed in the resulting DataFrame `grouped`.\n",
    "\n"
   ]
  },
  {
   "cell_type": "markdown",
   "id": "517c6add-0fba-44ba-91e5-e13594674b59",
   "metadata": {},
   "source": [
    "## Group With Categorical Data\n",
    "We group with categorical data where we want to analyze data based on specific categories.\n",
    "\n",
    "Pandas provides powerful tools to work with categorical data efficiently using the `groupby()` function.\n",
    "\n",
    "Let's look at an example."
   ]
  },
  {
   "cell_type": "code",
   "execution_count": 3,
   "id": "f4e7069d-543f-40ff-bbdb-7f09cd6f9a00",
   "metadata": {},
   "outputs": [
    {
     "name": "stdout",
     "output_type": "stream",
     "text": [
      "Category\n",
      "A    600\n",
      "B    320\n",
      "Name: Sales, dtype: int64\n"
     ]
    },
    {
     "name": "stderr",
     "output_type": "stream",
     "text": [
      "C:\\Users\\rmnjs\\AppData\\Local\\Temp\\ipykernel_22792\\592795457.py:13: FutureWarning: The default of observed=False is deprecated and will be changed to True in a future version of pandas. Pass observed=False to retain current behavior or observed=True to adopt the future default and silence this warning.\n",
      "  grouped = df.groupby('Category')['Sales'].sum()\n"
     ]
    }
   ],
   "source": [
    "import pandas as pd\n",
    "\n",
    "# sample data\n",
    "data = {'Category': ['A', 'B', 'A', 'B', 'A', 'B'],\n",
    "        'Sales': [100, 150, 200, 50, 300, 120]}\n",
    "\n",
    "df = pd.DataFrame(data)\n",
    "\n",
    "# convert Category column to categorical type\n",
    "df['Category'] = pd.Categorical(df['Category'])\n",
    "\n",
    "# group by Category  and calculate the total sales\n",
    "grouped = df.groupby('Category')['Sales'].sum()\n",
    "\n",
    "print(grouped)"
   ]
  },
  {
   "cell_type": "markdown",
   "id": "4e9fbf5a-4f58-4673-9807-0002f8e40a78",
   "metadata": {},
   "source": [
    "Here, first the `Category` column is converted to a categorical data type using `pd.Categorical()`.\n",
    "\n",
    "The data is then grouped by the `Category` column using the `groupby()` function. And the total sales for each category are calculated using the `sum()` aggregation function."
   ]
  },
  {
   "cell_type": "code",
   "execution_count": null,
   "id": "50292ff5-cc2c-47e0-87ac-410730df09b3",
   "metadata": {},
   "outputs": [],
   "source": []
  }
 ],
 "metadata": {
  "kernelspec": {
   "display_name": "Python 3 (ipykernel)",
   "language": "python",
   "name": "python3"
  },
  "language_info": {
   "codemirror_mode": {
    "name": "ipython",
    "version": 3
   },
   "file_extension": ".py",
   "mimetype": "text/x-python",
   "name": "python",
   "nbconvert_exporter": "python",
   "pygments_lexer": "ipython3",
   "version": "3.9.1"
  }
 },
 "nbformat": 4,
 "nbformat_minor": 5
}
