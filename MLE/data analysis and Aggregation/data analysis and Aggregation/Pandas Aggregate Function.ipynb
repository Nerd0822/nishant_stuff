{
 "cells": [
  {
   "cell_type": "markdown",
   "id": "38c93ea7-4c44-4b23-99d7-4448007da124",
   "metadata": {},
   "source": [
    "# Pandas Aggregate Function\n",
    "Aggregate function in Pandas performs summary computations on data, often on grouped data. But it can also be used on Series objects.\n",
    "\n",
    "This can be really useful for tasks such as calculating mean, sum, count, and other statistics for different groups within our data."
   ]
  },
  {
   "cell_type": "markdown",
   "id": "27676129-50e7-456a-81e0-9f0020f30033",
   "metadata": {},
   "source": [
    "## Syntax:\n",
    "Here's the basic syntax of the aggregate function,\n",
    "\n",
    "#### df.aggregate(func, axis=0, *args, **kwargs)\n",
    "Here,\n",
    "\n",
    "1. `func` - an aggregate function like `sum`, `mean`, etc.\n",
    "2. `axis` - specifies whether to apply the aggregation operation along rows or columns.\n",
    "3. `*args` and `**kwargs` - additional arguments that can be passed to the aggregation functions."
   ]
  },
  {
   "cell_type": "markdown",
   "id": "f4d1a8a6-1c9b-420b-9411-5cba461c913b",
   "metadata": {},
   "source": [
    "## Apply Single Aggregate Function\n",
    "Here's how we can apply a single aggregate function in Pandas."
   ]
  },
  {
   "cell_type": "code",
   "execution_count": 1,
   "id": "a68de272-633e-41fa-8ef8-eff01de1d33a",
   "metadata": {},
   "outputs": [
    {
     "name": "stdout",
     "output_type": "stream",
     "text": [
      "Total Sum: 135\n",
      "Average Value: 22.5\n",
      "Maximum Value: 35\n"
     ]
    }
   ],
   "source": [
    "import pandas as pd\n",
    "\n",
    "data = {\n",
    "    'Category': ['A', 'A', 'B', 'B', 'A', 'B'],\n",
    "    'Value': [10, 15, 20, 25, 30, 35]\n",
    "}\n",
    "\n",
    "df = pd.DataFrame(data)\n",
    "\n",
    "# calculate total sum of the Value column\n",
    "total_sum = df['Value'].aggregate('sum')\n",
    "print(\"Total Sum:\", total_sum)\n",
    "\n",
    "# calculate the mean of the Value column\n",
    "average_value = df['Value'].aggregate('mean')\n",
    "print(\"Average Value:\", average_value)\n",
    "\n",
    "# calculate the maximum value in the Value column\n",
    "max_value = df['Value'].aggregate('max')\n",
    "print(\"Maximum Value:\", max_value)"
   ]
  },
  {
   "cell_type": "markdown",
   "id": "baf9189f-6932-4120-b929-e97c2b3233df",
   "metadata": {},
   "source": [
    "Here,\n",
    "\n",
    "- `df['Value'].aggregate('sum')` - calculates the total sum of the `Value` column in the `data` DataFrame\n",
    "- `df['Value'].aggregate('mean')` - calculates the mean (average) of the `Value` column in the `data` DataFrame\n",
    "- `df['Value'].aggregate('max')` - computes the maximum value in the `Value` column."
   ]
  },
  {
   "cell_type": "markdown",
   "id": "acb658eb-5da1-4070-8e4d-6cee15087646",
   "metadata": {},
   "source": [
    "## Apply Multiple Aggregate Functions in Pandas\n",
    "We can also apply multiple aggregation functions to one or more columns using the `aggregate()` function in Pandas. For example,"
   ]
  },
  {
   "cell_type": "code",
   "execution_count": 2,
   "id": "c6475a83-9dd0-4677-9e84-2466ca20a5ff",
   "metadata": {},
   "outputs": [
    {
     "name": "stdout",
     "output_type": "stream",
     "text": [
      "          sum       mean  max  min\n",
      "Category                          \n",
      "A          55  18.333333   30   10\n",
      "B          80  26.666667   35   20\n"
     ]
    }
   ],
   "source": [
    "import pandas as pd\n",
    "\n",
    "data = {\n",
    "    'Category': ['A', 'A', 'B', 'B', 'A', 'B'],\n",
    "    'Value': [10, 15, 20, 25, 30, 35]\n",
    "}\n",
    "\n",
    "df = pd.DataFrame(data)\n",
    "\n",
    "\n",
    "# applying multiple aggregation functions to a single column\n",
    "result = df.groupby('Category')['Value'].agg(['sum', 'mean', 'max', 'min'])\n",
    "print(result)"
   ]
  },
  {
   "cell_type": "markdown",
   "id": "c9b03c3c-2b2f-4001-ac8f-f2a67a1b37c7",
   "metadata": {},
   "source": [
    "In the above example, we're using the `aggregate()` function to apply multiple aggregation functions (`sum`, `mean`, `max`, and `min`) to the `Value` column after grouping by the `Category` column.\n",
    "\n",
    "The resulting DataFrame shows the calculated values for each category."
   ]
  },
  {
   "cell_type": "markdown",
   "id": "e4eeba5d-c65c-44ea-a3db-a0ddc52249b5",
   "metadata": {},
   "source": [
    "## Apply Different Aggregation Functions\n",
    "In Pandas, we can apply different aggregation functions to different columns using a dictionary with the `aggregate()` function. For example,"
   ]
  },
  {
   "cell_type": "code",
   "execution_count": 3,
   "id": "1a04430e-2993-4402-99b2-746b3dd61fec",
   "metadata": {},
   "outputs": [
    {
     "name": "stdout",
     "output_type": "stream",
     "text": [
      "         Value1     Value2    \n",
      "            sum       mean max\n",
      "Category                      \n",
      "A            55  10.333333  18\n",
      "B            80  16.000000  21\n"
     ]
    }
   ],
   "source": [
    "import pandas as pd\n",
    "\n",
    "data = {\n",
    "    'Category': ['A', 'A', 'B', 'B', 'A', 'B'],\n",
    "    'Value1': [10, 15, 20, 25, 30, 35],\n",
    "    'Value2': [5, 8, 12, 15, 18, 21]\n",
    "}\n",
    "\n",
    "df = pd.DataFrame(data)\n",
    "\n",
    "agg_funcs = {\n",
    "\n",
    " # applying 'sum' to Value1 column\n",
    "    'Value1': 'sum',   \n",
    "       \n",
    "# applying 'mean' and 'max' to Value2 column \n",
    "    'Value2': ['mean', 'max']   \n",
    "}\n",
    "\n",
    "result = df.groupby('Category').aggregate(agg_funcs)\n",
    "print(result)"
   ]
  },
  {
   "cell_type": "markdown",
   "id": "d4ec4eff-41df-4c54-afda-05bb525a8669",
   "metadata": {},
   "source": [
    "Here, we're using the `aggregate()` function to apply different aggregation functions to different columns after grouping by the `Category` column.\n",
    "\n",
    "The resulting DataFrame shows the calculated values for each category and each specified aggregation function."
   ]
  },
  {
   "cell_type": "code",
   "execution_count": null,
   "id": "25653aeb-5bbf-4c85-bd49-b8a280f0a0a2",
   "metadata": {},
   "outputs": [],
   "source": []
  }
 ],
 "metadata": {
  "kernelspec": {
   "display_name": "Python 3 (ipykernel)",
   "language": "python",
   "name": "python3"
  },
  "language_info": {
   "codemirror_mode": {
    "name": "ipython",
    "version": 3
   },
   "file_extension": ".py",
   "mimetype": "text/x-python",
   "name": "python",
   "nbconvert_exporter": "python",
   "pygments_lexer": "ipython3",
   "version": "3.9.1"
  }
 },
 "nbformat": 4,
 "nbformat_minor": 5
}
