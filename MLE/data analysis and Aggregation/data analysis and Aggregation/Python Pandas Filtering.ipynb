{
 "cells": [
  {
   "cell_type": "markdown",
   "id": "c0ea9669-6c5a-49da-9dbe-4aea491ededb",
   "metadata": {},
   "source": [
    "# Python Pandas Filtering\n",
    "Filtering data is a common operation in data analysis. Pandas allows us to filter data based on different conditions.\n",
    "\n",
    "We can filter the data in Pandas in two main ways:\n",
    "\n",
    "- By column names (Labels)\n",
    "- By the actual data inside (Values)"
   ]
  },
  {
   "cell_type": "markdown",
   "id": "75f431c8-fe88-44e4-af33-7dc83aca0aa2",
   "metadata": {},
   "source": [
    "## Filter Data By Labels\n",
    "We can use the `filter()` function to select columns by their names or labels. Let's look at an example."
   ]
  },
  {
   "cell_type": "code",
   "execution_count": 6,
   "id": "2fc60218-7c9f-4861-b1df-3fc2827ee558",
   "metadata": {},
   "outputs": [
    {
     "name": "stdout",
     "output_type": "stream",
     "text": [
      "Original DataFrame:\n",
      "      Name Department  Salary\n",
      "0    Alice         HR   50000\n",
      "1      Bob  Marketing   60000\n",
      "2  Charlie  Marketing   55000\n",
      "3    David         IT   70000\n",
      "\n",
      "\n",
      "Filtered DataFrame:\n",
      "      Name  Salary\n",
      "0    Alice   50000\n",
      "1      Bob   60000\n",
      "2  Charlie   55000\n",
      "3    David   70000\n"
     ]
    }
   ],
   "source": [
    "import pandas as pd\n",
    "\n",
    "# create a DataFrame\n",
    "data = {'Name': ['Alice', 'Bob', 'Charlie', 'David'],\n",
    "        'Department': ['HR', 'Marketing', 'Marketing', 'IT'],\n",
    "        'Salary': [50000, 60000, 55000, 70000]}\n",
    "\n",
    "df = pd.DataFrame(data)\n",
    "\n",
    "# display the original DataFrame\n",
    "print(\"Original DataFrame:\")\n",
    "print(df)\n",
    "print(\"\\n\")\n",
    "\n",
    "# use the filter() method to select columns based on a condition\n",
    "filtered_df = df.filter(items=['Name', 'Salary']) \n",
    "\n",
    "# display the filtered DataFrame\n",
    "print(\"Filtered DataFrame:\")\n",
    "print(filtered_df)"
   ]
  },
  {
   "cell_type": "markdown",
   "id": "65ac4286-e827-4949-9532-af8a0df2768f",
   "metadata": {},
   "source": [
    "In this example, we used `filter()` to select the columns `Name` and `Salary` using their columns names."
   ]
  },
  {
   "cell_type": "markdown",
   "id": "c019f24c-6d81-42d5-82b8-066fab91b648",
   "metadata": {},
   "source": [
    "## Filter Data By Values\n",
    "We can also filter data by values. Some of the common ways to filter data by values are:\n",
    "\n",
    "- Using logical operator\n",
    "- The `isin()` method\n",
    "- The `str` Accessor\n",
    "- The `query()` method"
   ]
  },
  {
   "cell_type": "markdown",
   "id": "e710e212-7b33-44fe-9f4c-98ee4a963243",
   "metadata": {},
   "source": [
    "## Logical Operators\n",
    "You can filter rows based on column values using logical operators. For example,"
   ]
  },
  {
   "cell_type": "code",
   "execution_count": 8,
   "id": "55d77c29-524d-4eb2-ba4e-8605cfa5272b",
   "metadata": {},
   "outputs": [
    {
     "name": "stdout",
     "output_type": "stream",
     "text": [
      "Original DataFrame:\n",
      "      Name Department  Salary\n",
      "0    Alice         HR   50000\n",
      "1      Bob  Marketing   60000\n",
      "2  Charlie  Marketing   55000\n",
      "3    David         IT   70000\n",
      "\n",
      "\n",
      "Filtered DataFrame:\n",
      "    Name Department  Salary\n",
      "1    Bob  Marketing   60000\n",
      "3  David         IT   70000\n"
     ]
    }
   ],
   "source": [
    "import pandas as pd\n",
    "\n",
    "# create a sample DataFrame\n",
    "data = {'Name': ['Alice', 'Bob', 'Charlie', 'David'],\n",
    "        'Department': ['HR', 'Marketing', 'Marketing', 'IT'],\n",
    "        'Salary': [50000, 60000, 55000, 70000]}\n",
    "\n",
    "df = pd.DataFrame(data)\n",
    "\n",
    "# display the original DataFrame\n",
    "print(\"Original DataFrame:\")\n",
    "print(df)\n",
    "print(\"\\n\")\n",
    "\n",
    "# use logical operators to filter\n",
    "filtered_df = df[df.Salary > 55000]\n",
    "\n",
    "# display the filtered DataFrame\n",
    "print(\"Filtered DataFrame:\")\n",
    "print(filtered_df)"
   ]
  },
  {
   "cell_type": "markdown",
   "id": "ad2a4b7a-1f35-41da-95ee-902e2fc0977f",
   "metadata": {},
   "source": [
    "In the above example, we selected the rows based on the condition `Salary > 55000` using logical operator `>`."
   ]
  },
  {
   "cell_type": "markdown",
   "id": "cda2f3d5-5c12-439a-838e-5f8063169881",
   "metadata": {},
   "source": [
    "## The isin() Method\n",
    "The `isin()` method provides another way to filter data using column values. Let's look at an example."
   ]
  },
  {
   "cell_type": "code",
   "execution_count": 10,
   "id": "de7b5e17-a21b-4b0d-90e5-019c42bb9a74",
   "metadata": {},
   "outputs": [
    {
     "name": "stdout",
     "output_type": "stream",
     "text": [
      "Original DataFrame:\n",
      "      Name Department  Salary\n",
      "0    Alice         HR   50000\n",
      "1      Bob  Marketing   60000\n",
      "2  Charlie  Marketing   55000\n",
      "3    David         IT   70000\n",
      "\n",
      "\n",
      "Filtered DataFrame:\n",
      "    Name Department  Salary\n",
      "0  Alice         HR   50000\n",
      "3  David         IT   70000\n"
     ]
    }
   ],
   "source": [
    "import pandas as pd\n",
    "\n",
    "# create a sample DataFrame\n",
    "data = {'Name': ['Alice', 'Bob', 'Charlie', 'David'],\n",
    "        'Department': ['HR', 'Marketing', 'Marketing', 'IT'],\n",
    "        'Salary': [50000, 60000, 55000, 70000]}\n",
    "\n",
    "df = pd.DataFrame(data)\n",
    "\n",
    "# display the original DataFrame\n",
    "print(\"Original DataFrame:\")\n",
    "print(df)\n",
    "print(\"\\n\")\n",
    "\n",
    "# use isin() method\n",
    "departments = ['HR', 'IT']\n",
    "filtered_df = df[df.Department.isin(departments)]\n",
    "\n",
    "# display the filtered DataFrame\n",
    "print(\"Filtered DataFrame:\")\n",
    "print(filtered_df)"
   ]
  },
  {
   "cell_type": "markdown",
   "id": "6cbdcf4f-9043-40a7-a7ff-e99b6c5453e0",
   "metadata": {},
   "source": [
    "In this example, we selected the rows whose `Department` values are present in the `departments` list."
   ]
  },
  {
   "cell_type": "markdown",
   "id": "f90c0d0b-d529-4d52-be9f-283f27ecdf32",
   "metadata": {},
   "source": [
    "## The str Accessor\n",
    "We can effectively filter rows based on string values using the `str` accessor. Let's look at an example."
   ]
  },
  {
   "cell_type": "code",
   "execution_count": 14,
   "id": "0b056eb9-c435-4af5-8621-b5e5131bb74c",
   "metadata": {},
   "outputs": [
    {
     "name": "stdout",
     "output_type": "stream",
     "text": [
      "Original DataFrame:\n",
      "      Name Department  Salary\n",
      "0    Alice         HR   50000\n",
      "1      Bob  Marketing   60000\n",
      "2  Charlie  Marketing   55000\n",
      "3    David         IT   70000\n",
      "\n",
      "\n",
      "Filtered DataFrame:\n",
      "      Name Department  Salary\n",
      "1      Bob  Marketing   60000\n",
      "2  Charlie  Marketing   55000\n"
     ]
    }
   ],
   "source": [
    "import pandas as pd\n",
    "\n",
    "# create a sample DataFrame\n",
    "data = {'Name': ['Alice', 'Bob', 'Charlie', 'David'],\n",
    "        'Department': ['HR', 'Marketing', 'Marketing', 'IT'],\n",
    "        'Salary': [50000, 60000, 55000, 70000]}\n",
    "\n",
    "df = pd.DataFrame(data)\n",
    "\n",
    "# display the original DataFrame\n",
    "print(\"Original DataFrame:\")\n",
    "print(df)\n",
    "print(\"\\n\")\n",
    "\n",
    "# use str accessor\n",
    "filtered_df = df[df.Department.str.contains('Market')]\n",
    "\n",
    "# display the filtered DataFrame\n",
    "print(\"Filtered DataFrame:\")\n",
    "print(filtered_df)"
   ]
  },
  {
   "cell_type": "markdown",
   "id": "700154f8-b995-4b82-a4cf-8d8227a0b079",
   "metadata": {},
   "source": [
    "Here, we filtered the rows based on a string value. We only selected the rows whose `Department` values contained the string `Market`."
   ]
  },
  {
   "cell_type": "markdown",
   "id": "1b5c7898-ef58-400a-8229-e5f36c0820e2",
   "metadata": {},
   "source": [
    "## The query() Method\n",
    "This is the most flexible method for filtering a dataframe based on column values.\n",
    "\n",
    "A query containing the filtering conditions can be passed as a string to the `query()` method.\n",
    "\n",
    "Let's look at an example."
   ]
  },
  {
   "cell_type": "code",
   "execution_count": 29,
   "id": "47139a68-9097-4369-aecd-dde0b922b62a",
   "metadata": {},
   "outputs": [
    {
     "name": "stdout",
     "output_type": "stream",
     "text": [
      "Original DataFrame:\n",
      "      Name Department  Salary\n",
      "0    Alice         HR   50000\n",
      "1      Bob  Marketing   60000\n",
      "2  Charlie  Marketing   55000\n",
      "3    David         IT   70000\n",
      "\n",
      "\n",
      "Filtered DataFrame:\n",
      "  Name Department  Salary\n",
      "1  Bob  Marketing   60000\n"
     ]
    }
   ],
   "source": [
    "import pandas as pd\n",
    "\n",
    "# create a sample DataFrame\n",
    "data = {'Name': ['Alice', 'Bob', 'Charlie', 'David'],\n",
    "        'Department': ['HR', 'Marketing', 'Marketing', 'IT'],\n",
    "        'Salary': [50000, 60000, 55000, 70000]}\n",
    "\n",
    "df = pd.DataFrame(data)\n",
    "\n",
    "# display the original DataFrame\n",
    "print(\"Original DataFrame:\")\n",
    "print(df)\n",
    "print(\"\\n\")\n",
    "\n",
    "# use query method\n",
    "filtered_df = df.query('Salary > 55000 and Department == \"Marketing\"')\n",
    "\n",
    "# display the filtered DataFrame\n",
    "print(\"Filtered DataFrame:\")\n",
    "print(filtered_df)"
   ]
  },
  {
   "cell_type": "markdown",
   "id": "95a25e78-5776-4876-9ec5-bd1fad2b4ffa",
   "metadata": {},
   "source": [
    "In this example, we selected the rows with `Salary > 55000` and `Department == \"Marketing\"` using the `query()` method."
   ]
  },
  {
   "cell_type": "markdown",
   "id": "95c0c3a3-0815-48f4-8c39-793bcaf94662",
   "metadata": {},
   "source": [
    "## Pandas Sort\n",
    "Sorting is a fundamental operation in data manipulation and analysis that involves arranging data in a specific order.\n",
    "\n",
    "Sorting is crucial for tasks such as organizing data for better readability, identifying patterns, making comparisons, and facilitating further analysis."
   ]
  },
  {
   "cell_type": "markdown",
   "id": "88153d49-62d9-4377-ba46-9ca80d805e74",
   "metadata": {},
   "source": [
    "### Sort DataFrame in Pandas\n",
    "In Pandas, we can use the `sort_values()` function to sort a DataFrame. For example,"
   ]
  },
  {
   "cell_type": "code",
   "execution_count": 30,
   "id": "23f7baed-d6c4-4d24-9f3e-0c197b62d833",
   "metadata": {},
   "outputs": [
    {
     "name": "stdout",
     "output_type": "stream",
     "text": [
      "   Name  Age\n",
      "    Bob   22\n",
      "Charlie   25\n",
      "  Alice   28\n"
     ]
    }
   ],
   "source": [
    "import pandas as pd\n",
    "\n",
    "data = {'Name': ['Alice', 'Bob', 'Charlie'],\n",
    "        'Age': [28, 22, 25]}\n",
    "df = pd.DataFrame(data)\n",
    "\n",
    "# sort DataFrame by Age in ascending order\n",
    "sorted_df = df.sort_values(by='Age')\n",
    "\n",
    "print(sorted_df.to_string(index=False))\n"
   ]
  },
  {
   "cell_type": "markdown",
   "id": "1073839d-cc0d-4800-ab69-6aa929db6dad",
   "metadata": {},
   "source": [
    "In the above example, `df.sort_values(by='Age')` sorts the `df` DataFrame based on the values in the Age column in ascending order. And the result is stored in the `sorted_df` variable."
   ]
  },
  {
   "cell_type": "markdown",
   "id": "ad7278e9-95dd-4129-9178-6a01b059cc9a",
   "metadata": {},
   "source": [
    "To sort values in descending order, we use the ascending parameter as:\n",
    "\n",
    "```python\n",
    "sorted_df = df.sort_values(by='Age', ascending=False)"
   ]
  },
  {
   "cell_type": "markdown",
   "id": "55ece2b0-f341-4c4f-b203-9cec51f7f214",
   "metadata": {},
   "source": [
    "**Note:** The `.to_string(index=False)` is used to display values without the index."
   ]
  },
  {
   "cell_type": "markdown",
   "id": "32661138-8c1f-45a8-ae8d-6975061f6a11",
   "metadata": {},
   "source": [
    "## Sort Pandas DataFrame by Multiple Columns\n",
    "We can also sort DataFrame by multiple columns in Pandas. When we sort a Pandas DataFrame by multiple columns, the sorting is done with a priority given to the order of the columns listed.\n",
    "\n",
    "To sort by multiple columns in Pandas, you can pass the desired columns as a list to the `by` parameter in the `sort_values()` method. Here's how we do it."
   ]
  },
  {
   "cell_type": "code",
   "execution_count": 32,
   "id": "32bdf984-ed89-4734-989f-e7d033c0f1b9",
   "metadata": {},
   "outputs": [
    {
     "name": "stdout",
     "output_type": "stream",
     "text": [
      "Sorting by 'Age' (ascending) and then by 'Score' (ascending):\n",
      "\n",
      "   Name  Age  Score\n",
      "  David   22     80\n",
      "    Bob   22     90\n",
      "  Alice   25     85\n",
      "Charlie   30     75\n",
      "\n",
      "Sorting by 'Age' (ascending) and then by 'Score' (descending):\n",
      "\n",
      "   Name  Age  Score\n",
      "    Bob   22     90\n",
      "  David   22     80\n",
      "  Alice   25     85\n",
      "Charlie   30     75\n"
     ]
    }
   ],
   "source": [
    "import pandas as pd\n",
    "\n",
    "data = {'Name': ['Alice', 'Bob', 'Charlie', 'David'],\n",
    "        'Age': [25, 22, 30, 22],\n",
    "        'Score': [85, 90, 75, 80]}\n",
    "\n",
    "df = pd.DataFrame(data)\n",
    "\n",
    "# 1. Sort DataFrame by 'Age' and then by 'Score' (Both in ascending order)\n",
    "df1 = df.sort_values(by=['Age', 'Score'])\n",
    "\n",
    "print(\"Sorting by 'Age' (ascending) and then by 'Score' (ascending):\\n\")\n",
    "print(df1.to_string(index=False))\n",
    "\n",
    "print()\n",
    "# 2. Sort DataFrame by 'Age' in ascending order, and then by 'Score' in descending order\n",
    "df2 = df.sort_values(by=['Age', 'Score'], ascending=[True, False])\n",
    "\n",
    "print(\"Sorting by 'Age' (ascending) and then by 'Score' (descending):\\n\")\n",
    "print(df2.to_string(index=False))"
   ]
  },
  {
   "cell_type": "markdown",
   "id": "27c4ed31-a558-4736-a83f-bb86c2a9656e",
   "metadata": {},
   "source": [
    "Here,\n",
    "\n",
    "1. `df1` shows the default sorting behavior (both columns in ascending order).\n",
    "2. `df2` shows custom sorting, where `Age` is in ascending and `Score` is in descending order."
   ]
  },
  {
   "cell_type": "markdown",
   "id": "409b5ff6-ff5e-456b-bb73-693877270fa0",
   "metadata": {},
   "source": [
    "## Sort Pandas Series\n",
    "In Pandas, we can use the `sort_values()` function to sort a Series. For example,"
   ]
  },
  {
   "cell_type": "code",
   "execution_count": 33,
   "id": "c22e1c9d-0cbe-4a03-b857-4049ac97c2de",
   "metadata": {},
   "outputs": [
    {
     "name": "stdout",
     "output_type": "stream",
     "text": [
      "22\n",
      "25\n",
      "28\n"
     ]
    }
   ],
   "source": [
    "import pandas as pd\n",
    "\n",
    "ages = pd.Series([28, 22, 25], name='Age')\n",
    "\n",
    "# sort Series in ascending order\n",
    "sorted_ages = ages.sort_values()\n",
    "\n",
    "print(sorted_ages.to_string(index=False))"
   ]
  },
  {
   "cell_type": "markdown",
   "id": "edf7b596-2243-4b65-b135-f0750567fae0",
   "metadata": {},
   "source": [
    "Here, `ages.sort_values()` sorts the `ages` Series in ascending order. The sorted result is assigned to the `sorted_ages` variable."
   ]
  },
  {
   "cell_type": "markdown",
   "id": "2610436c-1202-40b0-8d75-60f33035bf32",
   "metadata": {},
   "source": [
    "## #index Sort Pandas DataFrame Using sort_index()\n",
    "We can also sort by the index of a DataFrame in Pandas using the `sort_index()` function.\n",
    "\n",
    "The `sort_index()` function is used to sort a DataFrame or Series by its index. This is useful for organizing data in a logical order, improving query performance, and ensuring consistent data representation.\n",
    "\n",
    "Let's look at an example."
   ]
  },
  {
   "cell_type": "code",
   "execution_count": 34,
   "id": "2f210dff-53de-4029-9095-900ed8565393",
   "metadata": {},
   "outputs": [
    {
     "name": "stdout",
     "output_type": "stream",
     "text": [
      "Original DataFrame:\n",
      "      Name  Age\n",
      "2    Alice   28\n",
      "0      Bob   22\n",
      "1  Charlie   25\n",
      "\n",
      "\n",
      "Sorted DataFrame by index:\n",
      "      Name  Age\n",
      "0      Bob   22\n",
      "1  Charlie   25\n",
      "2    Alice   28\n"
     ]
    }
   ],
   "source": [
    "import pandas as pd\n",
    "\n",
    "data = {'Name': ['Alice', 'Bob', 'Charlie'],\n",
    "        'Age': [28, 22, 25]}\n",
    "# create a DataFrame with a non-sequential index\n",
    "df = pd.DataFrame(data, index=[2, 0, 1])\n",
    "\n",
    "print(\"Original DataFrame:\")\n",
    "print(df.to_string(index=True))\n",
    "print(\"\\n\")\n",
    " \n",
    "# sort DataFrame by index in ascending order\n",
    "sorted_df = df.sort_index()\n",
    "\n",
    "print(\"Sorted DataFrame by index:\")\n",
    "print(sorted_df.to_string(index=True))"
   ]
  },
  {
   "cell_type": "markdown",
   "id": "74c010b3-024c-4c72-90b9-b6c29a170bd1",
   "metadata": {},
   "source": [
    "In the above example, we have created the `df` DataFrame with a non-sequential index from the data dictionary.\n",
    "\n",
    "The `index` parameter is specified as `[2, 0, 1]`, meaning that the rows will not have a default sequential index **(0, 1, 2)**, but rather the provided non-sequential index.\n",
    "\n",
    "Then we sorted the `df` DataFrame by its index in ascending order using the `sort_index()` method."
   ]
  },
  {
   "cell_type": "markdown",
   "id": "05e143fd-8b98-43d7-88e9-672a13d7c8ab",
   "metadata": {},
   "source": [
    "## Pandas Correlation\n",
    "Correlation is a statistical concept that quantifies the degree to which two variables are related to each other.\n",
    "\n",
    "Correlation can be calculated in Pandas using the `corr()` function.\n",
    "\n",
    "Let's look at an example."
   ]
  },
  {
   "cell_type": "code",
   "execution_count": 35,
   "id": "b7c4cd27-5df8-4915-b282-c5e973432422",
   "metadata": {},
   "outputs": [
    {
     "name": "stdout",
     "output_type": "stream",
     "text": [
      "                 Temperature  Ice_Cream_Sales\n",
      "Temperature         1.000000         0.923401\n",
      "Ice_Cream_Sales     0.923401         1.000000\n"
     ]
    }
   ],
   "source": [
    "import pandas as pd\n",
    "\n",
    "# create dataframe\n",
    "data = {\n",
    "    \"Temperature\": [22, 25, 32, 28, 30],\n",
    "    \"Ice_Cream_Sales\": [105, 120, 135, 130, 125]\n",
    "}\n",
    "\n",
    "df = pd.DataFrame(data)\n",
    "\n",
    "# calculate correlation matrix\n",
    "print(df.corr())"
   ]
  },
  {
   "cell_type": "code",
   "execution_count": null,
   "id": "e631fe0e-aa93-4686-b1df-68bbe7f69061",
   "metadata": {},
   "outputs": [],
   "source": [
    "In this example, we used the `corr()` method on the DataFrame `df` to calculate the correlation coefficients between the columns.\n",
    "\n",
    "The output is a correlation matrix that displays the correlation coefficients between all pairs of columns in the dataframe. In this case, there are only two columns, so the matrix is **2x2**.\n",
    "\n",
    "Here, the correlation coefficient between `Temperature` and `Ice_Cream_Sales` is **0.923401**, which is positive. This indicates that as the temperature increases, the ice cream sales also increase.\n",
    "\n",
    "The coefficient value of **1.000000** along the diagonal represents the correlation of each column with itself."
   ]
  }
 ],
 "metadata": {
  "kernelspec": {
   "display_name": "Python 3 (ipykernel)",
   "language": "python",
   "name": "python3"
  },
  "language_info": {
   "codemirror_mode": {
    "name": "ipython",
    "version": 3
   },
   "file_extension": ".py",
   "mimetype": "text/x-python",
   "name": "python",
   "nbconvert_exporter": "python",
   "pygments_lexer": "ipython3",
   "version": "3.9.1"
  }
 },
 "nbformat": 4,
 "nbformat_minor": 5
}
