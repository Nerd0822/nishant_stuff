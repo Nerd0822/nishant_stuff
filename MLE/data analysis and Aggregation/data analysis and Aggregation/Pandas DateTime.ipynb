{
 "cells": [
  {
   "cell_type": "markdown",
   "id": "958301fe-a583-40ae-8f8e-91ebdbd380a3",
   "metadata": {},
   "source": [
    "# Pandas DateTime\n",
    "In Pandas, DateTime is a data type that represents a single point in time. It is especially useful when dealing with time-series data like stock prices, weather records, economic indicators etc.\n",
    "\n",
    "We use the `to_datetime()` function to convert strings to the DateTime object. Let's look at an example."
   ]
  },
  {
   "cell_type": "code",
   "execution_count": 1,
   "id": "81bd39f3-b270-45e7-8b23-9d4fab73ee61",
   "metadata": {},
   "outputs": [
    {
     "name": "stdout",
     "output_type": "stream",
     "text": [
      "String: 2001-12-24 12:38\n",
      "DateTime: 2001-12-24 12:38:00\n",
      "<class 'pandas._libs.tslibs.timestamps.Timestamp'>\n"
     ]
    }
   ],
   "source": [
    "import pandas as pd\n",
    "\n",
    "# create a datetime string\n",
    "date_string = '2001-12-24 12:38'\n",
    "\n",
    "print(\"String:\", date_string)\n",
    "\n",
    "# convert string to datetime\n",
    "date = pd.to_datetime(date_string)\n",
    "\n",
    "print(\"DateTime:\", date)\n",
    "print(type(date))"
   ]
  },
  {
   "cell_type": "markdown",
   "id": "90c2b8e5-61d9-4769-b1f9-65e6397baccd",
   "metadata": {},
   "source": [
    "In the above example, we used `to_datetime()` to convert a string to `DateTime`."
   ]
  },
  {
   "cell_type": "markdown",
   "id": "b01c9cef-1326-484d-aa8d-7d85c0e28318",
   "metadata": {},
   "source": [
    "## Convert String to DateTime\n",
    "As shown in the example above, we can convert any valid string to DateTime using `to_datetime()`.\n",
    "\n",
    "Let's look at some examples.\n",
    "\n",
    "## Example: `to_datetime()` With Default Arguments"
   ]
  },
  {
   "cell_type": "code",
   "execution_count": 2,
   "id": "a1f82ca6-87cf-4b22-b453-42004398915d",
   "metadata": {},
   "outputs": [
    {
     "name": "stdout",
     "output_type": "stream",
     "text": [
      "        date\n",
      "0 2021-01-13\n",
      "1 2022-10-22\n",
      "2 2023-12-03\n"
     ]
    }
   ],
   "source": [
    "import pandas as pd\n",
    "\n",
    "# create a dataframe with date strings\n",
    "df = pd.DataFrame({'date': ['2021-01-13', '2022-10-22', '2023-12-03']})\n",
    "\n",
    "# convert the 'date' column to datetime\n",
    "df['date'] = pd.to_datetime(df['date'])\n",
    "\n",
    "print(df)"
   ]
  },
  {
   "cell_type": "markdown",
   "id": "e2bcf923-ffa9-4577-9bd6-5bd3764cf9e9",
   "metadata": {},
   "source": [
    "In this example, we converted the column `date` from string to DateTime data type.\n",
    "\n",
    "By default, Pandas' `to_datetime()` function expects the date string to be in the `YYYY-MM-DD` format."
   ]
  },
  {
   "cell_type": "markdown",
   "id": "3e07363b-c5f4-4c6a-ac04-3bf92e7afe57",
   "metadata": {},
   "source": [
    "## Example: to_datetime() With Day First Format"
   ]
  },
  {
   "cell_type": "code",
   "execution_count": 3,
   "id": "03e8f74d-60e5-433b-a7d8-3b63bfba1581",
   "metadata": {},
   "outputs": [
    {
     "name": "stdout",
     "output_type": "stream",
     "text": [
      "        date\n",
      "0 2021-02-13\n",
      "1 2022-03-22\n",
      "2 2023-04-30\n"
     ]
    }
   ],
   "source": [
    "import pandas as pd\n",
    "\n",
    "# create a dataframe with date strings in day-first format\n",
    "df = pd.DataFrame({'date': ['13-02-2021', '22-03-2022', '30-04-2023']})\n",
    "\n",
    "# convert the 'date' column to datetime with day-first format\n",
    "df['date'] = pd.to_datetime(df['date'], dayfirst=True)\n",
    "\n",
    "print(df)"
   ]
  },
  {
   "cell_type": "markdown",
   "id": "b969ef2e-8698-479f-9cc0-64d45705d82e",
   "metadata": {},
   "source": [
    "In this example, the date column contains strings in the format `DD-MM-YYYY`.\n",
    "\n",
    "We passed `dayfirst=True` to `to_datetime()` function to convert the string in day first format to DateTime.\n",
    "\n",
    "Notice that the DateTime data is always in the format `YYYY-MM-DD`."
   ]
  },
  {
   "cell_type": "markdown",
   "id": "c7444a8d-a7de-4f03-ad89-dc16c8fbb372",
   "metadata": {},
   "source": [
    "## Example: to_datetime() With Custom Format"
   ]
  },
  {
   "cell_type": "code",
   "execution_count": 4,
   "id": "4efd7abc-fa0b-444a-b9e2-43503db626c5",
   "metadata": {},
   "outputs": [
    {
     "name": "stdout",
     "output_type": "stream",
     "text": [
      "        date\n",
      "0 2021-01-22\n",
      "1 2022-01-13\n",
      "2 2023-03-30\n"
     ]
    }
   ],
   "source": [
    "import pandas as pd\n",
    "\n",
    "# create a dataframe with date strings in custom format\n",
    "df = pd.DataFrame({'date': ['2021/22/01', '2022/13/01', '2023/30/03']})\n",
    "\n",
    "# convert the 'date' column to datetime with custom format\n",
    "df['date'] = pd.to_datetime(df['date'], format='%Y/%d/%m')\n",
    "\n",
    "print(df)"
   ]
  },
  {
   "cell_type": "markdown",
   "id": "0a644f94-8bff-47fe-81ec-ec48051af71f",
   "metadata": {},
   "source": [
    "In this example, we converted the date column from string (in `YY/DD/MM` format) to DateTime data type"
   ]
  },
  {
   "cell_type": "markdown",
   "id": "b6b8cb9f-403c-48bf-b8a4-b186699a19ac",
   "metadata": {},
   "source": [
    "## Get DateTime From Multiple Columns\n",
    "We can also use the `to_datetime()` function to assemble the DateTime from multiple columns.\n",
    "\n",
    "Let's look at an example."
   ]
  },
  {
   "cell_type": "code",
   "execution_count": 5,
   "id": "c3ac1a90-a613-4a62-ad0c-776e8909871f",
   "metadata": {},
   "outputs": [
    {
     "name": "stdout",
     "output_type": "stream",
     "text": [
      "   year  month  day  hour  minute  second            datetime\n",
      "0  2021      1    1    10      30       0 2021-01-01 10:30:00\n",
      "1  2022      2    2    11      45       0 2022-02-02 11:45:00\n",
      "2  2023      3    3    12       0       0 2023-03-03 12:00:00\n"
     ]
    }
   ],
   "source": [
    "import pandas as pd\n",
    "\n",
    "# create a dataframe with separate date and time columns\n",
    "df = pd.DataFrame({'year': [2021, 2022, 2023],\n",
    "                   'month': [1, 2, 3],\n",
    "                   'day': [1, 2, 3],\n",
    "                   'hour': [10, 11, 12],\n",
    "                   'minute': [30, 45, 0],\n",
    "                   'second': [0, 0, 0]})\n",
    "\n",
    "# combine date and time columns to create a datetime column\n",
    "df['datetime'] = pd.to_datetime(df[['year', 'month', 'day', 'hour', 'minute', 'second']])\n",
    "\n",
    "print(df)"
   ]
  },
  {
   "cell_type": "markdown",
   "id": "dbfe5766-5f14-432e-9c24-067080cebead",
   "metadata": {},
   "source": [
    "In this example, we assembled the complete date and time from different columns by passing the list of columns to the `to_datetime()` function."
   ]
  },
  {
   "cell_type": "markdown",
   "id": "c866f8a1-05e3-4a4a-a0a8-6668364076b4",
   "metadata": {},
   "source": [
    "## Get Year, Month and Day From DateTime\n",
    "We can use the inbuilt attributes `dt.year`, `dt.month` and `dt.day` to get year, month and day respectively from Pandas DateTime object.\n",
    "\n",
    "Let's look at an example."
   ]
  },
  {
   "cell_type": "code",
   "execution_count": 6,
   "id": "2ed064e4-a93f-44b2-a587-98a921220bf5",
   "metadata": {},
   "outputs": [
    {
     "name": "stdout",
     "output_type": "stream",
     "text": [
      "    datetime  year  month  day\n",
      "0 2021-01-01  2021      1    1\n",
      "1 2022-02-02  2022      2    2\n",
      "2 2023-03-03  2023      3    3\n"
     ]
    }
   ],
   "source": [
    "import pandas as pd\n",
    "\n",
    "# create a dataframe with a datetime column\n",
    "df = pd.DataFrame({'datetime': ['2021-01-01', '2022-02-02', '2023-03-03']})\n",
    "\n",
    "# convert the 'datetime' column to datetime type\n",
    "df['datetime'] = pd.to_datetime(df['datetime'])\n",
    "\n",
    "# extract year, month, and day into separate columns\n",
    "df['year'] = df['datetime'].dt.year\n",
    "df['month'] = df['datetime'].dt.month\n",
    "df['day'] = df['datetime'].dt.day\n",
    "\n",
    "print(df)"
   ]
  },
  {
   "cell_type": "markdown",
   "id": "bec1fae2-fc5c-4815-9cc6-c6424822eb95",
   "metadata": {},
   "source": [
    "## Get Day of Week, Week of Year and Leap Year\n",
    "We also have inbuilt attributes to get the day of the week, week of the year and to check whether the given year is a leap year.\n",
    "\n",
    "For example,"
   ]
  },
  {
   "cell_type": "code",
   "execution_count": 7,
   "id": "98071547-bb25-44e6-bcad-7db78cf5afdb",
   "metadata": {},
   "outputs": [
    {
     "name": "stdout",
     "output_type": "stream",
     "text": [
      "    datetime day_of_week  week_of_year  leap_year\n",
      "0 2021-01-01      Friday            53      False\n",
      "1 2024-02-02      Friday             5       True\n",
      "2 2023-03-03      Friday             9      False\n"
     ]
    }
   ],
   "source": [
    "import pandas as pd\n",
    "\n",
    "# create a dataframe with a datetime column\n",
    "df = pd.DataFrame({'datetime': ['2021-01-01', '2024-02-02', '2023-03-03']})\n",
    "\n",
    "# convert the 'datetime' column to datetime type\n",
    "df['datetime'] = pd.to_datetime(df['datetime'])\n",
    "\n",
    "# get the day of the week\n",
    "df['day_of_week'] = df['datetime'].dt.day_name()\n",
    "\n",
    "# get the week of the year\n",
    "df['week_of_year'] = df['datetime'].dt.isocalendar().week\n",
    "\n",
    "# check for leap year\n",
    "df['leap_year'] = df['datetime'].dt.is_leap_year\n",
    "\n",
    "print(df)"
   ]
  },
  {
   "cell_type": "markdown",
   "id": "c969877e-a7b3-44bb-bc06-5367e5a6c626",
   "metadata": {},
   "source": [
    "Here,\n",
    "\n",
    "- `dt.day_name()`- returns the day of the week\n",
    "- `dt.isocalender().week`- week returns the week of the year and\n",
    "- `dt.is_leap_year`- checks if the DateTime is a leap year."
   ]
  },
  {
   "cell_type": "markdown",
   "id": "73e4ce08-740f-4e27-bfc6-a21f453d1955",
   "metadata": {},
   "source": [
    "## DateTime Index in Pandas\n",
    "DateTime index in Pandas uses DateTime values as index values.\n",
    "\n",
    "A datetime index is particularly useful when dealing with time series data like weather data, stock prices, and other time-dependent data, as it allows natural organization and manipulation based on timestamps.\n",
    "\n",
    "Let's look at an example"
   ]
  },
  {
   "cell_type": "code",
   "execution_count": 8,
   "id": "7896d311-d579-4975-82ae-7f41ffd9bcd8",
   "metadata": {},
   "outputs": [
    {
     "name": "stdout",
     "output_type": "stream",
     "text": [
      "            values\n",
      "2021-01-01      10\n",
      "2021-01-02      20\n",
      "2021-01-03      30\n",
      "2021-01-04      40\n",
      "2021-01-05      50\n"
     ]
    }
   ],
   "source": [
    "import pandas as pd\n",
    "\n",
    "# create a list of datetime values\n",
    "dates = ['2021-01-01', '2021-01-02', '2021-01-03', '2021-01-04', '2021-01-05']\n",
    "\n",
    "# create a DataFrame with a DateTimeIndex\n",
    "df = pd.DataFrame({'values': [10, 20, 30, 40, 50]}, index=pd.to_datetime(dates))\n",
    "\n",
    "print(df)"
   ]
  },
  {
   "cell_type": "code",
   "execution_count": null,
   "id": "5238abb8-3060-4cce-9f99-8136da2de7ba",
   "metadata": {},
   "outputs": [],
   "source": []
  }
 ],
 "metadata": {
  "kernelspec": {
   "display_name": "Python 3 (ipykernel)",
   "language": "python",
   "name": "python3"
  },
  "language_info": {
   "codemirror_mode": {
    "name": "ipython",
    "version": 3
   },
   "file_extension": ".py",
   "mimetype": "text/x-python",
   "name": "python",
   "nbconvert_exporter": "python",
   "pygments_lexer": "ipython3",
   "version": "3.9.1"
  }
 },
 "nbformat": 4,
 "nbformat_minor": 5
}
