{
 "cells": [
  {
   "cell_type": "code",
   "execution_count": null,
   "id": "c49d87ac-0769-4e1b-9c63-72c8183d977a",
   "metadata": {},
   "outputs": [],
   "source": []
  }
 ],
 "metadata": {
  "kernelspec": {
   "display_name": "",
   "name": ""
  },
  "language_info": {
   "name": ""
  }
 },
 "nbformat": 4,
 "nbformat_minor": 5
}
