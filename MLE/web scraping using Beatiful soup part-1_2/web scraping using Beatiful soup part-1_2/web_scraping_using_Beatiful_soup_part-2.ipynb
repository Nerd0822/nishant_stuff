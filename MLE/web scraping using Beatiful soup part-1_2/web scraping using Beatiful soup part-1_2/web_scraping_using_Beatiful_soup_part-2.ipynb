{
 "cells": [
  {
   "cell_type": "code",
   "execution_count": 59,
   "id": "8eabcac3-6a34-43e9-a4b4-ee44a969d34f",
   "metadata": {},
   "outputs": [],
   "source": [
    "#Packages\n",
    "#--Web scraping packages\n",
    "from bs4 import BeautifulSoup\n",
    "import requests\n",
    "#Pandas/numpy for data manipulation\n",
    "import pandas as pd\n",
    "import numpy as np\n",
    "import matplotlib.pyplot as plt"
   ]
  },
  {
   "cell_type": "markdown",
   "id": "ac6ee7f3-b376-4e53-beb6-996584904489",
   "metadata": {},
   "source": [
    "The urllib.request module is used to open URLs. The Beautiful Soup package is used to extract data from html files. The Beautiful Soup library's name is bs4 which stands for Beautiful Soup, version 4.¶"
   ]
  },
  {
   "cell_type": "code",
   "execution_count": 60,
   "id": "9ebddc06-1739-403a-bf6a-15cef348a9ce",
   "metadata": {},
   "outputs": [],
   "source": [
    "#load URLs we want to scrape into an array\n",
    "BASE_URL = [\n",
    "'http://www.hubertiming.com/results/2017GPTR10K'\n",
    "]"
   ]
  },
  {
   "cell_type": "code",
   "execution_count": 61,
   "id": "cd04ffc2-8180-45ef-96c8-1b4eb3a00903",
   "metadata": {},
   "outputs": [],
   "source": [
    "#loading empty array for board members\n",
    "board_members = []\n",
    "#Loop through our URLs we loaded above\n",
    "for b in BASE_URL:\n",
    "    html = requests.get(b).text\n",
    "    soup = BeautifulSoup(html, \"html.parser\")\n",
    "    #identify table we want to scrape\n",
    "    officer_table = soup.find('table', {\"id\" : \"individualResults\"})\n",
    "    #try clause to skip any companies with missing/empty board member tables\n",
    "    try:\n",
    "        #loop through table, grab each of the 9 columns shown (try one of the links yourself to see the layout)\n",
    "        for row in officer_table.find_all('tr'):\n",
    "            cols = row.find_all('td')\n",
    "            if len(cols) == 9:\n",
    "               board_members.append((cols[0].text.strip(), cols[1].text.strip(), cols[2].text.strip(), cols[3].text.strip(), cols[4].text.strip(), cols[5].text.strip(), cols[6].text.strip(), cols[7].text.strip(), cols[8].text.strip() ))\n",
    "    except: pass "
   ]
  },
  {
   "cell_type": "code",
   "execution_count": 62,
   "id": "58d57513-9c18-4716-b8f7-9620dc39fe45",
   "metadata": {},
   "outputs": [
    {
     "data": {
      "text/plain": [
       "577"
      ]
     },
     "execution_count": 62,
     "metadata": {},
     "output_type": "execute_result"
    }
   ],
   "source": [
    "#convert output to new array, check length\n",
    "board_array = np.asarray(board_members)\n",
    "len(board_array)"
   ]
  },
  {
   "cell_type": "code",
   "execution_count": 63,
   "id": "7ac8d0e0-0ba6-40ac-92d6-17ddbd7fbd1e",
   "metadata": {},
   "outputs": [],
   "source": [
    "#convert new array to dataframe\n",
    "df = pd.DataFrame(board_array)"
   ]
  },
  {
   "cell_type": "code",
   "execution_count": 64,
   "id": "6d2ff08d-9be7-4d14-88dc-42c58bec9421",
   "metadata": {},
   "outputs": [
    {
     "data": {
      "text/html": [
       "<div>\n",
       "<style scoped>\n",
       "    .dataframe tbody tr th:only-of-type {\n",
       "        vertical-align: middle;\n",
       "    }\n",
       "\n",
       "    .dataframe tbody tr th {\n",
       "        vertical-align: top;\n",
       "    }\n",
       "\n",
       "    .dataframe thead th {\n",
       "        text-align: right;\n",
       "    }\n",
       "</style>\n",
       "<table border=\"1\" class=\"dataframe\">\n",
       "  <thead>\n",
       "    <tr style=\"text-align: right;\">\n",
       "      <th></th>\n",
       "      <th>0</th>\n",
       "      <th>1</th>\n",
       "      <th>2</th>\n",
       "      <th>3</th>\n",
       "      <th>4</th>\n",
       "      <th>5</th>\n",
       "      <th>6</th>\n",
       "      <th>7</th>\n",
       "      <th>8</th>\n",
       "    </tr>\n",
       "  </thead>\n",
       "  <tbody>\n",
       "    <tr>\n",
       "      <th>0</th>\n",
       "      <td>1</td>\n",
       "      <td>814</td>\n",
       "      <td>JARED WILSON</td>\n",
       "      <td>M</td>\n",
       "      <td>TIGARD</td>\n",
       "      <td>OR</td>\n",
       "      <td>36:21</td>\n",
       "      <td>36:24</td>\n",
       "      <td></td>\n",
       "    </tr>\n",
       "    <tr>\n",
       "      <th>1</th>\n",
       "      <td>2</td>\n",
       "      <td>573</td>\n",
       "      <td>NATHAN A SUSTERSIC</td>\n",
       "      <td>M</td>\n",
       "      <td>PORTLAND</td>\n",
       "      <td>OR</td>\n",
       "      <td>36:42</td>\n",
       "      <td>36:45</td>\n",
       "      <td>INTEL TEAM F</td>\n",
       "    </tr>\n",
       "    <tr>\n",
       "      <th>2</th>\n",
       "      <td>3</td>\n",
       "      <td>687</td>\n",
       "      <td>FRANCISCO MAYA</td>\n",
       "      <td>M</td>\n",
       "      <td>PORTLAND</td>\n",
       "      <td>OR</td>\n",
       "      <td>37:44</td>\n",
       "      <td>37:48</td>\n",
       "      <td></td>\n",
       "    </tr>\n",
       "    <tr>\n",
       "      <th>3</th>\n",
       "      <td>4</td>\n",
       "      <td>623</td>\n",
       "      <td>PAUL MORROW</td>\n",
       "      <td>M</td>\n",
       "      <td>BEAVERTON</td>\n",
       "      <td>OR</td>\n",
       "      <td>38:34</td>\n",
       "      <td>38:37</td>\n",
       "      <td></td>\n",
       "    </tr>\n",
       "    <tr>\n",
       "      <th>4</th>\n",
       "      <td>5</td>\n",
       "      <td>569</td>\n",
       "      <td>DEREK G OSBORNE</td>\n",
       "      <td>M</td>\n",
       "      <td>HILLSBORO</td>\n",
       "      <td>OR</td>\n",
       "      <td>39:21</td>\n",
       "      <td>39:24</td>\n",
       "      <td>INTEL TEAM F</td>\n",
       "    </tr>\n",
       "  </tbody>\n",
       "</table>\n",
       "</div>"
      ],
      "text/plain": [
       "   0    1                   2  3          4   5      6      7             8\n",
       "0  1  814        JARED WILSON  M     TIGARD  OR  36:21  36:24              \n",
       "1  2  573  NATHAN A SUSTERSIC  M   PORTLAND  OR  36:42  36:45  INTEL TEAM F\n",
       "2  3  687      FRANCISCO MAYA  M   PORTLAND  OR  37:44  37:48              \n",
       "3  4  623         PAUL MORROW  M  BEAVERTON  OR  38:34  38:37              \n",
       "4  5  569     DEREK G OSBORNE  M  HILLSBORO  OR  39:21  39:24  INTEL TEAM F"
      ]
     },
     "execution_count": 64,
     "metadata": {},
     "output_type": "execute_result"
    }
   ],
   "source": [
    "df.head()"
   ]
  },
  {
   "cell_type": "code",
   "execution_count": 65,
   "id": "bea91879-6ad5-4826-b8b3-8ad0b152b87a",
   "metadata": {},
   "outputs": [
    {
     "data": {
      "text/html": [
       "<div>\n",
       "<style scoped>\n",
       "    .dataframe tbody tr th:only-of-type {\n",
       "        vertical-align: middle;\n",
       "    }\n",
       "\n",
       "    .dataframe tbody tr th {\n",
       "        vertical-align: top;\n",
       "    }\n",
       "\n",
       "    .dataframe thead th {\n",
       "        text-align: right;\n",
       "    }\n",
       "</style>\n",
       "<table border=\"1\" class=\"dataframe\">\n",
       "  <thead>\n",
       "    <tr style=\"text-align: right;\">\n",
       "      <th></th>\n",
       "      <th>Place</th>\n",
       "      <th>Bib</th>\n",
       "      <th>Name</th>\n",
       "      <th>Gender</th>\n",
       "      <th>City</th>\n",
       "      <th>State</th>\n",
       "      <th>Time</th>\n",
       "      <th>Gun_Time</th>\n",
       "      <th>Team</th>\n",
       "    </tr>\n",
       "  </thead>\n",
       "  <tbody>\n",
       "    <tr>\n",
       "      <th>0</th>\n",
       "      <td>1</td>\n",
       "      <td>814</td>\n",
       "      <td>JARED WILSON</td>\n",
       "      <td>M</td>\n",
       "      <td>TIGARD</td>\n",
       "      <td>OR</td>\n",
       "      <td>36:21</td>\n",
       "      <td>36:24</td>\n",
       "      <td></td>\n",
       "    </tr>\n",
       "    <tr>\n",
       "      <th>1</th>\n",
       "      <td>2</td>\n",
       "      <td>573</td>\n",
       "      <td>NATHAN A SUSTERSIC</td>\n",
       "      <td>M</td>\n",
       "      <td>PORTLAND</td>\n",
       "      <td>OR</td>\n",
       "      <td>36:42</td>\n",
       "      <td>36:45</td>\n",
       "      <td>INTEL TEAM F</td>\n",
       "    </tr>\n",
       "    <tr>\n",
       "      <th>2</th>\n",
       "      <td>3</td>\n",
       "      <td>687</td>\n",
       "      <td>FRANCISCO MAYA</td>\n",
       "      <td>M</td>\n",
       "      <td>PORTLAND</td>\n",
       "      <td>OR</td>\n",
       "      <td>37:44</td>\n",
       "      <td>37:48</td>\n",
       "      <td></td>\n",
       "    </tr>\n",
       "    <tr>\n",
       "      <th>3</th>\n",
       "      <td>4</td>\n",
       "      <td>623</td>\n",
       "      <td>PAUL MORROW</td>\n",
       "      <td>M</td>\n",
       "      <td>BEAVERTON</td>\n",
       "      <td>OR</td>\n",
       "      <td>38:34</td>\n",
       "      <td>38:37</td>\n",
       "      <td></td>\n",
       "    </tr>\n",
       "    <tr>\n",
       "      <th>4</th>\n",
       "      <td>5</td>\n",
       "      <td>569</td>\n",
       "      <td>DEREK G OSBORNE</td>\n",
       "      <td>M</td>\n",
       "      <td>HILLSBORO</td>\n",
       "      <td>OR</td>\n",
       "      <td>39:21</td>\n",
       "      <td>39:24</td>\n",
       "      <td>INTEL TEAM F</td>\n",
       "    </tr>\n",
       "    <tr>\n",
       "      <th>5</th>\n",
       "      <td>6</td>\n",
       "      <td>642</td>\n",
       "      <td>JONATHON TRAN</td>\n",
       "      <td>M</td>\n",
       "      <td>PORTLAND</td>\n",
       "      <td>OR</td>\n",
       "      <td>39:49</td>\n",
       "      <td>39:55</td>\n",
       "      <td></td>\n",
       "    </tr>\n",
       "    <tr>\n",
       "      <th>6</th>\n",
       "      <td>7</td>\n",
       "      <td>144</td>\n",
       "      <td>GEORGE TOTONCHY</td>\n",
       "      <td>M</td>\n",
       "      <td>PORTLAND</td>\n",
       "      <td>OR</td>\n",
       "      <td>40:04</td>\n",
       "      <td>40:17</td>\n",
       "      <td></td>\n",
       "    </tr>\n",
       "    <tr>\n",
       "      <th>7</th>\n",
       "      <td>8</td>\n",
       "      <td>395</td>\n",
       "      <td>BENJAMIN C CHAFFIN</td>\n",
       "      <td>M</td>\n",
       "      <td>PORTLAND</td>\n",
       "      <td>OR</td>\n",
       "      <td>40:05</td>\n",
       "      <td>40:09</td>\n",
       "      <td></td>\n",
       "    </tr>\n",
       "    <tr>\n",
       "      <th>8</th>\n",
       "      <td>9</td>\n",
       "      <td>7</td>\n",
       "      <td>BRANDON THOMAS</td>\n",
       "      <td>M</td>\n",
       "      <td></td>\n",
       "      <td></td>\n",
       "      <td>40:17</td>\n",
       "      <td>40:24</td>\n",
       "      <td>COLUMBIA TEAM B</td>\n",
       "    </tr>\n",
       "    <tr>\n",
       "      <th>9</th>\n",
       "      <td>10</td>\n",
       "      <td>3</td>\n",
       "      <td>ERIK BJORNSTAD</td>\n",
       "      <td>M</td>\n",
       "      <td></td>\n",
       "      <td></td>\n",
       "      <td>40:21</td>\n",
       "      <td>40:25</td>\n",
       "      <td>COLUMBIA TEAM A</td>\n",
       "    </tr>\n",
       "  </tbody>\n",
       "</table>\n",
       "</div>"
      ],
      "text/plain": [
       "  Place  Bib                Name Gender       City State   Time Gun_Time  \\\n",
       "0     1  814        JARED WILSON      M     TIGARD    OR  36:21    36:24   \n",
       "1     2  573  NATHAN A SUSTERSIC      M   PORTLAND    OR  36:42    36:45   \n",
       "2     3  687      FRANCISCO MAYA      M   PORTLAND    OR  37:44    37:48   \n",
       "3     4  623         PAUL MORROW      M  BEAVERTON    OR  38:34    38:37   \n",
       "4     5  569     DEREK G OSBORNE      M  HILLSBORO    OR  39:21    39:24   \n",
       "5     6  642       JONATHON TRAN      M   PORTLAND    OR  39:49    39:55   \n",
       "6     7  144     GEORGE TOTONCHY      M   PORTLAND    OR  40:04    40:17   \n",
       "7     8  395  BENJAMIN C CHAFFIN      M   PORTLAND    OR  40:05    40:09   \n",
       "8     9    7      BRANDON THOMAS      M                   40:17    40:24   \n",
       "9    10    3      ERIK BJORNSTAD      M                   40:21    40:25   \n",
       "\n",
       "              Team  \n",
       "0                   \n",
       "1     INTEL TEAM F  \n",
       "2                   \n",
       "3                   \n",
       "4     INTEL TEAM F  \n",
       "5                   \n",
       "6                   \n",
       "7                   \n",
       "8  COLUMBIA TEAM B  \n",
       "9  COLUMBIA TEAM A  "
      ]
     },
     "execution_count": 65,
     "metadata": {},
     "output_type": "execute_result"
    }
   ],
   "source": [
    "#rename columns, check output\n",
    "df.columns = ['Place', 'Bib', 'Name', 'Gender', 'City', 'State', 'Time', 'Gun_Time', 'Team']\n",
    "df.head(10)"
   ]
  },
  {
   "cell_type": "code",
   "execution_count": 66,
   "id": "86594936-8ffa-49da-a51f-ba00ddc81a25",
   "metadata": {},
   "outputs": [
    {
     "name": "stdout",
     "output_type": "stream",
     "text": [
      "   Place  Bib                Name Gender       City State   Time Gun_Time  \\\n",
      "0      1  814        JARED WILSON      M     TIGARD    OR  36:21    36:24   \n",
      "1      2  573  NATHAN A SUSTERSIC      M   PORTLAND    OR  36:42    36:45   \n",
      "2      3  687      FRANCISCO MAYA      M   PORTLAND    OR  37:44    37:48   \n",
      "3      4  623         PAUL MORROW      M  BEAVERTON    OR  38:34    38:37   \n",
      "4      5  569     DEREK G OSBORNE      M  HILLSBORO    OR  39:21    39:24   \n",
      "5      6  642       JONATHON TRAN      M   PORTLAND    OR  39:49    39:55   \n",
      "6      7  144     GEORGE TOTONCHY      M   PORTLAND    OR  40:04    40:17   \n",
      "7      8  395  BENJAMIN C CHAFFIN      M   PORTLAND    OR  40:05    40:09   \n",
      "8      9    7      BRANDON THOMAS      M                   40:17    40:24   \n",
      "9     10    3      ERIK BJORNSTAD      M                   40:21    40:25   \n",
      "10    11   68      WITALI SPULING      M   PORTLAND    OR  40:28    40:40   \n",
      "11    12  788          ANDY WEDAM      M   PORTLAND    OR  40:36    40:42   \n",
      "12    13  729    MICHAEL P GEORGE      M   PORTLAND    OR  40:43    40:50   \n",
      "13    14  151        ETHAN JORDAN      M   PORTLAND    OR  41:01    41:13   \n",
      "14    15  758      FLAVIO GRIGGIO      M   PORTLAND    OR  41:19    41:24   \n",
      "15    16  868       WILLIAM BARRY      M  BEAVERTON    OR  41:43    41:49   \n",
      "16    17    2      JIM DROZDOWSKI      M                   41:59    42:02   \n",
      "17    18  362       BRITON BARKER      M  HILLSBORO    OR  42:23    42:28   \n",
      "18    19  755     NEILANJAN DUTTA      M  HILLSBORO    OR  42:29    42:34   \n",
      "19    20  543       KENNETH KLOTZ      M     EUGENE    OR  42:35    42:48   \n",
      "\n",
      "               Team  \n",
      "0                    \n",
      "1      INTEL TEAM F  \n",
      "2                    \n",
      "3                    \n",
      "4      INTEL TEAM F  \n",
      "5                    \n",
      "6                    \n",
      "7                    \n",
      "8   COLUMBIA TEAM B  \n",
      "9   COLUMBIA TEAM A  \n",
      "10            DTNA1  \n",
      "11            DTNA2  \n",
      "12                   \n",
      "13                   \n",
      "14                   \n",
      "15     INTEL TEAM K  \n",
      "16  COLUMBIA TEAM A  \n",
      "17                   \n",
      "18                   \n",
      "19                   \n"
     ]
    }
   ],
   "source": [
    "df1 = df.dropna(axis=0, how='any')\n",
    "print(df1.head(20))"
   ]
  },
  {
   "cell_type": "code",
   "execution_count": 67,
   "id": "9a602558-5b58-4338-850b-2a7821780d2c",
   "metadata": {},
   "outputs": [
    {
     "data": {
      "text/plain": [
       "0        36:24\n",
       "1        36:45\n",
       "2        37:48\n",
       "3        38:37\n",
       "4        39:24\n",
       "        ...   \n",
       "572    1:38:34\n",
       "573    1:40:32\n",
       "574    1:40:34\n",
       "575    1:42:01\n",
       "576    1:42:10\n",
       "Name: Gun_Time, Length: 577, dtype: object"
      ]
     },
     "execution_count": 67,
     "metadata": {},
     "output_type": "execute_result"
    }
   ],
   "source": [
    "df1['Gun_Time']"
   ]
  },
  {
   "cell_type": "code",
   "execution_count": null,
   "id": "ec40a4ab-99d3-459d-909a-b5a0d378d70f",
   "metadata": {},
   "outputs": [],
   "source": []
  },
  {
   "cell_type": "markdown",
   "id": "f3c4df25-c571-4908-8fa3-01b1309faad1",
   "metadata": {},
   "source": [
    "# Data Analysis and Visualization\n",
    "The first question to answer is, what was the average finish time (in minutes) for the runners? You need to convert the column \"Gun Time\" into just minutes. One way to do this is to convert the column to a list first for manipulation."
   ]
  },
  {
   "cell_type": "code",
   "execution_count": 68,
   "id": "93e257fb-c34f-44c8-89a1-ab3662638b8f",
   "metadata": {},
   "outputs": [
    {
     "name": "stdout",
     "output_type": "stream",
     "text": [
      "[36.4, 36.75, 37.8, 38.62, 39.4, 39.92, 40.28, 40.15, 40.4, 40.42, 40.67, 40.7, 40.83, 41.22, 41.4, 41.82, 42.03, 42.47, 42.57, 42.8, 42.87, 42.97, 43.07, 43.6, 43.5, 43.72, 44.02, 43.87, 43.85, 43.88, 43.87, 43.87, 44.17, 44.2, 44.3, 44.28, 44.48, 45.15, 45.17, 44.77, 45.02, 45.77, 45.15, 45.37, 45.5, 45.3, 45.58, 45.53, 45.43, 45.4, 45.88, 45.57, 45.7, 46.52, 46.28, 45.98, 46.03, 45.95, 46.08, 46.12, 46.27, 46.65, 46.47, 46.55, 46.97, 48.02, 47.03, 46.88, 46.95, 47.1, 47.0, 47.82, 46.93, 47.15, 48.9, 47.53, 47.35, 47.17, 47.62, 47.22, 47.68, 47.5, 48.47, 47.75, 47.6, 47.98, 47.92, 48.2, 48.02, 48.05, 48.15, 48.15, 48.15, 48.1, 49.05, 48.33, 48.45, 49.1, 48.93, 48.67, 48.97, 49.05, 48.63, 49.6, 48.9, 48.93, 49.23, 49.2, 49.25, 49.08, 48.88, 49.9, 49.37, 50.02, 49.62, 49.43, 49.48, 49.72, 50.05, 49.87, 50.55, 49.95, 49.75, 50.07, 50.83, 50.57, 51.37, 51.48, 51.08, 51.48, 50.75, 50.75, 50.72, 50.48, 50.65, 50.75, 51.02, 51.45, 52.83, 50.95, 51.28, 50.97, 50.95, 50.97, 51.68, 51.42, 51.37, 52.1, 51.3, 51.25, 51.73, 51.47, 52.32, 51.87, 51.88, 52.1, 51.68, 52.23, 52.0, 52.52, 52.17, 52.17, 52.17, 52.18, 52.75, 52.68, 53.55, 52.57, 53.3, 52.9, 52.7, 53.15, 53.02, 52.92, 53.13, 53.07, 52.85, 52.87, 53.03, 53.37, 53.4, 53.85, 53.5, 53.3, 54.18, 53.73, 54.18, 54.12, 53.9, 53.88, 54.0, 53.87, 53.87, 54.07, 54.25, 54.75, 53.97, 54.3, 54.87, 54.25, 54.38, 54.15, 54.92, 55.18, 54.42, 54.42, 54.87, 55.07, 55.1, 55.68, 54.92, 55.48, 55.18, 56.08, 56.48, 55.37, 55.28, 54.97, 55.13, 56.08, 55.85, 55.18, 56.03, 55.37, 55.77, 55.72, 55.6, 55.72, 55.43, 55.72, 56.07, 56.38, 56.57, 55.95, 56.82, 56.52, 56.07, 56.27, 56.47, 57.25, 56.47, 57.47, 57.07, 57.17, 57.05, 57.2, 57.23, 57.57, 57.48, 57.22, 58.05, 58.07, 58.27, 57.2, 57.77, 57.53, 58.42, 57.83, 58.02, 58.07, 58.2, 58.12, 57.93, 58.87, 58.05, 58.65, 57.97, 58.68, 57.93, 59.05, 58.57, 58.52, 58.77, 58.62, 58.78, 58.78, 59.57, 58.77, 58.73, 59.82, 59.18, 59.15, 60.25, 59.22, 59.25, 59.32, 60.47, 60.45, 59.62, 59.42, 60.13, 59.77, 60.35, 60.6, 60.2, 60.63, 60.25, 60.1, 60.2, 59.9, 60.35, 60.67, 60.12, 60.12, 60.72, 60.15, 61.12, 61.28, 60.68, 60.82, 61.13, 60.85, 61.18, 60.48, 61.52, 61.02, 61.32, 61.25, 61.53, 61.78, 61.85, 61.22, 61.62, 61.27, 61.4, 62.22, 61.5, 62.35, 61.45, 61.78, 62.1, 62.18, 61.68, 62.37, 62.4, 62.07, 62.05, 62.77, 62.68, 63.55, 62.68, 62.33, 62.32, 62.77, 62.77, 62.48, 62.43, 62.53, 62.55, 63.75, 63.08, 62.72, 63.62, 63.7, 63.7, 63.52, 63.9, 63.85, 63.3, 63.93, 63.58, 63.33, 64.03, 63.98, 64.08, 64.37, 63.75, 64.38, 64.38, 64.13, 64.05, 63.87, 64.93, 64.33, 64.57, 64.63, 64.83, 64.43, 65.18, 65.18, 65.33, 64.98, 65.25, 64.85, 64.52, 64.65, 65.58, 65.42, 64.75, 65.37, 65.2, 65.15, 65.07, 65.4, 65.35, 65.67, 65.68, 65.72, 65.43, 65.62, 66.03, 65.92, 65.77, 66.5, 66.25, 65.67, 65.65, 66.73, 65.92, 66.45, 66.35, 67.08, 66.27, 67.05, 67.33, 67.6, 67.85, 67.17, 67.4, 67.23, 67.57, 67.95, 68.0, 67.37, 67.32, 68.03, 67.48, 67.45, 67.5, 67.65, 67.67, 68.27, 67.67, 67.9, 68.2, 68.2, 67.47, 68.25, 68.32, 68.47, 68.43, 68.37, 68.43, 68.82, 68.78, 68.28, 68.57, 68.88, 68.77, 69.33, 68.78, 69.48, 69.7, 69.62, 68.85, 69.52, 69.37, 69.4, 69.02, 69.95, 69.37, 70.25, 70.3, 69.63, 70.25, 69.97, 69.45, 69.63, 69.75, 69.57, 70.1, 70.12, 70.45, 70.77, 70.2, 71.22, 70.47, 70.48, 70.83, 71.28, 71.27, 71.8, 71.85, 71.1, 72.22, 71.78, 71.35, 71.93, 71.9, 71.48, 72.05, 72.25, 71.95, 71.98, 71.97, 71.93, 72.13, 73.1, 73.17, 73.17, 72.5, 73.07, 73.07, 72.97, 72.88, 72.88, 73.05, 73.33, 73.75, 73.88, 73.72, 73.88, 74.58, 73.98, 74.23, 75.1, 74.87, 74.98, 75.17, 75.12, 75.82, 75.7, 75.15, 75.85, 76.13, 75.48, 76.03, 76.37, 76.97, 77.02, 76.35, 76.08, 77.22, 77.33, 77.5, 77.7, 77.1, 77.6, 77.9, 78.93, 78.93, 79.95, 81.7, 84.22, 84.22, 83.35, 83.4, 84.17, 83.67, 84.37, 84.85, 84.9, 84.47, 85.83, 86.85, 86.9, 86.7, 87.87, 88.82, 88.98, 89.98, 89.98, 91.9, 92.7, 93.88, 93.85, 93.08, 93.02, 93.9, 94.88, 95.45, 98.55, 98.57, 100.53, 100.57, 102.02, 102.17]\n"
     ]
    }
   ],
   "source": [
    "time_list = df1['Gun_Time'].tolist()\n",
    "\n",
    "# Convert 'Gun Time' to minutes, handling cases with and without hours\n",
    "time_mins = []\n",
    "for i in time_list:\n",
    "    parts = i.split(':')\n",
    "    \n",
    "    # If there are 3 parts, it's hours, minutes, seconds\n",
    "    if len(parts) == 3:\n",
    "        h, m, s = parts\n",
    "        total_minutes = (int(h) * 3600 + int(m) * 60 + int(s)) / 60\n",
    "    # If there are only 2 parts, it's minutes, seconds\n",
    "    elif len(parts) == 2:\n",
    "        m, s = parts\n",
    "        total_minutes = (int(m) * 60 + int(s)) / 60\n",
    "    \n",
    "    time_mins.append(round(total_minutes,2))\n",
    "\n",
    "print(time_mins)\n"
   ]
  },
  {
   "cell_type": "markdown",
   "id": "9528b746-1301-42a2-925f-883b48723211",
   "metadata": {},
   "source": [
    "The next step is to convert the list back into a dataframe and make a new column (\"Runner_mins\") for runner chip times expressed in just minutes."
   ]
  },
  {
   "cell_type": "code",
   "execution_count": 69,
   "id": "7706c5d9-d2d8-4625-ab80-426e6aadf3d3",
   "metadata": {},
   "outputs": [
    {
     "data": {
      "text/html": [
       "<div>\n",
       "<style scoped>\n",
       "    .dataframe tbody tr th:only-of-type {\n",
       "        vertical-align: middle;\n",
       "    }\n",
       "\n",
       "    .dataframe tbody tr th {\n",
       "        vertical-align: top;\n",
       "    }\n",
       "\n",
       "    .dataframe thead th {\n",
       "        text-align: right;\n",
       "    }\n",
       "</style>\n",
       "<table border=\"1\" class=\"dataframe\">\n",
       "  <thead>\n",
       "    <tr style=\"text-align: right;\">\n",
       "      <th></th>\n",
       "      <th>Place</th>\n",
       "      <th>Bib</th>\n",
       "      <th>Name</th>\n",
       "      <th>Gender</th>\n",
       "      <th>City</th>\n",
       "      <th>State</th>\n",
       "      <th>Time</th>\n",
       "      <th>Gun_Time</th>\n",
       "      <th>Team</th>\n",
       "      <th>Runner_mins</th>\n",
       "    </tr>\n",
       "  </thead>\n",
       "  <tbody>\n",
       "    <tr>\n",
       "      <th>0</th>\n",
       "      <td>1</td>\n",
       "      <td>814</td>\n",
       "      <td>JARED WILSON</td>\n",
       "      <td>M</td>\n",
       "      <td>TIGARD</td>\n",
       "      <td>OR</td>\n",
       "      <td>36:21</td>\n",
       "      <td>36:24</td>\n",
       "      <td></td>\n",
       "      <td>36.40</td>\n",
       "    </tr>\n",
       "    <tr>\n",
       "      <th>1</th>\n",
       "      <td>2</td>\n",
       "      <td>573</td>\n",
       "      <td>NATHAN A SUSTERSIC</td>\n",
       "      <td>M</td>\n",
       "      <td>PORTLAND</td>\n",
       "      <td>OR</td>\n",
       "      <td>36:42</td>\n",
       "      <td>36:45</td>\n",
       "      <td>INTEL TEAM F</td>\n",
       "      <td>36.75</td>\n",
       "    </tr>\n",
       "    <tr>\n",
       "      <th>2</th>\n",
       "      <td>3</td>\n",
       "      <td>687</td>\n",
       "      <td>FRANCISCO MAYA</td>\n",
       "      <td>M</td>\n",
       "      <td>PORTLAND</td>\n",
       "      <td>OR</td>\n",
       "      <td>37:44</td>\n",
       "      <td>37:48</td>\n",
       "      <td></td>\n",
       "      <td>37.80</td>\n",
       "    </tr>\n",
       "    <tr>\n",
       "      <th>3</th>\n",
       "      <td>4</td>\n",
       "      <td>623</td>\n",
       "      <td>PAUL MORROW</td>\n",
       "      <td>M</td>\n",
       "      <td>BEAVERTON</td>\n",
       "      <td>OR</td>\n",
       "      <td>38:34</td>\n",
       "      <td>38:37</td>\n",
       "      <td></td>\n",
       "      <td>38.62</td>\n",
       "    </tr>\n",
       "    <tr>\n",
       "      <th>4</th>\n",
       "      <td>5</td>\n",
       "      <td>569</td>\n",
       "      <td>DEREK G OSBORNE</td>\n",
       "      <td>M</td>\n",
       "      <td>HILLSBORO</td>\n",
       "      <td>OR</td>\n",
       "      <td>39:21</td>\n",
       "      <td>39:24</td>\n",
       "      <td>INTEL TEAM F</td>\n",
       "      <td>39.40</td>\n",
       "    </tr>\n",
       "  </tbody>\n",
       "</table>\n",
       "</div>"
      ],
      "text/plain": [
       "  Place  Bib                Name Gender       City State   Time Gun_Time  \\\n",
       "0     1  814        JARED WILSON      M     TIGARD    OR  36:21    36:24   \n",
       "1     2  573  NATHAN A SUSTERSIC      M   PORTLAND    OR  36:42    36:45   \n",
       "2     3  687      FRANCISCO MAYA      M   PORTLAND    OR  37:44    37:48   \n",
       "3     4  623         PAUL MORROW      M  BEAVERTON    OR  38:34    38:37   \n",
       "4     5  569     DEREK G OSBORNE      M  HILLSBORO    OR  39:21    39:24   \n",
       "\n",
       "           Team  Runner_mins  \n",
       "0                      36.40  \n",
       "1  INTEL TEAM F        36.75  \n",
       "2                      37.80  \n",
       "3                      38.62  \n",
       "4  INTEL TEAM F        39.40  "
      ]
     },
     "execution_count": 69,
     "metadata": {},
     "output_type": "execute_result"
    }
   ],
   "source": [
    "df1['Runner_mins'] = time_mins\n",
    "df1.head()"
   ]
  },
  {
   "cell_type": "markdown",
   "id": "4d6b526a-b9a0-4d8a-8983-d086ecf66412",
   "metadata": {},
   "source": [
    "The code below shows how to calculate statistics for numeric columns only in the dataframe."
   ]
  },
  {
   "cell_type": "code",
   "execution_count": 70,
   "id": "9f4390fd-a4ed-4e8e-aa9a-1c6e1933dfcc",
   "metadata": {},
   "outputs": [
    {
     "data": {
      "text/html": [
       "<div>\n",
       "<style scoped>\n",
       "    .dataframe tbody tr th:only-of-type {\n",
       "        vertical-align: middle;\n",
       "    }\n",
       "\n",
       "    .dataframe tbody tr th {\n",
       "        vertical-align: top;\n",
       "    }\n",
       "\n",
       "    .dataframe thead th {\n",
       "        text-align: right;\n",
       "    }\n",
       "</style>\n",
       "<table border=\"1\" class=\"dataframe\">\n",
       "  <thead>\n",
       "    <tr style=\"text-align: right;\">\n",
       "      <th></th>\n",
       "      <th>Runner_mins</th>\n",
       "    </tr>\n",
       "  </thead>\n",
       "  <tbody>\n",
       "    <tr>\n",
       "      <th>count</th>\n",
       "      <td>577.000000</td>\n",
       "    </tr>\n",
       "    <tr>\n",
       "      <th>mean</th>\n",
       "      <td>60.631612</td>\n",
       "    </tr>\n",
       "    <tr>\n",
       "      <th>std</th>\n",
       "      <td>12.110718</td>\n",
       "    </tr>\n",
       "    <tr>\n",
       "      <th>min</th>\n",
       "      <td>36.400000</td>\n",
       "    </tr>\n",
       "    <tr>\n",
       "      <th>25%</th>\n",
       "      <td>51.450000</td>\n",
       "    </tr>\n",
       "    <tr>\n",
       "      <th>50%</th>\n",
       "      <td>59.900000</td>\n",
       "    </tr>\n",
       "    <tr>\n",
       "      <th>75%</th>\n",
       "      <td>68.000000</td>\n",
       "    </tr>\n",
       "    <tr>\n",
       "      <th>max</th>\n",
       "      <td>102.170000</td>\n",
       "    </tr>\n",
       "  </tbody>\n",
       "</table>\n",
       "</div>"
      ],
      "text/plain": [
       "       Runner_mins\n",
       "count   577.000000\n",
       "mean     60.631612\n",
       "std      12.110718\n",
       "min      36.400000\n",
       "25%      51.450000\n",
       "50%      59.900000\n",
       "75%      68.000000\n",
       "max     102.170000"
      ]
     },
     "execution_count": 70,
     "metadata": {},
     "output_type": "execute_result"
    }
   ],
   "source": [
    "df1.describe(include=[np.number])\n"
   ]
  },
  {
   "cell_type": "markdown",
   "id": "1f3f59ee-1665-4826-8a6c-f5c520745c25",
   "metadata": {},
   "source": [
    "Interestingly, the average chip time for all runners was ~60 mins. The fastest 10K runner finished in 36.35 mins, and the slowest runner finished in 101.30 minutes.\n",
    "\n",
    "A boxplot is another useful tool to visualize summary statistics (maximum, minimum, medium, first quartile, third quartile, including outliers). Below are data summary statistics for the runners shown in a boxplot. For data visualization, it is convenient to first import parameters from the pylab module that comes with matplotlib and set the same size for all figures to avoid doing it for each figure."
   ]
  },
  {
   "cell_type": "code",
   "execution_count": 71,
   "id": "43919d14-a010-4866-b05f-9ec879d12327",
   "metadata": {},
   "outputs": [],
   "source": [
    "from pylab import rcParams\n",
    "rcParams['figure.figsize'] = 15, 5\n"
   ]
  },
  {
   "cell_type": "markdown",
   "id": "412b3a6c-7ed2-4c50-8c6b-e0c247d1058c",
   "metadata": {},
   "source": [
    "This code imports the rcParams module from the pylab library and sets the figure.figsize parameter to a tuple of (15, 5).\n",
    "\n",
    "\n",
    "The rcParams module is used to customize the default settings for Matplotlib plots. In this case, the figure.figsize parameter sets the width and height of the figure in inches.\n",
    "\n",
    "\n",
    "By setting it to (15, 5), the figure will be 15 inches wide and 5 inches tall. This can be useful for creating plots with specific dimensions or for adjusting the size of plots in a notebook or script."
   ]
  },
  {
   "cell_type": "code",
   "execution_count": 72,
   "id": "32d929b9-4c97-4140-838b-800b15b63832",
   "metadata": {},
   "outputs": [
    {
     "data": {
      "text/plain": [
       "([<matplotlib.axis.XTick at 0x279627f6790>], [Text(1, 0, 'Runners')])"
      ]
     },
     "execution_count": 72,
     "metadata": {},
     "output_type": "execute_result"
    },
    {
     "data": {
      "image/png": "[encoded data removed]",
      "text/plain": [
       "<Figure size 1500x500 with 1 Axes>"
      ]
     },
     "metadata": {},
     "output_type": "display_data"
    }
   ],
   "source": [
    "df1.boxplot(column='Runner_mins')\n",
    "plt.grid(True, axis='y')\n",
    "plt.ylabel('Chip Time')\n",
    "plt.xticks([1], ['Runners'])\n"
   ]
  },
  {
   "cell_type": "markdown",
   "id": "70d2d2de-18db-47cd-b7f6-6b917c1228d3",
   "metadata": {},
   "source": [
    "This code creates a boxplot of the 'Runner_mins' column in the 'df7' DataFrame. The 'plt.grid(True, axis='y')' line adds a grid to the y-axis of the plot. The 'plt.ylabel('Chip Time')' line sets the y-axis label to 'Chip Time'. The 'plt.xticks([1], ['Runners'])' line sets the x-axis tick labels to 'Runners'. Overall, this code is used to visualize the distribution of runner times in a race using a boxplot."
   ]
  },
  {
   "cell_type": "markdown",
   "id": "c65b27d6-626d-4c82-aea0-12c072a3c755",
   "metadata": {},
   "source": [
    "### The second question to answer is: Did the runners' finish times follow a normal distribution?\n",
    "### Below is a distribution plot of runners' Gun times plotted using the seaborn library. The distribution looks almost normal."
   ]
  },
  {
   "cell_type": "code",
   "execution_count": 73,
   "id": "ced4f00f-0922-4ee2-8339-62b4908c67a4",
   "metadata": {},
   "outputs": [
    {
     "data": {
      "image/png": "[encoded data removed]",
      "text/plain": [
       "<Figure size 1500x500 with 1 Axes>"
      ]
     },
     "metadata": {},
     "output_type": "display_data"
    }
   ],
   "source": [
    "x = df1['Runner_mins']\n",
    "# Use histplot for the histogram and kde=True to include the density estimate\n",
    "ax = sns.histplot(x, kde=True, color='m', bins=25, edgecolor='black')\n",
    "plt.show()"
   ]
  },
  {
   "cell_type": "markdown",
   "id": "dda1e539-37d2-40b4-8eef-02c826eb2a68",
   "metadata": {},
   "source": [
    "The third question deals with whether there were any performance differences between males and females of various age groups. Below is a distribution plot of chip times for males and females."
   ]
  },
  {
   "cell_type": "code",
   "execution_count": 74,
   "id": "291a30ec-9af6-43aa-a7c6-c6de94bba540",
   "metadata": {},
   "outputs": [
    {
     "data": {
      "image/png": "[encoded data removed]",
      "text/plain": [
       "<Figure size 1500x500 with 1 Axes>"
      ]
     },
     "metadata": {},
     "output_type": "display_data"
    }
   ],
   "source": [
    "f_fuko = df1.loc[df1['Gender'] == 'F']['Runner_mins']\n",
    "m_fuko = df1.loc[df1['Gender'] == 'M']['Runner_mins']\n",
    "\n",
    "# Plotting histogram for females with kde\n",
    "sns.histplot(f_fuko, kde=True, edgecolor='black', label='Female')\n",
    "\n",
    "# Plotting kde for males without histogram\n",
    "sns.kdeplot(m_fuko, label='Male')\n",
    "\n",
    "# Adding legend\n",
    "plt.legend()\n",
    "plt.show()\n",
    "\n"
   ]
  },
  {
   "cell_type": "markdown",
   "id": "608d09d5-1b45-41c4-8f13-1404ee02a2d3",
   "metadata": {},
   "source": [
    "The distribution indicates that females were slower than males on average. You can use the `groupby()` method to compute summary statistics for males and females separately as shown below."
   ]
  },
  {
   "cell_type": "code",
   "execution_count": 75,
   "id": "2610ff5b-9def-4e1e-a132-08f75d0ead34",
   "metadata": {},
   "outputs": [
    {
     "name": "stdout",
     "output_type": "stream",
     "text": [
      "       Runner_mins                                                         \\\n",
      "             count       mean        std    min      25%     50%      75%   \n",
      "Gender                                                                      \n",
      "F            163.0  66.743313  12.287684  43.87  59.2850  65.200  72.3600   \n",
      "M            414.0  58.225314  11.170700  36.40  49.7875  56.475  65.4275   \n",
      "\n",
      "                \n",
      "           max  \n",
      "Gender          \n",
      "F       102.17  \n",
      "M       100.53  \n"
     ]
    }
   ],
   "source": [
    "g_stats = df1.groupby(\"Gender\", as_index=True).describe()\n",
    "print(g_stats)"
   ]
  },
  {
   "cell_type": "markdown",
   "id": "6b916d25-4afd-463d-911c-54785e4f4720",
   "metadata": {},
   "source": [
    "The average Gun time for all females and males was ~66 mins and ~58 mins, respectively. Below is a side-by-side boxplot comparison of male and female finish times."
   ]
  },
  {
   "cell_type": "code",
   "execution_count": 76,
   "id": "1fff6e81-3ffd-47a6-9545-3da27a1824c1",
   "metadata": {},
   "outputs": [
    {
     "data": {
      "text/plain": [
       "Text(0.5, 0.98, '')"
      ]
     },
     "execution_count": 76,
     "metadata": {},
     "output_type": "execute_result"
    },
    {
     "data": {
      "image/png": "[encoded data removed]",
      "text/plain": [
       "<Figure size 1500x500 with 1 Axes>"
      ]
     },
     "metadata": {},
     "output_type": "display_data"
    }
   ],
   "source": [
    "df1.boxplot(column='Runner_mins', by='Gender')\n",
    "plt.ylabel('Gun Time')\n",
    "plt.suptitle(\"\")\n"
   ]
  },
  {
   "cell_type": "markdown",
   "id": "70e6a8cf-b526-4eba-a6f6-e4f3f83aba78",
   "metadata": {},
   "source": [
    "# Conclusion\n",
    "In this tutorial, you performed web scraping using Python. You used the Beautiful Soup library to parse html data and convert it into a form that can be used for analysis. You performed cleaning of the data in Python and created useful plots (box plots, bar plots, and distribution plots) to reveal interesting trends using Python's matplotlib and seaborn libraries. After this tutorial, you should be able to use Python to easily scrape data from the web, apply cleaning techniques and extract useful insights from the data."
   ]
  },
  {
   "cell_type": "code",
   "execution_count": null,
   "id": "1ece995a-f1cd-4492-82ab-f82c6c80d132",
   "metadata": {},
   "outputs": [],
   "source": []
  }
 ],
 "metadata": {
  "kernelspec": {
   "display_name": "Python 3 (ipykernel)",
   "language": "python",
   "name": "python3"
  },
  "language_info": {
   "codemirror_mode": {
    "name": "ipython",
    "version": 3
   },
   "file_extension": ".py",
   "mimetype": "text/x-python",
   "name": "python",
   "nbconvert_exporter": "python",
   "pygments_lexer": "ipython3",
   "version": "3.9.1"
  }
 },
 "nbformat": 4,
 "nbformat_minor": 5
}
