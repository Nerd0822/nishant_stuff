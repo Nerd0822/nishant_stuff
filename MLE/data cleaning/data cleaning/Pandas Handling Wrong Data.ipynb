{
 "cells": [
  {
   "cell_type": "markdown",
   "id": "a1a765da-9a82-40d6-bb2d-2733d4842339",
   "metadata": {},
   "source": [
    "# Pandas Handling Wrong Data\n",
    "Sometimes, a dataset can have inaccurate entries due to reasons such as human errors during data input, sourcing data from unreliable places, etc.\n",
    "\n",
    "This can significantly undermine the quality and reliability of the data analysis performed on it.\n",
    "\n",
    "Let's take a DataFrame containing data about students of an all-boys elementary school."
   ]
  },
  {
   "cell_type": "markdown",
   "id": "f0072e06-be81-46d0-b020-8339d49da0e0",
   "metadata": {},
   "source": [
    "```python\n",
    "      Name  Age Gender  Standard\n",
    "0     John    8      M         3\n",
    "1  Michael    9      M         4\n",
    "2      Tom    7      M        12\n",
    "3     Alex   80      F         3\n",
    "4     Ryan  100      M         5"
   ]
  },
  {
   "cell_type": "markdown",
   "id": "0b591a31-d2bc-4684-8451-f339a0fb8a3f",
   "metadata": {},
   "source": [
    "In the above DataFrame, we can see a few obvious mistakes like:\n",
    "\n",
    "- The ages of two students are listed as **80** and **100**, which is too old for primary school students.\n",
    "- The gender of **Alex** is marked as **F**. Since this is an all-boys school, it is obviously a mistake.\n",
    "- **Tom** is listed as being in the 12th standard, which is simply not possible in an elementary school context.\n",
    "We can handle such wrong data in the following ways:\n",
    "\n",
    "1. Replace Individual Values\n",
    "2. Replace Values Based on a Condition\n",
    "3. Remove Wrong Values"
   ]
  },
  {
   "cell_type": "markdown",
   "id": "e9c0d1b9-cf91-4956-ada4-f6ad39e6759c",
   "metadata": {},
   "source": [
    "## Replace Individual Values\n",
    "We can see that the value **F** for `Gender` column is an obvious mistake. Let's replace **F** with **M** to rectify the error"
   ]
  },
  {
   "cell_type": "code",
   "execution_count": 2,
   "id": "98a0c34f-cf69-4791-8bfe-557508ed5259",
   "metadata": {},
   "outputs": [
    {
     "name": "stdout",
     "output_type": "stream",
     "text": [
      "      Name  Age Gender  Standard\n",
      "0     John    8      M         3\n",
      "1  Michael    9      M         4\n",
      "2      Tom    7      M        12\n",
      "3     Alex   80      M         3\n",
      "4     Ryan  100      M         5\n"
     ]
    }
   ],
   "source": [
    "import pandas as pd\n",
    "\n",
    "# create dataframe\n",
    "data = {\n",
    "    'Name': ['John', 'Michael', 'Tom', 'Alex', 'Ryan'],\n",
    "    'Age': [8, 9, 7, 80, 100],\n",
    "    'Gender': ['M', 'M', 'M', 'F', 'M'],\n",
    "    'Standard': [3, 4, 12, 3, 5]\n",
    "}\n",
    "df = pd.DataFrame(data)\n",
    "\n",
    "# replace F with M\n",
    "df.loc[3, 'Gender'] = 'M'\n",
    "\n",
    "print(df)"
   ]
  },
  {
   "cell_type": "markdown",
   "id": "be848b7d-6f7d-4353-aa93-39b4c965a8f5",
   "metadata": {},
   "source": [
    "In this example, we replaced the wrong value with the right value using `df.loc[]`.\n",
    "\n",
    "While this method is effective for small datasets, it becomes tedious as the size of the dataset grows."
   ]
  },
  {
   "cell_type": "markdown",
   "id": "59783b91-fa98-40ca-9fe7-b4813649ae41",
   "metadata": {},
   "source": [
    "## Replace Values Based on a Condition\n",
    "In cases where the values need to satisfy a particular condition, we can iterate through the values to check if the condition is satisfied and to make changes accordingly.\n",
    "\n",
    "For example, the maximum age of students in this elementary school is **14**. But there are two students whose ages are **80** and **100**. This looks like a typo where an additional zero has been added unintentionally.\n",
    "\n",
    "Let's fix the error."
   ]
  },
  {
   "cell_type": "code",
   "execution_count": 3,
   "id": "bf08feae-585f-4489-8b96-5d3816aa5a3e",
   "metadata": {},
   "outputs": [
    {
     "name": "stdout",
     "output_type": "stream",
     "text": [
      "      Name  Age Gender  Standard\n",
      "0     John    8      M         3\n",
      "1  Michael    9      M         4\n",
      "2      Tom    7      M        12\n",
      "3     Alex    8      M         3\n",
      "4     Ryan   10      M         5\n"
     ]
    }
   ],
   "source": [
    "import pandas as pd\n",
    "\n",
    "# create dataframe\n",
    "data = {\n",
    "    'Name': ['John', 'Michael', 'Tom', 'Alex', 'Ryan'],\n",
    "    'Age': [8, 9, 7, 80, 100],\n",
    "    'Gender': ['M', 'M', 'M', 'M', 'M'],\n",
    "    'Standard': [3, 4, 12, 3, 5]\n",
    "}\n",
    "df = pd.DataFrame(data)\n",
    "\n",
    "# replace values based on conditions\n",
    "for i  in df.index:\n",
    "    age_val = df.loc[i, 'Age']\n",
    "    if (age_val > 14) and (age_val%10 == 0):\n",
    "        df.loc[i, 'Age'] = age_val/10\n",
    "\n",
    "print(df)"
   ]
  },
  {
   "cell_type": "markdown",
   "id": "1d270ff7-2820-4148-bea5-174ddd2a258f",
   "metadata": {},
   "source": [
    "In the above example, we replaced ages greater than **14** which are a multiple of **10** by removing a zero from the original values.\n",
    "\n",
    "We checked if the age is a multiple of **10** because it is highly likely that a higher age which is a multiple of **10** is a typo."
   ]
  },
  {
   "cell_type": "markdown",
   "id": "dc0813c9-7ac0-4d53-9d98-b826e06a1bd1",
   "metadata": {},
   "source": [
    "## Remove Wrong Values\n",
    "Some values can't be corrected. For example, the value **12** in `Standard` doesn't make any sense as this is an elementary school. But we can't also correct it because we don't know the right standard.\n",
    "\n",
    "So we need to remove this whole row and any other row with such values."
   ]
  },
  {
   "cell_type": "code",
   "execution_count": 4,
   "id": "d3c463c6-3a1f-46c9-bf99-b7512941d0d8",
   "metadata": {},
   "outputs": [
    {
     "name": "stdout",
     "output_type": "stream",
     "text": [
      "      Name  Age Gender  Standard\n",
      "0     John    8      M         3\n",
      "1  Michael    9      M         4\n",
      "3     Alex    8      M         3\n",
      "4     Ryan   10      M         5\n"
     ]
    }
   ],
   "source": [
    "import pandas as pd\n",
    "\n",
    "# create dataframe\n",
    "data = {\n",
    "    'Name': ['John', 'Michael', 'Tom', 'Alex', 'Ryan'],\n",
    "    'Age': [8, 9, 7, 8, 10],\n",
    "    'Gender': ['M', 'M', 'M', 'M', 'M'],\n",
    "    'Standard': [3, 4, 12, 3, 5]\n",
    "}\n",
    "df = pd.DataFrame(data)\n",
    "\n",
    "# remove mistaken values\n",
    "for i in df.index:\n",
    "    if df.loc[i,'Standard'] > 8:\n",
    "        df.drop(i, inplace=True)\n",
    "\n",
    "print(df)"
   ]
  },
  {
   "cell_type": "markdown",
   "id": "15e92467-8e48-4166-b975-b7a58c6d862a",
   "metadata": {},
   "source": [
    "In this example, we removed the row(s) containing values greater than 8 in the `Standard` column."
   ]
  },
  {
   "cell_type": "code",
   "execution_count": null,
   "id": "2248b69f-896e-4e3b-b2d5-717e37efacb5",
   "metadata": {},
   "outputs": [],
   "source": []
  }
 ],
 "metadata": {
  "kernelspec": {
   "display_name": "Python 3 (ipykernel)",
   "language": "python",
   "name": "python3"
  },
  "language_info": {
   "codemirror_mode": {
    "name": "ipython",
    "version": 3
   },
   "file_extension": ".py",
   "mimetype": "text/x-python",
   "name": "python",
   "nbconvert_exporter": "python",
   "pygments_lexer": "ipython3",
   "version": "3.9.1"
  }
 },
 "nbformat": 4,
 "nbformat_minor": 5
}
