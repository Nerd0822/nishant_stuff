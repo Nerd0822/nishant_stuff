{
 "cells": [
  {
   "cell_type": "markdown",
   "id": "29c2809e-3312-4026-b8b1-789056a5fb69",
   "metadata": {},
   "source": [
    "# Pandas Data Cleaning\n",
    "\n",
    "**Data cleaning** means fixing and organizing messy data. Pandas offers a wide range of tools and functions to help us clean and preprocess our data effectively.\n",
    "\n",
    "Data cleaning often involves:\n",
    "\n",
    " 1. Dropping irrelevant columns.\n",
    " 2. Renaming column names to meaningful names.\n",
    " 3. Making data values consistent.\n",
    " 4. Replacing or filling in missing values.\n"
   ]
  },
  {
   "cell_type": "markdown",
   "id": "a022fbc2-710e-4238-a185-a85d58623cf4",
   "metadata": {},
   "source": [
    "## Pandas Handling Missing Values\n",
    "In Pandas, missing values, often represented as `NaN` (Not a Number), can cause problems during data processing and analysis. These gaps in data can lead to incorrect analysis and misleading conclusions.\n",
    "\n",
    "Pandas provides a host of functions like `dropna()`, `fillna()` and `combine_first()` to handle missing values.\n",
    "\n",
    "Let's consider the following DataFrame to illustrate various techniques on handling missing data:"
   ]
  },
  {
   "cell_type": "code",
   "execution_count": 17,
   "id": "cae6f2c7-a00a-4130-8491-2180c3d4835d",
   "metadata": {},
   "outputs": [
    {
     "name": "stdout",
     "output_type": "stream",
     "text": [
      "     A    B    C  D\n",
      "0  1.0  NaN  1.0  1\n",
      "1  2.0  2.0  2.0  2\n",
      "2  NaN  3.0  3.0  3\n",
      "3  4.0  4.0  NaN  4\n",
      "4  5.0  5.0  5.0  5\n"
     ]
    }
   ],
   "source": [
    "import pandas as pd\n",
    "import numpy as np\n",
    "\n",
    "# create dataframe with missing values\n",
    "data = {\n",
    "    'A': [1, 2, np.nan, 4, 5],\n",
    "    'B': [np.nan, 2, 3, 4, 5],\n",
    "    'C': [1, 2, 3, np.nan, 5],\n",
    "    'D': [1, 2, 3, 4, 5]\n",
    "}\n",
    "df = pd.DataFrame(data)\n",
    "\n",
    "print(df)"
   ]
  },
  {
   "cell_type": "markdown",
   "id": "8e8329f2-fbae-4f62-a00f-92e3aea01226",
   "metadata": {},
   "source": [
    "Here, we have used the NumPy library to generate `NaN` values in the DataFrame."
   ]
  },
  {
   "cell_type": "markdown",
   "id": "2926b026-03f8-4a3c-9323-532b480c27fe",
   "metadata": {},
   "source": [
    "## Drop Rows With Missing Values with dropna()\n",
    "In Pandas, we can drop rows with missing values using the `dropna()` function. For example,"
   ]
  },
  {
   "cell_type": "code",
   "execution_count": 10,
   "id": "4afa698c-8802-4dda-b552-4c2c946b1aad",
   "metadata": {},
   "outputs": [
    {
     "name": "stdout",
     "output_type": "stream",
     "text": [
      "Original data\n",
      "      A    B    C  D\n",
      "0  1.0  NaN  1.0  1\n",
      "1  2.0  2.0  2.0  2\n",
      "2  NaN  3.0  3.0  3\n",
      "3  4.0  4.0  NaN  4\n",
      "4  5.0  5.0  5.0  5\n",
      "\n",
      "\n",
      "Cleaned data \n",
      "      A    B    C  D\n",
      "1  2.0  2.0  2.0  2\n",
      "4  5.0  5.0  5.0  5\n"
     ]
    }
   ],
   "source": [
    "import pandas as pd\n",
    "import numpy as np\n",
    "\n",
    "# create a dataframe with missing values\n",
    "data = {\n",
    "    'A': [1, 2, np.nan, 4, 5],\n",
    "    'B': [np.nan, 2, 3, 4, 5],\n",
    "    'C': [1, 2, 3, np.nan, 5],\n",
    "    'D': [1, 2, 3, 4, 5]\n",
    "}\n",
    "df = pd.DataFrame(data)\n",
    "print('Original data\\n',df)\n",
    "print('\\n')\n",
    "# remove rows with missing values\n",
    "df.dropna(inplace=True)\n",
    "\n",
    "print('Cleaned data \\n',df)"
   ]
  },
  {
   "cell_type": "code",
   "execution_count": 14,
   "id": "161c374e-3d38-4155-8cbe-61f167afe2c1",
   "metadata": {},
   "outputs": [
    {
     "name": "stdout",
     "output_type": "stream",
     "text": [
      "Original Data:\n",
      "      A    B    C\n",
      "0  1.0  NaN  1.0\n",
      "1  2.0  2.0  2.0\n",
      "2  3.0  3.0  NaN\n",
      "3  NaN  4.0  NaN\n",
      "4  5.0  5.0  5.0\n",
      "\n",
      "Cleaned Data:\n",
      "      A    B    C\n",
      "1  2.0  2.0  2.0\n",
      "4  5.0  5.0  5.0\n"
     ]
    }
   ],
   "source": [
    "import pandas as pd\n",
    "\n",
    "# define a dictionary with sample data which includes some missing values\n",
    "data = {\n",
    "    'A': [1, 2, 3, None, 5],  \n",
    "    'B': [None, 2, 3, 4, 5],  \n",
    "    'C': [1, 2, None, None, 5]\n",
    "}\n",
    "\n",
    "df = pd.DataFrame(data)\n",
    "print(\"Original Data:\\n\",df)\n",
    "print()\n",
    "\n",
    "# use dropna() to remove rows with any missing values\n",
    "df_cleaned = df.dropna()\n",
    "\n",
    "print(\"Cleaned Data:\\n\",df_cleaned)"
   ]
  },
  {
   "cell_type": "markdown",
   "id": "f3f00bbb-b5a5-4557-acf3-ed4e60d084eb",
   "metadata": {},
   "source": [
    "Here, we have used the `dropna()` method to remove rows with any missing values. The resulting DataFrame `df_cleaned` will only contain rows without any missing values"
   ]
  },
  {
   "cell_type": "markdown",
   "id": "addc8228-d3b2-4842-9bfe-07110e9adc7a",
   "metadata": {},
   "source": [
    "## Fill Missing Values with fillna()\n",
    "To fill the missing values in Pandas, we use the `fillna()` function. For example,"
   ]
  },
  {
   "cell_type": "code",
   "execution_count": 9,
   "id": "4bfe08be-9e3f-4722-8746-5caa0f7ba07c",
   "metadata": {},
   "outputs": [
    {
     "name": "stdout",
     "output_type": "stream",
     "text": [
      "Original Data:\n",
      "      A    B    C\n",
      "0  1.0  NaN  1.0\n",
      "1  2.0  2.0  2.0\n",
      "2  3.0  3.0  NaN\n",
      "3  NaN  4.0  NaN\n",
      "4  5.0  5.0  5.0\n",
      "\n",
      "Data after filling NaN with 0:\n",
      "      A    B    C\n",
      "0  1.0  0.0  1.0\n",
      "1  2.0  2.0  2.0\n",
      "2  3.0  3.0  0.0\n",
      "3  0.0  4.0  0.0\n",
      "4  5.0  5.0  5.0\n"
     ]
    }
   ],
   "source": [
    "import pandas as pd\n",
    "\n",
    "# define a dictionary with sample data which includes some missing values\n",
    "data = {\n",
    "    'A': [1, 2, 3, None, 5],  \n",
    "    'B': [None, 2, 3, 4, 5],  \n",
    "    'C': [1, 2, None, None, 5]\n",
    "}\n",
    "\n",
    "df = pd.DataFrame(data)\n",
    "\n",
    "print(\"Original Data:\\n\", df)\n",
    "\n",
    "# filling NaN values with 0\n",
    "df.fillna(0, inplace=True)\n",
    "\n",
    "print(\"\\nData after filling NaN with 0:\\n\", df)"
   ]
  },
  {
   "cell_type": "code",
   "execution_count": 19,
   "id": "069e4ba9-1901-4cdb-a716-ff5e86d7719e",
   "metadata": {},
   "outputs": [
    {
     "name": "stdout",
     "output_type": "stream",
     "text": [
      "     A    B    C  D\n",
      "0  1.0  0.0  1.0  1\n",
      "1  2.0  2.0  2.0  2\n",
      "2  0.0  3.0  3.0  3\n",
      "3  4.0  4.0  0.0  4\n",
      "4  5.0  5.0  5.0  5\n"
     ]
    }
   ],
   "source": [
    "import pandas as pd\n",
    "import numpy as np\n",
    "\n",
    "# create a dataframe with missing values\n",
    "data = {\n",
    "    'A': [1, 2, np.nan, 4, 5],\n",
    "    'B': [np.nan, 2, 3, 4, 5],\n",
    "    'C': [1, 2, 3, np.nan, 5],\n",
    "    'D': [1, 2, 3, 4, 5]\n",
    "}\n",
    "df = pd.DataFrame(data)\n",
    "\n",
    "# replace missing values with 0\n",
    "df.fillna(value=0, inplace=True)\n",
    "\n",
    "print(df)"
   ]
  },
  {
   "cell_type": "code",
   "execution_count": null,
   "id": "132f2684",
   "metadata": {},
   "outputs": [],
   "source": []
  },
  {
   "cell_type": "markdown",
   "id": "c3e2bc5b-60bf-4116-8786-c155cc5706f1",
   "metadata": {},
   "source": [
    "Here, we used `data.fillna()` to fill the missing values(`NaN`) in each column with **0**.\n",
    "\n",
    "**Note:** The `inplace=True` argument here means that the operation will modify the DataFrame directly, rather than returning a new DataFrame with the modifications."
   ]
  },
  {
   "cell_type": "markdown",
   "id": "11dc0325-d930-4150-8d7a-f03d218fe6f1",
   "metadata": {},
   "source": [
    "## Use Aggregate Functions to Fill Missing Values\n",
    "Instead of filling with **0**, we can also use aggregate functions to fill missing values.\n",
    "\n",
    "Let's look at an example to fill missing values with the mean of each column."
   ]
  },
  {
   "cell_type": "code",
   "execution_count": 25,
   "id": "26b2f15a-0c7d-44b9-95dc-86880ad429f6",
   "metadata": {},
   "outputs": [
    {
     "name": "stdout",
     "output_type": "stream",
     "text": [
      "2.1.1\n",
      "Original Data:\n",
      "      A    B    C\n",
      "0  1.0  NaN  1.0\n",
      "1  2.0  2.0  2.0\n",
      "2  3.0  3.0  NaN\n",
      "3  NaN  4.0  NaN\n",
      "4  5.0  5.0  5.0\n",
      "\n",
      "Data after filling NaN with mean:\n",
      "       A     B    C\n",
      "0   1.0  14.0  1.0\n",
      "1   2.0   2.0  2.0\n",
      "2   3.0   3.0  8.0\n",
      "3  11.0   4.0  8.0\n",
      "4   5.0   5.0  5.0\n"
     ]
    }
   ],
   "source": [
    "import pandas as pd\n",
    "print(pd.__version__)\n",
    "\n",
    "# define a dictionary with sample data which includes some missing values\n",
    "data = {\n",
    "    'A': [1, 2, 3, None, 5],  \n",
    "    'B': [None, 2, 3, 4, 5],  \n",
    "    'C': [1, 2, None, None, 5]\n",
    "}\n",
    "\n",
    "df = pd.DataFrame(data)\n",
    "\n",
    "print(\"Original Data:\\n\", df)\n",
    "\n",
    "# filling NaN values with the mean of each column\n",
    "df.fillna(df.sum(), inplace=True)\n",
    "\n",
    "print(\"\\nData after filling NaN with mean:\\n\", df)"
   ]
  },
  {
   "cell_type": "markdown",
   "id": "061a5670-17d5-4f65-bf04-fefb99385460",
   "metadata": {},
   "source": [
    "Here, the `df.mean()` calculates the mean for each column, and the `fillna()` method then replaces `NaN` values in each column with the respective mean."
   ]
  },
  {
   "cell_type": "markdown",
   "id": "274d7376-30b7-44c7-b9bb-21269f38f49b",
   "metadata": {},
   "source": [
    "## Replace Missing Values With Mean, Median and Mode\n",
    "A more refined approach is to replace missing values with the mean, median, or mode of the remaining values in the column. This can give a more accurate representation than just replacing it with a default value.\n",
    "\n",
    "We can use the `fillna()` function with aggregate functions to replace missing values with mean, median or mode.\n",
    "\n",
    "Let's look at an example."
   ]
  },
  {
   "cell_type": "code",
   "execution_count": 21,
   "id": "00519077-dbce-4fa2-9b7f-fd4621942efd",
   "metadata": {},
   "outputs": [
    {
     "name": "stdout",
     "output_type": "stream",
     "text": [
      "     A    B    C  D\n",
      "0  1.0  3.5  1.0  1\n",
      "1  2.0  2.0  2.0  2\n",
      "2  3.0  3.0  3.0  3\n",
      "3  4.0  4.0  1.0  4\n",
      "4  5.0  5.0  5.0  5\n"
     ]
    }
   ],
   "source": [
    "import pandas as pd\n",
    "import numpy as np\n",
    "\n",
    "# create a dataframe with missing values\n",
    "data = {\n",
    "    'A': [1, 2, np.nan, 4, 5],\n",
    "    'B': [np.nan, 2, 3, 4, 5],\n",
    "    'C': [1, 2, 3, np.nan, 5],\n",
    "    'D': [1, 2, 3, 4, 5]\n",
    "}\n",
    "df = pd.DataFrame(data)\n",
    "\n",
    "# replace missing values with mean\n",
    "df['A'].fillna(value=df['A'].mean(), inplace=True)\n",
    "\n",
    "# replace missing values with median\n",
    "df['B'].fillna(value=df['B'].median(), inplace=True)\n",
    "\n",
    "# replace missing values with mode\n",
    "df['C'].fillna(value=df['C'].mode()[0], inplace=True)\n",
    "\n",
    "print(df)"
   ]
  },
  {
   "cell_type": "markdown",
   "id": "8808baf6-aefb-4090-b794-6d09cd3902d4",
   "metadata": {},
   "source": [
    "## Replace Values Using Another DataFrame\n",
    "We can replace missing values in one DataFrame using another DataFrame using the `fillna()` method.\n",
    "\n",
    "Let's look at an example."
   ]
  },
  {
   "cell_type": "code",
   "execution_count": 22,
   "id": "b1fbef89-0ad0-43f3-b35a-84d72641d7ce",
   "metadata": {},
   "outputs": [
    {
     "name": "stdout",
     "output_type": "stream",
     "text": [
      "      A     B     C  D\n",
      "0   1.0  10.0   1.0  1\n",
      "1   2.0   2.0   2.0  2\n",
      "2  30.0   3.0   3.0  3\n",
      "3   4.0   4.0  40.0  4\n",
      "4   5.0   5.0   5.0  5\n"
     ]
    }
   ],
   "source": [
    "import pandas as pd\n",
    "import numpy as np\n",
    "\n",
    "# create a dataframe with missing values\n",
    "data1 = {\n",
    "    'A': [1, 2, np.nan, 4, 5],\n",
    "    'B': [np.nan, 2, 3, 4, 5],\n",
    "    'C': [1, 2, 3, np.nan, 5],\n",
    "    'D': [1, 2, 3, 4, 5]\n",
    "}\n",
    "df1 = pd.DataFrame(data1)\n",
    "\n",
    "# create datframe to fill the missing values with\n",
    "data2 = {\n",
    "    'A': [10, 20, 30, 40, 50],\n",
    "    'B': [10, 20, 30, 40, 50],\n",
    "    'C': [10, 20, 30, 40, 50],\n",
    "    'D': [10, 20, 30, 40, 50]\n",
    "}\n",
    "df2 = pd.DataFrame(data2)\n",
    "\n",
    "# replace missing values\n",
    "df1.fillna(df2, inplace=True)\n",
    "\n",
    "print(df1)"
   ]
  },
  {
   "cell_type": "markdown",
   "id": "229c9ce9-05a2-4d49-a816-970d05740278",
   "metadata": {},
   "source": [
    "Here, we've two dataframes `df1` and `df2`. The `fillna()` replaces missing values in `df1` with corresponding values from `df2`."
   ]
  },
  {
   "cell_type": "markdown",
   "id": "34f1dcf8-1579-467a-a003-a244caf27542",
   "metadata": {},
   "source": [
    "## Handle Duplicates Values\n",
    "In Pandas, to handle duplicate rows, we can use the `duplicated()` and the `drop_duplicates()` function.\n",
    "\n",
    "`duplicated()` - to check for duplicates\n",
    "`drop_duplicates()` - remove duplicate rows"
   ]
  },
  {
   "cell_type": "code",
   "execution_count": 34,
   "id": "d545383e-66d8-41f9-8544-e3809596eeb8",
   "metadata": {},
   "outputs": [
    {
     "name": "stdout",
     "output_type": "stream",
     "text": [
      "Original DataFrame:\n",
      "  A  B\n",
      " 1  5\n",
      " 2  6\n",
      " 2  6\n",
      " 3  7\n",
      " 3  8\n",
      " 4  8\n",
      "\n",
      "Duplicate Rows:\n",
      "  A  B\n",
      " 2  6\n",
      "\n",
      "DataFrame after removing duplicates based on column 'A':\n",
      "  A  B\n",
      " 1  5\n",
      " 2  6\n",
      " 3  8\n",
      " 4  8\n"
     ]
    }
   ],
   "source": [
    "import pandas as pd\n",
    "\n",
    "# sample data\n",
    "data = {\n",
    "    'A': [1, 2, 2, 3, 3, 4],\n",
    "    'B': [5, 6, 6, 7, 8, 8]\n",
    "}\n",
    "df = pd.DataFrame(data)\n",
    "\n",
    "print(\"Original DataFrame:\\n\", df.to_string(index=False))\n",
    "\n",
    "# detect duplicates\n",
    "print(\"\\nDuplicate Rows:\\n\", df[df.duplicated()].to_string(index=False))\n",
    "\n",
    "# remove duplicates based on column 'A'\n",
    "df.drop_duplicates(subset=['A'], keep='first', inplace=True)\n",
    "#keep='last'\n",
    "\n",
    "print(\"\\nDataFrame after removing duplicates based on column 'A':\\n\", df.to_string(index=False))"
   ]
  },
  {
   "cell_type": "markdown",
   "id": "76de1366-c570-4901-afe2-17ff64437e9b",
   "metadata": {},
   "source": [
    "Here,\n",
    "\n",
    "`df[df.duplicated()]` produces a boolean Series to identify duplicate rows.\n",
    "`df.drop_duplicates(subset=['A'], keep='first', inplace=True)`, removes duplicates based on column `A`, retaining only the first occurrence of each duplicate directly in the original DataFrame.\n",
    "\n",
    "`subset=['B']`: This parameter specifies that duplicates should be identified based on the values in column 'B'. It means the code looks for rows with duplicate values in column 'B'.\n",
    "\n",
    "`keep='first'`: This specifies which duplicates (if any) to keep. 'first' means that it will keep the first occurrence of each unique value and drop all subsequent duplicates.\n",
    "\n",
    "`inplace=True`: This means that the DataFrame df will be modified in place. The operation will be performed on the original DataFrame, and no new DataFrame is returned."
   ]
  },
  {
   "cell_type": "markdown",
   "id": "cd2817d8-5d8e-4999-838c-0b593b9c75f0",
   "metadata": {},
   "source": [
    "## Rename Column Names to Meaningful Names\n",
    "To rename column names to more meaningful names in Pandas, we can use the `rename()` function. For example,"
   ]
  },
  {
   "cell_type": "code",
   "execution_count": 16,
   "id": "4724146a-dc81-41fa-b559-82d84155e2cf",
   "metadata": {},
   "outputs": [
    {
     "name": "stdout",
     "output_type": "stream",
     "text": [
      " Age  Name  Salary\n",
      "  25  John   50000\n",
      "  30   Doe   60000\n",
      "  35 Smith   70000\n"
     ]
    }
   ],
   "source": [
    "import pandas as pd\n",
    "\n",
    "# sample data\n",
    "data = {\n",
    "    'A': [25, 30, 35],\n",
    "    'B': ['John', 'Doe', 'Smith'],\n",
    "    'C': [50000, 60000, 70000]\n",
    "}\n",
    "\n",
    "df = pd.DataFrame(data)\n",
    "\n",
    "# rename columns\n",
    "df.rename(columns={'A': 'Age', 'B': 'Name', 'C': 'Salary'}, inplace=True)\n",
    "\n",
    "print(df.to_string(index=False))"
   ]
  },
  {
   "cell_type": "markdown",
   "id": "162e8b86-b5dc-4ff4-aeb1-1662b55f3ce5",
   "metadata": {},
   "source": [
    "Here, the columns of `df` are renamed from `A`, `B`, and `C` to more meaningful names `Age`, `Name`, and `Salary` respectively."
   ]
  },
  {
   "cell_type": "code",
   "execution_count": null,
   "id": "5912eb2e-e4f7-4f62-b365-18d2b180fccc",
   "metadata": {},
   "outputs": [],
   "source": []
  }
 ],
 "metadata": {
  "kernelspec": {
   "display_name": "Python 3",
   "language": "python",
   "name": "python3"
  },
  "language_info": {
   "codemirror_mode": {
    "name": "ipython",
    "version": 3
   },
   "file_extension": ".py",
   "mimetype": "text/x-python",
   "name": "python",
   "nbconvert_exporter": "python",
   "pygments_lexer": "ipython3",
   "version": "3.9.1"
  }
 },
 "nbformat": 4,
 "nbformat_minor": 5
}
