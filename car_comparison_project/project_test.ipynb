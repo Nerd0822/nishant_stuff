{
 "cells": [
  {
   "cell_type": "code",
   "execution_count": 3,
   "metadata": {},
   "outputs": [],
   "source": [
    "from selenium import webdriver\n",
    "from selenium.webdriver.common.by import By\n",
    "import csv\n"
   ]
  },
  {
   "cell_type": "markdown",
   "metadata": {},
   "source": [
    "# for koenigsegg cars\n"
   ]
  },
  {
   "cell_type": "code",
   "execution_count": null,
   "metadata": {},
   "outputs": [],
   "source": [
    "driver=webdriver.Chrome()\n",
    "\n",
    "url=\"https://www.koenigsegg.com/megacars\"\n",
    "\n",
    "driver.get(url)\n",
    "\n",
    "links=driver.find_elements(By.TAG_NAME,\"a\")\n",
    "\n",
    "ghost=[]\n",
    "\n",
    "\n",
    "    "
   ]
  },
  {
   "cell_type": "code",
   "execution_count": 4,
   "metadata": {},
   "outputs": [
    {
     "name": "stdout",
     "output_type": "stream",
     "text": [
      "['Cc850', 'Gemera', 'Jesko-absolut', 'Jesko-attack', 'Regera', 'Agera-rs', 'One1', 'Agera-s', 'Agera-r', 'Agera', 'Ccxr', 'Ccx', 'Ccgt', 'Ccr', 'Cc8s', 'Cc-prototype']\n"
     ]
    }
   ],
   "source": [
    "for link in links:\n",
    "    ele=link.get_attribute('href')\n",
    "    if \"/model/\" in ele:\n",
    "        ele=ele.split(\"/model/\")\n",
    "        names=ele[-1].capitalize()\n",
    "\n",
    "        ghost.append(names)\n",
    "\n",
    "print(ghost)\n",
    "\n"
   ]
  },
  {
   "cell_type": "code",
   "execution_count": 74,
   "metadata": {},
   "outputs": [],
   "source": [
    "with open(\"cars_data.csv\",\"w\",newline='') as file:\n",
    "    csv_writer=csv.writer(file)\n",
    "    csv_writer.writerow([\"car name (koenigsegg)\"]) #header\n",
    "\n",
    "    for car_name in ghost:\n",
    "        csv_writer.writerow([car_name])\n",
    "\n",
    "\n"
   ]
  },
  {
   "cell_type": "markdown",
   "metadata": {},
   "source": [
    "# for pagani cars\n"
   ]
  },
  {
   "cell_type": "code",
   "execution_count": 54,
   "metadata": {},
   "outputs": [],
   "source": [
    "#accessing the website:\n",
    "driver=webdriver.Chrome()\n",
    "\n",
    "driver.get(\"https://www.pagani.com/\")"
   ]
  },
  {
   "cell_type": "code",
   "execution_count": 55,
   "metadata": {},
   "outputs": [],
   "source": [
    "#allowing cookies:\n",
    "driver.find_element(By.ID,\"CybotCookiebotDialogBodyLevelButtonLevelOptinAllowAll\").click()"
   ]
  },
  {
   "cell_type": "code",
   "execution_count": 56,
   "metadata": {},
   "outputs": [],
   "source": [
    "#opening navbar:\n",
    "driver.find_element(By.CLASS_NAME,\"button.button--hamburger.header__menu-toggle.js-toggle-menu\").click()"
   ]
  },
  {
   "cell_type": "code",
   "execution_count": 57,
   "metadata": {},
   "outputs": [],
   "source": [
    "#finding hypercars section :\n",
    "driver.find_element(By.LINK_TEXT,\"HYPERCARS\").click()\n",
    "\n",
    "pagani=[]"
   ]
  },
  {
   "cell_type": "code",
   "execution_count": 71,
   "metadata": {},
   "outputs": [],
   "source": [
    "\n",
    "for link in driver.find_elements(By.TAG_NAME,\"a\"):\n",
    "    ele=link.get_attribute('href')\n",
    "    name=ele.split(\"/\")\n",
    "    if name[-2].startswith((\"zonda\",\"huayra\",\"utopia\",\"grandi\")):\n",
    "        pagani.append(name[-2])"
   ]
  },
  {
   "cell_type": "code",
   "execution_count": 75,
   "metadata": {},
   "outputs": [],
   "source": [
    "with open(\"cars_data.csv\",\"a\",newline='') as file:\n",
    "    csv_writer=csv.writer(file)\n",
    "\n",
    "    csv_writer.writerow([\"car name (pagani)\"])\n",
    "\n",
    "    for car_name in pagani:\n",
    "        csv_writer.writerow([car_name])"
   ]
  },
  {
   "cell_type": "markdown",
   "metadata": {},
   "source": [
    "# for ferrari\n"
   ]
  },
  {
   "cell_type": "code",
   "execution_count": 2,
   "metadata": {},
   "outputs": [
    {
     "ename": "NameError",
     "evalue": "name 'webdriver' is not defined",
     "output_type": "error",
     "traceback": [
      "\u001b[1;31m---------------------------------------------------------------------------\u001b[0m",
      "\u001b[1;31mNameError\u001b[0m                                 Traceback (most recent call last)",
      "Cell \u001b[1;32mIn[2], line 2\u001b[0m\n\u001b[0;32m      1\u001b[0m \u001b[38;5;66;03m#opening website:\u001b[39;00m\n\u001b[1;32m----> 2\u001b[0m driver\u001b[38;5;241m=\u001b[39m\u001b[43mwebdriver\u001b[49m\u001b[38;5;241m.\u001b[39mChrome()\n\u001b[0;32m      3\u001b[0m driver\u001b[38;5;241m.\u001b[39mget(\u001b[38;5;124m\"\u001b[39m\u001b[38;5;124mhttps://www.ferrari.com/en-IN\u001b[39m\u001b[38;5;124m\"\u001b[39m)\n",
      "\u001b[1;31mNameError\u001b[0m: name 'webdriver' is not defined"
     ]
    }
   ],
   "source": [
    "#opening website:\n",
    "driver=webdriver.Chrome()\n",
    "driver.get(\"https://www.ferrari.com/en-IN\")"
   ]
  },
  {
   "cell_type": "code",
   "execution_count": 78,
   "metadata": {},
   "outputs": [],
   "source": [
    "#accept cookies button:\n",
    "driver.find_element(By.ID,\"onetrust-accept-btn-handler\").click()"
   ]
  },
  {
   "cell_type": "code",
   "execution_count": 81,
   "metadata": {},
   "outputs": [],
   "source": [
    "#opening menu:\n",
    "driver.find_element(By.CLASS_NAME,\"menu-pillars-toggle\").click()"
   ]
  },
  {
   "cell_type": "code",
   "execution_count": 1,
   "metadata": {},
   "outputs": [
    {
     "ename": "NameError",
     "evalue": "name 'driver' is not defined",
     "output_type": "error",
     "traceback": [
      "\u001b[1;31m---------------------------------------------------------------------------\u001b[0m",
      "\u001b[1;31mNameError\u001b[0m                                 Traceback (most recent call last)",
      "Cell \u001b[1;32mIn[1], line 3\u001b[0m\n\u001b[0;32m      1\u001b[0m \u001b[38;5;66;03m#fetch all links:\u001b[39;00m\n\u001b[1;32m----> 3\u001b[0m \u001b[38;5;28;01mfor\u001b[39;00m i \u001b[38;5;129;01min\u001b[39;00m \u001b[43mdriver\u001b[49m\u001b[38;5;241m.\u001b[39mfind_elements(By\u001b[38;5;241m.\u001b[39mTAG_NAME,\u001b[38;5;124m\"\u001b[39m\u001b[38;5;124ma\u001b[39m\u001b[38;5;124m\"\u001b[39m):\n\u001b[0;32m      4\u001b[0m     ele\u001b[38;5;241m=\u001b[39mi\u001b[38;5;241m.\u001b[39mget_attribute(\u001b[38;5;124m'\u001b[39m\u001b[38;5;124mhref\u001b[39m\u001b[38;5;124m'\u001b[39m)\n\u001b[0;32m      5\u001b[0m     \u001b[38;5;28mprint\u001b[39m(ele[\u001b[38;5;241m-\u001b[39m\u001b[38;5;241m1\u001b[39m])\n",
      "\u001b[1;31mNameError\u001b[0m: name 'driver' is not defined"
     ]
    }
   ],
   "source": [
    "#fetch all links:\n",
    "\n",
    "for i in driver.find_elements(By.TAG_NAME,\"a\"):\n",
    "    ele=i.get_attribute('href')\n",
    "    print(ele[-1])"
   ]
  }
 ],
 "metadata": {
  "kernelspec": {
   "display_name": "Python 3",
   "language": "python",
   "name": "python3"
  },
  "language_info": {
   "codemirror_mode": {
    "name": "ipython",
    "version": 3
   },
   "file_extension": ".py",
   "mimetype": "text/x-python",
   "name": "python",
   "nbconvert_exporter": "python",
   "pygments_lexer": "ipython3",
   "version": "3.12.8"
  }
 },
 "nbformat": 4,
 "nbformat_minor": 2
}
