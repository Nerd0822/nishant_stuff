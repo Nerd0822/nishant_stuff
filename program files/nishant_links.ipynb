{
 "cells": [
  {
   "cell_type": "code",
   "execution_count": 27,
   "metadata": {},
   "outputs": [],
   "source": [
    "import requests\n",
    "from bs4 import BeautifulSoup\n",
    "\n"
   ]
  },
  {
   "cell_type": "code",
   "execution_count": 32,
   "metadata": {},
   "outputs": [],
   "source": [
    "url=\"https://www.ihubiitmandi.in/about-us/\"\n",
    "headers = {'User-Agent': 'Mozilla/5.0 (Linux; Android 5.1.1; SM-G928X Build/LMY47X) AppleWebKit/537.36 (KHTML, like Gecko) Chrome/47.0.2526.83 Mobile Safari/537.36'}"
   ]
  },
  {
   "cell_type": "code",
   "execution_count": 33,
   "metadata": {},
   "outputs": [],
   "source": [
    "response=requests.get(url,headers=headers)"
   ]
  },
  {
   "cell_type": "code",
   "execution_count": 34,
   "metadata": {},
   "outputs": [],
   "source": [
    "soup=BeautifulSoup(response.text,\"html.parser\")"
   ]
  },
  {
   "cell_type": "code",
   "execution_count": 38,
   "metadata": {},
   "outputs": [
    {
     "name": "stdout",
     "output_type": "stream",
     "text": [
      "https://www.ihubiitmandi.in/my-account/lost-password/\n",
      "https://www.ihubiitmandi.in/\n",
      "https://ihubiitmandi.in/\n",
      "https://www.ihubiitmandi.in/about-us/\n",
      "https://www.ihubiitmandi.in/team/\n",
      "https://www.ihubiitmandi.in/research-and-development/\n",
      "https://www.ihubiitmandi.in/call-for-proposals/\n",
      "https://www.ihubiitmandi.in/affiliated-faculty-2/\n",
      "https://www.ihubiitmandi.in/fellowship/\n",
      "https://www.ihubiitmandi.in/ongoing-projects/\n",
      "https://www.ihubiitmandi.in/skill-development-programs/\n",
      "https://www.ihubiitmandi.in/startups/\n",
      "https://www.ihubiitmandi.in/collaborations/\n",
      "https://www.ihubiitmandi.in/news-media/\n",
      "https://www.ihubiitmandi.in/newsletter/\n",
      "https://www.ihubiitmandi.in/press/\n",
      "https://www.ihubiitmandi.in/brochure/\n",
      "https://www.ihubiitmandi.in/gallery/\n",
      "https://www.ihubiitmandi.in/center-of-excellence/\n",
      "https://chci.iitmandi.ac.in/index.php\n",
      "#collapseSearchMobile\n",
      "https://www.ihubiitmandi.in/my-account/\n",
      "https://www.ihubiitmandi.in\n",
      "https://ihubiitmandi.in/research-and-development/\n",
      "https://ihubiitmandi.in/skill-development-programs/\n",
      "https://ihubiitmandi.in/startups/\n",
      "https://ihubiitmandi.in/collaborations/\n",
      "tel:90154%2058338\n",
      "tel:90154%2058338\n",
      "mailto:tih@iitmandi.ac.in\n",
      "https://ihubiitmandi.in/about-us/\n",
      "https://ihubiitmandi.in/team/\n",
      "https://ihubiitmandi.in/infrastructure/\n",
      "https://ihubiitmandi.in/contact-us/\n",
      "https://ihubiitmandi.in/donation/\n",
      "https://ihubiitmandi.in/careers/\n",
      "https://ihubiitmandi.in/press/\n",
      "https://ihubiitmandi.in/call-for-proposals/\n",
      "https://innovometer.ihubiitmandi.in/\n",
      "https://www.ihubiitmandi.in/call-for-innovation/\n",
      "https://www.ihubiitmandi.in/newsletter/\n",
      "https://ihubiitmandi.in/visits-to-ihub-office/\n",
      "https://ihubiitmandi.in/workshops/\n",
      "https://ihubiitmandi.in/news/\n",
      "http://ihubiitmandi.in/lp-courses/\n",
      "https://ihubiitmandi.in/startups/\n",
      "https://ihubiitmandi.in/tender/\n",
      "https://www.ihubiitmandi.in/wp-content/uploads/2023/12/Procurement-Policy.pdf\n",
      "https://www.ihubiitmandi.in/audit-reports/\n",
      "#top\n",
      "https://www.facebook.com/iitmandiihub\n",
      "https://twitter.com/IITMandiiHub\n",
      "https://www.instagram.com/?hl=en \n",
      "https://www.linkedin.com/company/ihubiitmandi\n",
      "https://www.youtube.com/@IITMandiiHubandHCIFoundation/featured\n",
      "total number of links =>  55\n"
     ]
    }
   ],
   "source": [
    "links=soup.find_all('a', href=True)\n",
    "res=[]\n",
    "for link in links:\n",
    "    print(link[\"href\"])\n",
    "    res.append(link[\"href\"])\n",
    "\n",
    "print(\"total number of links => \",len(res))"
   ]
  },
  {
   "cell_type": "code",
   "execution_count": 3,
   "metadata": {},
   "outputs": [
    {
     "name": "stdout",
     "output_type": "stream",
     "text": [
      "https://www.ihubiitmandi.in/my-account/lost-password/\n",
      "https://www.ihubiitmandi.in/\n",
      "https://ihubiitmandi.in/\n",
      "https://www.ihubiitmandi.in/about-us/\n",
      "https://www.ihubiitmandi.in/team/\n",
      "https://www.ihubiitmandi.in/research-and-development/\n",
      "https://www.ihubiitmandi.in/call-for-proposals/\n",
      "https://www.ihubiitmandi.in/affiliated-faculty-2/\n",
      "https://www.ihubiitmandi.in/fellowship/\n",
      "https://www.ihubiitmandi.in/ongoing-projects/\n",
      "https://www.ihubiitmandi.in/skill-development-programs/\n",
      "https://www.ihubiitmandi.in/startups/\n",
      "https://www.ihubiitmandi.in/collaborations/\n",
      "https://www.ihubiitmandi.in/news-media/\n",
      "https://www.ihubiitmandi.in/newsletter/\n",
      "https://www.ihubiitmandi.in/press/\n",
      "https://www.ihubiitmandi.in/brochure/\n",
      "https://www.ihubiitmandi.in/gallery/\n",
      "https://www.ihubiitmandi.in/center-of-excellence/\n",
      "https://chci.iitmandi.ac.in/index.php\n",
      "https://www.ihubiitmandi.in/about-us/#collapseSearchMobile\n",
      "https://www.ihubiitmandi.in/my-account/\n",
      "https://www.ihubiitmandi.in/\n",
      "https://ihubiitmandi.in/research-and-development/\n",
      "https://ihubiitmandi.in/skill-development-programs/\n",
      "https://ihubiitmandi.in/startups/\n",
      "https://ihubiitmandi.in/collaborations/\n",
      "tel:90154%2058338\n",
      "tel:90154%2058338\n",
      "mailto:tih@iitmandi.ac.in\n",
      "https://ihubiitmandi.in/about-us/\n",
      "https://ihubiitmandi.in/team/\n",
      "https://ihubiitmandi.in/infrastructure/\n",
      "https://ihubiitmandi.in/contact-us/\n",
      "https://ihubiitmandi.in/donation/\n",
      "https://ihubiitmandi.in/careers/\n",
      "https://ihubiitmandi.in/press/\n",
      "https://ihubiitmandi.in/call-for-proposals/\n",
      "https://innovometer.ihubiitmandi.in/\n",
      "https://www.ihubiitmandi.in/call-for-innovation/\n",
      "https://www.ihubiitmandi.in/newsletter/\n",
      "https://ihubiitmandi.in/visits-to-ihub-office/\n",
      "https://ihubiitmandi.in/workshops/\n",
      "https://ihubiitmandi.in/news/\n",
      "http://ihubiitmandi.in/lp-courses/\n",
      "https://ihubiitmandi.in/startups/\n",
      "https://ihubiitmandi.in/tender/\n",
      "https://www.ihubiitmandi.in/wp-content/uploads/2023/12/Procurement-Policy.pdf\n",
      "https://www.ihubiitmandi.in/audit-reports/\n",
      "https://www.ihubiitmandi.in/about-us/#top\n",
      "https://www.facebook.com/iitmandiihub\n",
      "https://twitter.com/IITMandiiHub\n",
      "https://www.instagram.com/?hl=en\n",
      "https://www.linkedin.com/company/ihubiitmandi\n",
      "https://www.youtube.com/@IITMandiiHubandHCIFoundation/featured\n"
     ]
    }
   ],
   "source": [
    "#from selenium:\n",
    "\n",
    "from selenium import webdriver\n",
    "from selenium.webdriver.common.by import By\n",
    "\n",
    "driver=webdriver.Chrome()\n",
    "\n",
    "url=\"https://www.ihubiitmandi.in/about-us/\"\n",
    "\n",
    "driver.get(url)\n",
    "\n",
    "links=driver.find_elements(By.TAG_NAME,\"a\")\n",
    "\n",
    "for link in links:\n",
    "    print(link.get_attribute('href'))\n"
   ]
  },
  {
   "cell_type": "code",
   "execution_count": null,
   "metadata": {},
   "outputs": [],
   "source": []
  }
 ],
 "metadata": {
  "kernelspec": {
   "display_name": ".venv",
   "language": "python",
   "name": "python3"
  },
  "language_info": {
   "codemirror_mode": {
    "name": "ipython",
    "version": 3
   },
   "file_extension": ".py",
   "mimetype": "text/x-python",
   "name": "python",
   "nbconvert_exporter": "python",
   "pygments_lexer": "ipython3",
   "version": "3.9.11"
  }
 },
 "nbformat": 4,
 "nbformat_minor": 2
}
