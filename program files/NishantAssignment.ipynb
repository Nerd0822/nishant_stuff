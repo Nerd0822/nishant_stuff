{
 "cells": [
  {
   "cell_type": "code",
   "execution_count": 60,
   "metadata": {},
   "outputs": [
    {
     "name": "stdout",
     "output_type": "stream",
     "text": [
      "TCS,Sai,Rohit,Satya,Dhoni,Sarath,Saroj,Venkat,Sas \n",
      "INFOSYS,Kohli,Santosh,Venkat,Koti,Prabha,Soumya,Mishra \n",
      "WIPRO,Satya,Kohli,Ram,Chinna,Pop,Amelia,Suresh,Arjuna \n",
      "CTS,Prabha,Subha,Debha,Rabha,Venkat,Dhoni,Surya,Saroj \n",
      "NTH,Narayana,Akhil,Arha,Venkat,Sravya,Ananya,Revanth,Aha \n",
      "ABC,Arha,Chinna,Satya,Dhoni,Venkat,Rohit,Yash,Nikhilesh \n"
     ]
    }
   ],
   "source": [
    "#1 fetch all data from the file\n",
    "\n",
    "file=open(\"nthdata.txt\",\"r\")\n",
    "\n",
    "allData=file.read()\n",
    "\n",
    "print(allData)"
   ]
  },
  {
   "cell_type": "code",
   "execution_count": 61,
   "metadata": {},
   "outputs": [
    {
     "name": "stdout",
     "output_type": "stream",
     "text": [
      "TCS,Sai,Rohit,Satya,Dhoni,Sarath,Saroj,Venkat,Sas \n",
      "\n"
     ]
    }
   ],
   "source": [
    "#2 read the first line\n",
    "file=open(\"nthdata.txt\",\"r\")\n",
    "FirstLine=file.readline()\n",
    "\n",
    "print(FirstLine)"
   ]
  },
  {
   "cell_type": "code",
   "execution_count": 62,
   "metadata": {},
   "outputs": [
    {
     "name": "stdout",
     "output_type": "stream",
     "text": [
      "ABC,Arha,Chinna,Satya,Dhoni,Venkat,Rohit,Yash,Nikhilesh \n"
     ]
    }
   ],
   "source": [
    "#3 read the last line from the file\n",
    "file=open(\"nthdata.txt\",\"r\")\n",
    "\n",
    "data=file.readlines()\n",
    "\n",
    "lastLine=data[-1]\n",
    "\n",
    "print(lastLine)\n",
    "\n"
   ]
  },
  {
   "cell_type": "code",
   "execution_count": 63,
   "metadata": {},
   "outputs": [
    {
     "name": "stdout",
     "output_type": "stream",
     "text": [
      "WIPRO,Satya,Kohli,Ram,Chinna,Pop,Amelia,Suresh,Arjuna \n",
      "\n"
     ]
    }
   ],
   "source": [
    "#4 read the 3rd line from the file \n",
    "file=open(\"nthdata.txt\",\"r\")\n",
    "\n",
    "data=file.readlines()\n",
    "\n",
    "thirdLine=data[2]\n",
    "\n",
    "print(thirdLine)"
   ]
  },
  {
   "cell_type": "code",
   "execution_count": 1,
   "metadata": {},
   "outputs": [
    {
     "name": "stdout",
     "output_type": "stream",
     "text": [
      "325\n"
     ]
    }
   ],
   "source": [
    "#5 count total number of characters in file\n",
    "file=open(\"nthdata.txt\",\"r\")\n",
    "\n",
    "data=file.read()\n",
    "totalChar=len(data)\n",
    "print(totalChar)"
   ]
  },
  {
   "cell_type": "code",
   "execution_count": 65,
   "metadata": {},
   "outputs": [
    {
     "name": "stdout",
     "output_type": "stream",
     "text": [
      "47\n"
     ]
    }
   ],
   "source": [
    "#6 total no. of commas\n",
    "file=open(\"nthdata.txt\",\"r\")\n",
    "\n",
    "data=file.read()\n",
    "count=0\n",
    "for i in data:\n",
    "    if \",\" in i:\n",
    "        count+=1\n",
    "        \n",
    "        \n",
    "print(count)"
   ]
  },
  {
   "cell_type": "code",
   "execution_count": 66,
   "metadata": {},
   "outputs": [
    {
     "name": "stdout",
     "output_type": "stream",
     "text": [
      "9\n"
     ]
    }
   ],
   "source": [
    "#7 count total numbers of words in first line\n",
    "with open(\"nthdata.txt\",\"r\") as file:\n",
    "\n",
    "    data=file.readline()\n",
    "    \n",
    "wordCount=len(data.split(\",\"))\n",
    "\n",
    "print(wordCount)\n"
   ]
  },
  {
   "cell_type": "code",
   "execution_count": 67,
   "metadata": {},
   "outputs": [
    {
     "name": "stdout",
     "output_type": "stream",
     "text": [
      "6\n"
     ]
    }
   ],
   "source": [
    "#8 count total number of lines\n",
    "with open(\"nthdata.txt\",\"r\") as file:\n",
    "\n",
    "    data=file.readlines()\n",
    "    totalLines=len(data)\n",
    "    \n",
    "    print(totalLines)\n",
    "    \n"
   ]
  },
  {
   "cell_type": "code",
   "execution_count": 68,
   "metadata": {},
   "outputs": [
    {
     "name": "stdout",
     "output_type": "stream",
     "text": [
      "0\n"
     ]
    }
   ],
   "source": [
    "#9 count total number of \" sai \" name in file\n",
    "\n",
    "with open(\"nthdata.txt\",\"r\") as file:\n",
    "\n",
    "    data=file.read()\n",
    "    \n",
    "counter=0 \n",
    "\n",
    "for i in data:\n",
    "    if i==\"sai\":\n",
    "        counter+=1\n",
    "    \n",
    "print(counter)"
   ]
  },
  {
   "cell_type": "code",
   "execution_count": 69,
   "metadata": {},
   "outputs": [
    {
     "name": "stdout",
     "output_type": "stream",
     "text": [
      "TCS\n",
      "INFOSYS\n",
      "WIPRO\n",
      "CTS\n",
      "NTH\n",
      "ABC\n"
     ]
    }
   ],
   "source": [
    "#10 fetch the first word from each line in the file:\n",
    "\n",
    "with open(\"nthdata.txt\",\"r\") as file:\n",
    "    data=file.readlines()\n",
    "\n",
    "for line in data:\n",
    "    print(line.split(\",\")[0])\n",
    "file.close()"
   ]
  },
  {
   "cell_type": "code",
   "execution_count": 70,
   "metadata": {},
   "outputs": [
    {
     "name": "stdout",
     "output_type": "stream",
     "text": [
      "Sas \n",
      "\n",
      "Mishra \n",
      "\n",
      "Arjuna \n",
      "\n",
      "Saroj \n",
      "\n",
      "Aha \n",
      "\n",
      "Nikhilesh \n"
     ]
    }
   ],
   "source": [
    "#11 last wor from each line\n",
    "with open(\"nthdata.txt\",\"r\") as file:\n",
    "    data=file.readlines()\n",
    "\n",
    "for line in data:\n",
    "    print(line.split(\",\")[-1])"
   ]
  },
  {
   "cell_type": "code",
   "execution_count": 71,
   "metadata": {},
   "outputs": [
    {
     "name": "stdout",
     "output_type": "stream",
     "text": [
      "Amelia\n",
      "Arjuna \n",
      "Akhil\n",
      "Arha\n",
      "Ananya\n",
      "Aha \n",
      "ABC\n",
      "Arha\n"
     ]
    }
   ],
   "source": [
    "#12 fetch all words which starts with a\n",
    "with open(\"nthdata.txt\",\"r\") as file:\n",
    "    data=file.read()\n",
    "\n",
    "data=data.replace(\"\\n\",\",\")\n",
    "new = data.split(\",\")\n",
    "\n",
    "for i in new:\n",
    "    if i.startswith(\"A\"):\n",
    "        print(i)\n",
    "\n"
   ]
  },
  {
   "cell_type": "code",
   "execution_count": 72,
   "metadata": {},
   "outputs": [
    {
     "name": "stdout",
     "output_type": "stream",
     "text": [
      "Sai\n",
      "Satya\n",
      "Dhoni\n",
      "Kohli\n",
      "Koti\n",
      "Prabha\n",
      "Soumya\n",
      "Satya\n",
      "Kohli\n",
      "Chinna\n",
      "Amelia\n",
      "Prabha\n",
      "Subha\n",
      "Debha\n",
      "Rabha\n",
      "Dhoni\n",
      "Surya\n",
      "Narayana\n",
      "Arha\n",
      "Sravya\n",
      "Ananya\n",
      "Arha\n",
      "Chinna\n",
      "Satya\n",
      "Dhoni\n"
     ]
    }
   ],
   "source": [
    "#13 fetch all words which ends with an vowel\n",
    "with open(\"nthdata.txt\",\"r\") as file:\n",
    "    data=file.read()\n",
    "\n",
    "data=data.split(\",\")\n",
    "for ele in data:\n",
    "    if ele.endswith(\"a\") or ele.endswith(\"e\") or ele.endswith(\"i\")or ele.endswith(\"o\") or ele.endswith(\"u\"):\n",
    "        print(ele)"
   ]
  },
  {
   "cell_type": "code",
   "execution_count": 73,
   "metadata": {},
   "outputs": [
    {
     "name": "stdout",
     "output_type": "stream",
     "text": [
      "Sai\n",
      "Rohit\n",
      "Satya\n",
      "Dhoni\n",
      "Sarath\n",
      "Saroj\n",
      "Venkat\n",
      "Sas \n",
      "INFOSYS\n",
      "Kohli\n",
      "Santosh\n",
      "Venkat\n",
      "Koti\n",
      "Prabha\n",
      "Soumya\n",
      "Mishra \n",
      "WIPRO\n",
      "Satya\n",
      "Kohli\n",
      "Ram\n",
      "Chinna\n",
      "Amelia\n",
      "Arjuna \n",
      "CTS\n",
      "Prabha\n",
      "Subha\n",
      "Debha\n",
      "Rabha\n",
      "Venkat\n",
      "Dhoni\n",
      "Surya\n",
      "Saroj \n",
      "NTH\n",
      "Narayana\n",
      "Akhil\n",
      "Arha\n",
      "Venkat\n",
      "Sravya\n",
      "Ananya\n",
      "Revanth\n",
      "Aha \n",
      "ABC\n",
      "Arha\n",
      "Chinna\n",
      "Satya\n",
      "Dhoni\n",
      "Venkat\n",
      "Rohit\n",
      "Yash\n",
      "Nikhilesh \n"
     ]
    }
   ],
   "source": [
    "#14 fech all words which has either \"a or \"i\" character in the file\n",
    "with open (\"nthdata.txt\",\"r\") as file:\n",
    "    data=file.read()\n",
    "    \n",
    "data=data.split(\",\")\n",
    "\n",
    "for ele in data:\n",
    "    if \"a\" in ele or \"i\" in ele:\n",
    "        print(ele)"
   ]
  },
  {
   "cell_type": "code",
   "execution_count": 74,
   "metadata": {},
   "outputs": [
    {
     "name": "stdout",
     "output_type": "stream",
     "text": [
      "Rohit\n",
      "Satya\n",
      "Dhoni\n",
      "Saroj\n",
      "Kohli\n",
      "Satya\n",
      "Kohli\n",
      "Subha\n",
      "Debha\n",
      "Rabha\n",
      "Dhoni\n",
      "Surya\n",
      "Akhil\n",
      "Satya\n",
      "Dhoni\n",
      "Rohit\n"
     ]
    }
   ],
   "source": [
    "#15 fetch all words which contains only 5 characters in the file\n",
    "with open (\"nthdata.txt\",\"r\") as file:\n",
    "    data=file.read()\n",
    "\n",
    "data=data.split(\",\")\n",
    "\n",
    "for ele in data:\n",
    "    if len(ele)==5:\n",
    "        print(ele)"
   ]
  },
  {
   "cell_type": "code",
   "execution_count": 75,
   "metadata": {},
   "outputs": [
    {
     "name": "stdout",
     "output_type": "stream",
     "text": [
      "TCS\n",
      "CTS\n",
      "NTH\n"
     ]
    }
   ],
   "source": [
    "#16 fetch all words which does not contains vowels except \"i\" in the file\n",
    "with open (\"nthdata.txt\",\"r\") as file:\n",
    "    data=file.read()\n",
    "data=data.replace(\"\\n\",\",\")\n",
    "data=data.split(\",\")\n",
    "\n",
    "for ele in data:\n",
    "    \n",
    "    if \"a\" not in ele.lower() and \"e\" not in ele.lower() and \"o\" not in ele.lower() and \"u\" not in ele.lower():\n",
    "        print(ele)\n",
    "                \n",
    "        "
   ]
  },
  {
   "cell_type": "code",
   "execution_count": 76,
   "metadata": {},
   "outputs": [
    {
     "name": "stdout",
     "output_type": "stream",
     "text": [
      "TCS\n",
      "INFOSYS\n",
      "WIPRO\n",
      "CTS\n",
      "NTH\n",
      "ABC\n"
     ]
    }
   ],
   "source": [
    "#17 fetch all words whichends with uppercase character in the file\n",
    "with open (\"nthdata.txt\",\"r\") as file:\n",
    "    data=file.read()\n",
    "data=data.replace(\"\\n\",\",\")\n",
    "data=data.split(\",\")\n",
    "\n",
    "for ele in data:\n",
    "    if ele[-1].isupper():\n",
    "        print(ele)\n",
    "        "
   ]
  },
  {
   "cell_type": "code",
   "execution_count": 77,
   "metadata": {},
   "outputs": [
    {
     "name": "stdout",
     "output_type": "stream",
     "text": [
      "total number of characters in the file excluding commas and \n",
      " is =>  279\n"
     ]
    }
   ],
   "source": [
    "#18 count total number of characters in the file excluding commas and \\ns\n",
    "with open (\"nthdata.txt\",\"r\") as file:\n",
    "    data=file.read()\n",
    "\n",
    "\n",
    "data=data.replace(\"\\n\",\",\")\n",
    "data=data.replace(\",\",\"\")\n",
    "\n",
    "\n",
    "print(\"total number of characters in the file excluding commas and \\n is => \",len(data))\n",
    "    "
   ]
  },
  {
   "cell_type": "code",
   "execution_count": 78,
   "metadata": {},
   "outputs": [
    {
     "name": "stdout",
     "output_type": "stream",
     "text": [
      "53\n"
     ]
    }
   ],
   "source": [
    "#19 count total number of words in the entire file\n",
    "with open(\"nthdata.txt\",\"r\") as file:\n",
    "    data=file.read()\n",
    "    \n",
    "data=data.replace(\"\\n\",\",\")\n",
    "data=data.split(\",\")\n",
    "\n",
    "print(len(data))"
   ]
  },
  {
   "cell_type": "code",
   "execution_count": 79,
   "metadata": {},
   "outputs": [
    {
     "name": "stdout",
     "output_type": "stream",
     "text": [
      "Sarath 6\n",
      "Venkat 6\n",
      "Sas  4\n",
      "Venkat 6\n",
      "Koti 4\n",
      "Prabha 6\n",
      "Soumya 6\n",
      "Chinna 6\n",
      "Amelia 6\n",
      "Suresh 6\n",
      "Prabha 6\n",
      "Venkat 6\n",
      "Saroj  6\n",
      "Narayana 8\n",
      "Arha 4\n",
      "Venkat 6\n",
      "Sravya 6\n",
      "Ananya 6\n",
      "Aha  4\n",
      "Arha 4\n",
      "Chinna 6\n",
      "Venkat 6\n",
      "Yash 4\n",
      "Nikhilesh  10\n"
     ]
    }
   ],
   "source": [
    "#20 fetch all even number words from every line in the file\n",
    "with open(\"nthdata.txt\",\"r\") as file:\n",
    "    data=file.read()\n",
    "data=data.replace(\"\\n\",\",\")\n",
    "data=data.split(\",\")\n",
    "\n",
    "for ele in data:\n",
    "    if len(ele)%2==0:\n",
    "        print(ele,len(ele))\n",
    "    "
   ]
  },
  {
   "cell_type": "code",
   "execution_count": 80,
   "metadata": {},
   "outputs": [
    {
     "name": "stdout",
     "output_type": "stream",
     "text": [
      "Prabha\n",
      "Prabha\n",
      "Subha\n",
      "Debha\n",
      "Rabha\n"
     ]
    }
   ],
   "source": [
    "#21 fetch all words which ends with \"bha\" in the file\n",
    "with open(\"nthdata.txt\",\"r\") as file:\n",
    "    data=file.read()\n",
    "    \n",
    "data=data.replace(\"\\n\",\",\")\n",
    "data=data.split(\",\")\n",
    "\n",
    "for ele in data:\n",
    "    if ele.endswith(\"bha\"):\n",
    "        print(ele)"
   ]
  },
  {
   "cell_type": "markdown",
   "metadata": {},
   "source": []
  },
  {
   "cell_type": "code",
   "execution_count": 81,
   "metadata": {},
   "outputs": [
    {
     "name": "stdout",
     "output_type": "stream",
     "text": [
      "Sai,Rohit,Satya,Dhoni,Sarath,Saroj,Venkat,Sas \n",
      "\n"
     ]
    }
   ],
   "source": [
    "#22 program to display all TCS employees\n",
    "with open(\"nthdata.txt\",\"r\") as file:\n",
    "    data=file.readlines()\n",
    "    \n",
    "for ele in data:\n",
    "    if ele.startswith(\"TCS\"):\n",
    "        print(ele[4:])\n",
    "            \n"
   ]
  },
  {
   "cell_type": "code",
   "execution_count": 82,
   "metadata": {},
   "outputs": [
    {
     "name": "stdout",
     "output_type": "stream",
     "text": [
      "WIPRO\n",
      "ABC\n"
     ]
    }
   ],
   "source": [
    "#23 company name of chinna employee\n",
    "\n",
    "with open(\"nthdata.txt\",\"r\") as file:\n",
    "    data=file.readlines()\n",
    "    \n",
    "for i in data:\n",
    "    \n",
    "    if \"Chinna\" in i:\n",
    "        i=i.split(\",\")\n",
    "        print(i[0])"
   ]
  },
  {
   "cell_type": "code",
   "execution_count": 83,
   "metadata": {},
   "outputs": [
    {
     "name": "stdout",
     "output_type": "stream",
     "text": [
      "Satya\n"
     ]
    }
   ],
   "source": [
    "#24 fetch second from 3rd line in file\n",
    "\n",
    "with open(\"nthdata.txt\",\"r\") as file:\n",
    "    data=file.readlines()\n",
    "\n",
    "line=data[2]\n",
    "\n",
    "line=line.split(\",\")\n",
    "# print(line)\n",
    "word=line[1]\n",
    "print(word)\n"
   ]
  },
  {
   "cell_type": "code",
   "execution_count": 84,
   "metadata": {},
   "outputs": [
    {
     "name": "stdout",
     "output_type": "stream",
     "text": [
      "W\n",
      "S\n",
      "K\n",
      "R\n",
      "C\n",
      "P\n",
      "A\n",
      "S\n",
      "A\n"
     ]
    }
   ],
   "source": [
    "#25 fetch the first characters from each words in 3rd line\n",
    "\n",
    "with open (\"nthdata.txt\",\"r\") as file:\n",
    "    data=file.readlines()\n",
    "\n",
    "line=data[2]\n",
    "\n",
    "line=line.split(\",\")\n",
    "\n",
    "for char in line:\n",
    "    print(char[0])"
   ]
  },
  {
   "cell_type": "code",
   "execution_count": 85,
   "metadata": {},
   "outputs": [
    {
     "name": "stdout",
     "output_type": "stream",
     "text": [
      "A C\n",
      "A a\n",
      "C a\n",
      "S a\n",
      "D i\n",
      "V t\n",
      "R t\n",
      "Y h\n",
      "N  \n"
     ]
    }
   ],
   "source": [
    "#26 fetch first and last character fo each word in the last line\n",
    "with open (\"nthdata.txt\",\"r\") as file:\n",
    "    data=file.readlines()\n",
    "\n",
    "line=data[-1]\n",
    "line=line.split(\",\")\n",
    "for char in line:\n",
    "    print(char[0],char[-1])\n"
   ]
  },
  {
   "cell_type": "code",
   "execution_count": 86,
   "metadata": {},
   "outputs": [
    {
     "name": "stdout",
     "output_type": "stream",
     "text": [
      "FOSY\n",
      "hl\n",
      "ntos\n",
      "nka\n",
      "t\n",
      "abh\n",
      "umy\n",
      "shra \n"
     ]
    }
   ],
   "source": [
    "#27 fetch all characters (except 1st and last chars) of each word in the 2nd line:\n",
    "with open (\"nthdata.txt\",\"r\") as file:\n",
    "    data=file.readlines()\n",
    "\n",
    "line=data[1]\n",
    "line=line.split(\",\")\n",
    "\n",
    "for char in line:\n",
    "    print(char[2:-1])"
   ]
  },
  {
   "cell_type": "code",
   "execution_count": 87,
   "metadata": {},
   "outputs": [
    {
     "name": "stdout",
     "output_type": "stream",
     "text": [
      "sai\n",
      "satya\n",
      "sarath\n",
      "saroj\n",
      "sas \n",
      "santosh\n",
      "soumya\n",
      "satya\n",
      "suresh\n",
      "subha\n",
      "surya\n",
      "saroj \n",
      "sravya\n",
      "satya\n",
      "total numbers of words which starts with \"s\" character are =>  14\n"
     ]
    }
   ],
   "source": [
    "#28 count total numbers of words which starts with \"s\" character\n",
    "\n",
    "with open (\"nthdata.txt\",\"r\") as file:\n",
    "    data=file.read()\n",
    "\n",
    "data=data.replace(\"\\n\",\",\")\n",
    "words=data.split(\",\")\n",
    "# print(words)\n",
    "count=0\n",
    "\n",
    "for word in words:\n",
    "    word=word.lower()\n",
    "    if word.startswith(\"s\"):\n",
    "        count+=1\n",
    "        print(word)\n",
    "\n",
    "print(\"total numbers of words which starts with \\\"s\\\" character are => \",count)"
   ]
  },
  {
   "cell_type": "code",
   "execution_count": 88,
   "metadata": {},
   "outputs": [
    {
     "name": "stdout",
     "output_type": "stream",
     "text": [
      "{'Prabha', 'Satya', 'Rohit', 'Kohli', 'Venkat', 'Dhoni', 'Chinna', 'Arha'}\n"
     ]
    }
   ],
   "source": [
    "#29 fetch all duplicate name in the file:\n",
    "with open (\"nthdata.txt\",\"r\") as file:\n",
    "    data=file.read()\n",
    "\n",
    "data=data.replace(\"\\n\",\",\")\n",
    "data=data.split(\",\")\n",
    "# unique_list=[]\n",
    "# duplicate_list=[]\n",
    "# for name in data: #find duplicate algorithm\n",
    "#     if name not in unique_list:\n",
    "#         unique_list.append(name)\n",
    "\n",
    "#     elif name not in duplicate_list:\n",
    "#         duplicate_list.append(name)\n",
    "\n",
    "# print(duplicate_list)\n",
    "\n",
    "duplicate={name for name in data if data.count(name)>1}\n",
    "\n",
    "print(duplicate)"
   ]
  },
  {
   "cell_type": "code",
   "execution_count": 89,
   "metadata": {},
   "outputs": [
    {
     "name": "stdout",
     "output_type": "stream",
     "text": [
      "total number of vowels =>  {'a': 55, 'e': 10, 'i': 18, 'o': 15, 'u': 5}\n"
     ]
    }
   ],
   "source": [
    "#30 program to count all vowels in the file(output in dict)\n",
    "\n",
    "with open (\"nthdata.txt\",\"r\") as file:\n",
    "    data=file.read()\n",
    "\n",
    "data=data.replace(\"\\n\",\",\")\n",
    "data=data.split(\",\")\n",
    "acount=0\n",
    "ecount=0\n",
    "icount=0\n",
    "ocount=0\n",
    "ucount=0\n",
    "\n",
    "for word in data:\n",
    "    for char in word:\n",
    "        char=char.lower()\n",
    "        if \"a\" in char:\n",
    "            acount+=1\n",
    "        if \"e\" in char:\n",
    "            ecount+=1\n",
    "        if \"i\" in char:\n",
    "            icount+=1\n",
    "        if \"o\" in char:\n",
    "            ocount+=1\n",
    "        if \"u\" in char:\n",
    "            ucount+=1\n",
    "\n",
    "vowels={\"a\":acount,\"e\":ecount,\"i\":icount,\"o\":ocount,\"u\":ucount}\n",
    "print(\"total number of vowels => \",vowels)\n",
    "\n",
    "\n"
   ]
  },
  {
   "cell_type": "code",
   "execution_count": 90,
   "metadata": {},
   "outputs": [
    {
     "name": "stdout",
     "output_type": "stream",
     "text": [
      "TCS\n",
      "Sai\n",
      "Rohit\n",
      "Satya\n",
      "Dhoni\n",
      "Sarath\n",
      "Saroj\n",
      "Venkat\n",
      "Sas \n",
      "INFOSYS\n",
      "Kohli\n",
      "Santosh\n",
      "Venkat\n",
      "Koti\n",
      "Prabha\n",
      "Soumya\n",
      "Mishra \n",
      "WIPRO\n",
      "Satya\n",
      "Kohli\n",
      "Ram\n",
      "Chinna\n",
      "Pop\n",
      "Amelia\n",
      "Suresh\n",
      "Arjuna \n",
      "CTS\n",
      "Prabha\n",
      "Subha\n",
      "Debha\n",
      "Rabha\n",
      "Venkat\n",
      "Dhoni\n",
      "Surya\n",
      "Saroj \n",
      "NTH\n",
      "Narayana\n",
      "Akhil\n",
      "Arha\n",
      "Venkat\n",
      "Sravya\n",
      "Ananya\n",
      "Revanth\n",
      "Aha \n",
      "ABC\n",
      "Arha\n",
      "Chinna\n",
      "Satya\n",
      "Dhoni\n",
      "Venkat\n",
      "Rohit\n",
      "Yash\n",
      "Nikhilesh \n"
     ]
    }
   ],
   "source": [
    "#31 program to reverse all words in the file:\n",
    "\n",
    "with open(\"nthdata.txt\",\"r\") as file:\n",
    "    data=file.read().replace(\"\\n\",\",\").split(\",\")\n",
    "\n",
    "for words in data:\n",
    "    print(words)\n"
   ]
  },
  {
   "cell_type": "code",
   "execution_count": 91,
   "metadata": {},
   "outputs": [
    {
     "name": "stdout",
     "output_type": "stream",
     "text": [
      "Satya\n",
      "Sarath\n",
      "Prabha\n",
      "Satya\n",
      "Prabha\n",
      "Rabha\n",
      "Narayana\n",
      "Sravya\n",
      "Ananya\n",
      "Satya\n"
     ]
    }
   ],
   "source": [
    "#32 fetch all words which contains two or more then \"a\" characters:\n",
    "with open(\"nthdata.txt\",\"r\") as file:\n",
    "    data=file.read().replace(\"\\n\",\",\").split(\",\")\n",
    "\n",
    "for words in data:\n",
    "\n",
    "    if words.count(\"a\")>=2:\n",
    "        print(words)\n"
   ]
  },
  {
   "cell_type": "code",
   "execution_count": 92,
   "metadata": {},
   "outputs": [
    {
     "name": "stdout",
     "output_type": "stream",
     "text": [
      "amelia\n",
      "arha\n",
      "ananya\n",
      "arha\n"
     ]
    }
   ],
   "source": [
    "#33 fetch all words which starts and ends with \"a\" characters:\n",
    "with open(\"nthdata.txt\",\"r\") as file:\n",
    "    data=file.read().replace(\"\\n\",\",\").split(\",\")\n",
    "\n",
    "for words in data:\n",
    "    words=words.lower()\n",
    "    if words.startswith(\"a\") and words.endswith(\"a\"):\n",
    "        print(words)"
   ]
  },
  {
   "cell_type": "code",
   "execution_count": 139,
   "metadata": {},
   "outputs": [
    {
     "name": "stdout",
     "output_type": "stream",
     "text": [
      "Narayana\n"
     ]
    }
   ],
   "source": [
    "#34 fetch word which has more number of \"a\" character:\n",
    "\n",
    "with open(\"nthdata.txt\",\"r\") as file:\n",
    "    data=file.read().replace(\"\\n\",\",\").split(\",\")\n",
    "\n",
    "count=0\n",
    "for words in data:\n",
    "    a=words.lower().count(\"a\")\n",
    "    \n",
    "    if a>count:\n",
    "\n",
    "        count=a\n",
    "        a_word=words\n",
    "\n",
    "print(a_word)\n",
    "\n",
    "\n",
    "    "
   ]
  },
  {
   "cell_type": "code",
   "execution_count": 94,
   "metadata": {},
   "outputs": [
    {
     "name": "stdout",
     "output_type": "stream",
     "text": [
      "INFOSYS\n",
      "Amelia\n",
      "Arjuna \n",
      "Akhil\n",
      "Arha\n",
      "Ananya\n",
      "Aha \n",
      "ABC\n",
      "Arha\n"
     ]
    }
   ],
   "source": [
    "#35 fetch all company names which starts with vowel:\n",
    "\n",
    "with open(\"nthdata.txt\",\"r\") as file:\n",
    "    data=file.read().replace(\"\\n\",\",\").split(\",\")\n",
    "\n",
    "for words in data:\n",
    "    word=words.lower()\n",
    "    if word.startswith((\"a\",\"i\",\"o\",\"u\")):\n",
    "        print(words)\n"
   ]
  },
  {
   "cell_type": "code",
   "execution_count": 95,
   "metadata": {},
   "outputs": [
    {
     "name": "stdout",
     "output_type": "stream",
     "text": [
      "TCS\n",
      "CTS\n"
     ]
    }
   ],
   "source": [
    "#36 display company name which contains Saroj Employee:\n",
    "\n",
    "\n",
    "with open(\"nthdata.txt\",\"r\") as file:\n",
    "    data=file.readlines()\n",
    "\n",
    "for lines in data:\n",
    "    if \"Saroj\" in lines:\n",
    "        line=lines.split(\",\")\n",
    "        print(line[0])\n",
    "\n",
    "\n"
   ]
  },
  {
   "cell_type": "code",
   "execution_count": 96,
   "metadata": {},
   "outputs": [
    {
     "name": "stdout",
     "output_type": "stream",
     "text": [
      "TCS\n",
      "Rohit\n",
      "Sarath\n",
      "Saroj\n",
      "Venkat\n",
      "Sas \n",
      "Santosh\n",
      "Venkat\n",
      "Mishra \n",
      "WIPRO\n",
      "Ram\n",
      "Pop\n",
      "Suresh\n",
      "CTS\n",
      "Venkat\n",
      "Saroj \n",
      "NTH\n",
      "Venkat\n",
      "Revanth\n",
      "Venkat\n",
      "Rohit\n",
      "Yash\n",
      "Nikhilesh \n"
     ]
    }
   ],
   "source": [
    "#37 count all words which starts and ends with consonants:\n",
    "\n",
    "\n",
    "with open(\"nthdata.txt\",\"r\") as file:\n",
    "    data=file.read().replace(\"\\n\",\",\").split(\",\")\n",
    "\n",
    "for words in data:\n",
    "    if words[0] not in (\"A\",\"E\",\"I\",\"O\",\"U\") and words[-1] not in (\"a\",\"e\",\"i\",\"o\",\"u\"):\n",
    "        print(words)\n"
   ]
  },
  {
   "cell_type": "code",
   "execution_count": 97,
   "metadata": {},
   "outputs": [
    {
     "name": "stdout",
     "output_type": "stream",
     "text": [
      "WIPRO\n"
     ]
    }
   ],
   "source": [
    "#38 fetch all company names which does not contain Venkat employee:\n",
    "with open(\"nthdata.txt\",\"r\") as file:\n",
    "    data=file.readlines()\n",
    "\n",
    "for line in data:\n",
    "    if \"Venkat\" not in line:\n",
    "        line=line.split(\",\")\n",
    "        print(line[0])"
   ]
  },
  {
   "cell_type": "code",
   "execution_count": 98,
   "metadata": {},
   "outputs": [
    {
     "name": "stdout",
     "output_type": "stream",
     "text": [
      "NTH\n"
     ]
    }
   ],
   "source": [
    "#39 display company name where Narayana is working:\n",
    "with open(\"nthdata.txt\",\"r\") as file:\n",
    "    data=file.readlines()\n",
    "\n",
    "for line in data:\n",
    "    if \"Narayana\" in line:\n",
    "        line=line.split(\",\")\n",
    "        print(line[0])\n",
    "\n"
   ]
  },
  {
   "cell_type": "code",
   "execution_count": 146,
   "metadata": {},
   "outputs": [
    {
     "name": "stdout",
     "output_type": "stream",
     "text": [
      "{'TCS': 'Sas', 'INFOSYS': 'Mishra', 'WIPRO': 'Arjuna', 'CTS': 'Saroj', 'NTH': 'Aha', 'ABC': 'Nikhilesh'}\n"
     ]
    }
   ],
   "source": [
    "#40 display the first word and last word from each line in dict format:\n",
    "with open(\"nthdata.txt\",\"r\") as file:\n",
    "    data=file.readlines()\n",
    "\n",
    "# dict={\"company\":[],\n",
    "#       \"employee\":[]}\n",
    "# for lines in data:\n",
    "#     line=lines.replace(\"\\n\",\",\").split(\",\")\n",
    "#     dict[\"company\"].append(line[0])\n",
    "#     dict[\"employee\"].append(line[-1])\n",
    "# print(dict)\n",
    "\n",
    "mydict={}\n",
    "\n",
    "for lines in data:\n",
    "    line=lines.replace(\"\\n\",\"\").split(\",\")\n",
    "    i=line[0]\n",
    "    j=line[-1]\n",
    "    mydict[i]=j\n",
    "\n",
    "print(mydict)"
   ]
  },
  {
   "cell_type": "code",
   "execution_count": 100,
   "metadata": {},
   "outputs": [
    {
     "name": "stdout",
     "output_type": "stream",
     "text": [
      "Akhil\n",
      "Arha\n",
      "Ananya\n",
      "Aha \n",
      "\n"
     ]
    }
   ],
   "source": [
    "#41 fetch all names whose names starts with \"a\" in NTH company:\n",
    "\n",
    "with open(\"nthdata.txt\",\"r\") as file:\n",
    "    data=file.readlines()\n",
    "\n",
    "for i in data:\n",
    "    if \"NTH\" in i:\n",
    "        line=i.split(\",\")\n",
    "        for names in line:\n",
    "            if names.startswith(\"A\"):\n",
    "                print(names)\n"
   ]
  },
  {
   "cell_type": "code",
   "execution_count": 101,
   "metadata": {},
   "outputs": [
    {
     "name": "stdout",
     "output_type": "stream",
     "text": [
      "8\n"
     ]
    }
   ],
   "source": [
    "#42 count total number of employees in CTS company:\n",
    "with open(\"nthdata.txt\",\"r\") as file:\n",
    "    data=file.readlines()\n",
    "\n",
    "for i in data:\n",
    "    if \"CTS\" in i:\n",
    "        line=i.split(\",\")\n",
    "        print(len(line)-1)"
   ]
  },
  {
   "cell_type": "code",
   "execution_count": 105,
   "metadata": {},
   "outputs": [
    {
     "name": "stdout",
     "output_type": "stream",
     "text": [
      "TCS\n",
      "INFOSYS\n",
      "CTS\n",
      "NTH\n",
      "ABC\n"
     ]
    }
   ],
   "source": [
    "#43 fetch all companies where Venkat employee is working:\n",
    "with open(\"nthdata.txt\",\"r\") as file:\n",
    "    data=file.readlines()\n",
    "\n",
    "for i in data:\n",
    "    if \"Venkat\" in i:\n",
    "        line=i.split(\",\")\n",
    "        print(line[0])"
   ]
  },
  {
   "cell_type": "code",
   "execution_count": 102,
   "metadata": {},
   "outputs": [
    {
     "name": "stdout",
     "output_type": "stream",
     "text": [
      "INFOSYS\n",
      "ABC\n"
     ]
    }
   ],
   "source": [
    "#44 fetch all companies names which name starts with vowel:\n",
    "\n",
    "with open(\"nthdata.txt\",\"r\") as file:\n",
    "    data=file.readlines()\n",
    "\n",
    "for i in data:\n",
    "    line=i.split(\",\")\n",
    "    if line[0].startswith((\"A\",\"E\",\"I\",\"O\",\"U\")):\n",
    "        print(line[0])"
   ]
  },
  {
   "cell_type": "code",
   "execution_count": 25,
   "metadata": {},
   "outputs": [
    {
     "name": "stdout",
     "output_type": "stream",
     "text": [
      "TCS\n",
      "Sai\n",
      "Rohit\n",
      "Satya\n",
      "Dhoni\n",
      "Sarath\n",
      "Saroj\n",
      "Venkat\n",
      "Sas\n",
      "INFOSYS\n",
      "Kohli\n",
      "Santosh\n",
      "Venkat\n",
      "Koti\n",
      "Prabha\n",
      "Soumya\n",
      "Mishra\n",
      "WIPRO\n",
      "Satya\n",
      "Kohli\n",
      "Ram\n",
      "Chinna\n",
      "Pop\n",
      "Amelia\n",
      "Suresh\n",
      "Arjuna\n",
      "CTS\n",
      "Prabha\n",
      "Subha\n",
      "Debha\n",
      "Rabha\n",
      "Venkat\n",
      "Dhoni\n",
      "Surya\n",
      "Saroj\n",
      "NTH\n",
      "Narayana\n",
      "Akhil\n",
      "Arha\n",
      "Venkat\n",
      "Sravya\n",
      "Ananya\n",
      "Revanth\n",
      "Aha\n",
      "ABC\n",
      "Arha\n",
      "Chinna\n",
      "Satya\n",
      "Dhoni\n",
      "Venkat\n",
      "Rohit\n",
      "Yash\n",
      "Nikhilesh\n"
     ]
    }
   ],
   "source": [
    "#45 fetch all palindrome names from the file:\n",
    "with open(\"nthdata.txt\",\"r\") as file:\n",
    "    data=file.read().replace(\"\\n\",\",\").split(\",\")\n",
    "\n",
    "for j in data:\n",
    "    i=j.lower()\n",
    "    if i==i[::-1]:\n",
    "        print(j)\n"
   ]
  },
  {
   "cell_type": "code",
   "execution_count": 14,
   "metadata": {},
   "outputs": [
    {
     "name": "stdout",
     "output_type": "stream",
     "text": [
      "Sas TCS\n",
      "Pop WIPRO\n",
      "Aha NTH\n"
     ]
    }
   ],
   "source": [
    "#46 fetch all companies names where palindrome named employees working:\n",
    "with open(\"nthdata.txt\",\"r\") as file:\n",
    "    data=file.readlines()\n",
    "\n",
    "for i in data:\n",
    "    line=i.replace(\"\\n\",\"\").split(\",\")\n",
    "\n",
    "    for word in line:\n",
    "        name=word.lower()\n",
    "        if name==name[::-1]:\n",
    "            print(word,line[0])\n",
    "    "
   ]
  },
  {
   "cell_type": "code",
   "execution_count": 21,
   "metadata": {},
   "outputs": [
    {
     "name": "stdout",
     "output_type": "stream",
     "text": [
      "longest company name =>  INFOSYS\n"
     ]
    }
   ],
   "source": [
    "#47 fetch the lengthiest company name:\n",
    "with open(\"nthdata.txt\",\"r\") as file:\n",
    "    data=file.readlines()\n",
    "max=0\n",
    "longestword=\"\"\n",
    "for i in data:\n",
    "    line=i.replace(\"\\n\",\"\").split(\",\")\n",
    "    company_name=line[0]\n",
    "\n",
    "    if len(company_name)>max:\n",
    "        longestword=company_name\n",
    "        max=len(company_name)\n",
    "\n",
    "print(\"longest company name => \",longestword)\n"
   ]
  },
  {
   "cell_type": "code",
   "execution_count": 24,
   "metadata": {},
   "outputs": [
    {
     "name": "stdout",
     "output_type": "stream",
     "text": [
      "Nikhilesh\n"
     ]
    }
   ],
   "source": [
    "#48 fetch the nengthiest employee name in ABC company:\n",
    "with open(\"nthdata.txt\",\"r\") as file:\n",
    "    data=file.readlines()\n",
    "\n",
    "max=0\n",
    "longest_name=\"\"\n",
    "for i in data:\n",
    "    \n",
    "    if \"ABC\" in i:\n",
    "        line=i.replace(\"\\n\",\"\").split(\",\")\n",
    "        \n",
    "        for name in line:\n",
    "            if len(name)>max:\n",
    "                longest_name=name\n",
    "                max=len(name)\n",
    "\n",
    "print(longest_name)\n",
    "\n"
   ]
  },
  {
   "cell_type": "code",
   "execution_count": 4,
   "metadata": {},
   "outputs": [
    {
     "name": "stdout",
     "output_type": "stream",
     "text": [
      "Ram\n"
     ]
    }
   ],
   "source": [
    "#49 fetch shortest employee name in the WIPRO company:\n",
    "with open(\"nthdata.txt\",\"r\") as file:\n",
    "    data=file.readlines()\n",
    "\n",
    "min=10\n",
    "shortest_name=\"\"\n",
    "for i in data:\n",
    "    \n",
    "    if \"WIPRO\" in i:\n",
    "        line=i.replace(\"\\n\",\"\").split(\",\")\n",
    "        \n",
    "        for name in line:\n",
    "            if len(name)<min:\n",
    "                shortest_name=name\n",
    "                \n",
    "                min=len(name)\n",
    "\n",
    "print(shortest_name)"
   ]
  },
  {
   "cell_type": "code",
   "execution_count": 4,
   "metadata": {},
   "outputs": [
    {
     "name": "stdout",
     "output_type": "stream",
     "text": [
      "{'TCS': 8, 'INFOSYS': 7, 'WIPRO': 8, 'CTS': 8, 'NTH': 8, 'ABC': 8}\n"
     ]
    }
   ],
   "source": [
    "#50 count total number of employee in each company in dict format:\n",
    "\n",
    "with open(\"nthdata.txt\",\"r\") as file:\n",
    "    data=file.readlines()\n",
    "res={}\n",
    "for i in data:\n",
    "    line=i.replace(\"\\n\",\"\").split(\",\")\n",
    "    employees=line[1:]\n",
    "    company=line[0]\n",
    "    \n",
    "    res[company]=len(employees)\n",
    "\n",
    "print(res)\n",
    "    "
   ]
  }
 ],
 "metadata": {
  "kernelspec": {
   "display_name": "Python 3",
   "language": "python",
   "name": "python3"
  },
  "language_info": {
   "codemirror_mode": {
    "name": "ipython",
    "version": 3
   },
   "file_extension": ".py",
   "mimetype": "text/x-python",
   "name": "python",
   "nbconvert_exporter": "python",
   "pygments_lexer": "ipython3",
   "version": "3.12.8"
  }
 },
 "nbformat": 4,
 "nbformat_minor": 2
}
