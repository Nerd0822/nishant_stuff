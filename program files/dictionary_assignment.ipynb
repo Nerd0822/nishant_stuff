{
 "cells": [
  {
   "cell_type": "code",
   "execution_count": 10,
   "metadata": {},
   "outputs": [],
   "source": [
    "# python dictionary:\n",
    "\n",
    "employees = { \n",
    "\n",
    "    \"emp1\":{\"name\":\"Sai\", \"salary\":20000, \"company\":[\"TCS\",\"Capgemini\",\"Infosys\"], \"hTown\":\"Hyd\"},\n",
    "    \"emp2\":{\"name\":\"Nani\",\"salary\":30000, \"company\":[\"Wipro\",\"NTH\"], \"hTown\":\"Bangalore\"},\n",
    "    \"emp3\":{\"name\":\"Satya\",\"salary\":40000, \"company\":[\"NTH\",\"Infosys\",\"CTS\"],\"hTown\":\"Chennai\"},\n",
    "    \"emp4\":{\"name\":\"Rohit\",\"salary\":25000, \"company\":[\"Infosys\",\"TCS\",\"Defteam\"], \"hTown\":\"Pune\"},\n",
    "    \"emp5\":{\"name\":\"Mohan\",\"salary\":22000, \"company\":[\"NTH\",\"HCL\",\"DeepCompute\"], \"hTown\":\"Hyd\"},\n",
    "    \"emp6\":{\"name\":\"Sanjay\",\"salary\":45000, \"company\":[\"Wipro\",\"Infosys\",\"Defteam\"], \"hTown\":\"Mumbai\"}\n",
    "}"
   ]
  },
  {
   "cell_type": "code",
   "execution_count": 11,
   "metadata": {},
   "outputs": [
    {
     "name": "stdout",
     "output_type": "stream",
     "text": [
      "20000\n"
     ]
    }
   ],
   "source": [
    "#1 display salary of Sai:\n",
    "\n",
    "for value in employees.values():\n",
    "    if \"Sai\" in value[\"name\"]:\n",
    "        print(value[\"salary\"])\n",
    "        "
   ]
  },
  {
   "cell_type": "code",
   "execution_count": 18,
   "metadata": {},
   "outputs": [
    {
     "name": "stdout",
     "output_type": "stream",
     "text": [
      "Bangalore\n"
     ]
    }
   ],
   "source": [
    "#2 display hometown of Nani:\n",
    "\n",
    "for value in employees.values():\n",
    "    if \"Nani\" in value[\"name\"]:\n",
    "        print(value[\"hTown\"])"
   ]
  },
  {
   "cell_type": "code",
   "execution_count": 19,
   "metadata": {},
   "outputs": [
    {
     "name": "stdout",
     "output_type": "stream",
     "text": [
      "Rohit\n"
     ]
    }
   ],
   "source": [
    "#3 display employee name who is working in Pune:\n",
    "\n",
    "for value in employees.values():\n",
    "    if \"Pune\" in value[\"hTown\"]:\n",
    "        print(value[\"name\"])"
   ]
  },
  {
   "cell_type": "code",
   "execution_count": 22,
   "metadata": {},
   "outputs": [
    {
     "name": "stdout",
     "output_type": "stream",
     "text": [
      "name of company employees ['Sai', 'Nani', 'Satya', 'Rohit', 'Mohan', 'Sanjay']\n",
      "['NTH', 'Infosys', 'CTS']\n"
     ]
    }
   ],
   "source": [
    "#4 diaplay all companies names of Satya:\n",
    "\n",
    "print(\"name of company employees\",[x[\"name\"] for x in employees.values() ])\n",
    "emp_name=str(input(\"enter the employee name you want to excess the company name of => \"))\n",
    "\n",
    "for emp in employees.values():\n",
    "    if emp_name in emp[\"name\"]:\n",
    "        print(emp[\"company\"])"
   ]
  },
  {
   "cell_type": "code",
   "execution_count": 62,
   "metadata": {},
   "outputs": [
    {
     "name": "stdout",
     "output_type": "stream",
     "text": [
      "choose the company to fetch all the employees from the following : ['TCS', 'Capgemini', 'Infosys', 'Wipro', 'NTH', 'CTS', 'Defteam', 'HCL', 'DeepCompute']\n",
      "['Sai', 'Rohit']\n"
     ]
    }
   ],
   "source": [
    "#5 display employees name who worked in Tcs:\n",
    "\n",
    "companies=[]\n",
    "for value in employees.values():\n",
    "    companies.append(value[\"company\"])\n",
    "#---------------------------------------------------------\n",
    "all_companies=[]\n",
    "for i in companies:\n",
    "    for j in i:\n",
    "        if j in all_companies:\n",
    "            continue\n",
    "        elif j not in all_companies:\n",
    "            all_companies.append(j)\n",
    "del companies\n",
    "#----------------------------------------------------------\n",
    "print(\"choose the company to fetch all the employees from the following :\",all_companies)\n",
    "user=str(input(\"enter the company name => \"))\n",
    "#-------------------------------------------------------------\n",
    "def find_employees(n):\n",
    "    names=[]\n",
    "    for i in employees.values():\n",
    "        if n in i[\"company\"]:\n",
    "            names.append(i[\"name\"])\n",
    "\n",
    "    return names\n",
    "#-------------------------------------------------------------\n",
    "print(find_employees(user))"
   ]
  },
  {
   "cell_type": "code",
   "execution_count": 63,
   "metadata": {},
   "outputs": [
    {
     "name": "stdout",
     "output_type": "stream",
     "text": [
      "Sai\n",
      "Nani\n",
      "Satya\n",
      "Rohit\n",
      "Mohan\n",
      "Sanjay\n"
     ]
    }
   ],
   "source": [
    "#6 display all employees name:\n",
    "\n",
    "for i in employees.values():\n",
    "    print(i[\"name\"])"
   ]
  },
  {
   "cell_type": "code",
   "execution_count": 68,
   "metadata": {},
   "outputs": [
    {
     "name": "stdout",
     "output_type": "stream",
     "text": [
      "choose name of employess to get details:  ['Sai', 'Nani', 'Satya', 'Rohit', 'Mohan', 'Sanjay']\n",
      "[['NTH', 'Infosys', 'CTS']] 3\n"
     ]
    }
   ],
   "source": [
    "#count companies name of employees:\n",
    "\n",
    "print(\"choose name of employess to get details: \",[x[\"name\"] for x in employees.values()])\n",
    "user=str(input(\"enter the employee name from list of employees above => \"))\n",
    "#--------------------------------------------------------------------------------------------\n",
    "res=[x[\"company\"] for x in employees.values() if user in x[\"name\"]]\n",
    "print(res,len(res[0]))"
   ]
  },
  {
   "cell_type": "code",
   "execution_count": 75,
   "metadata": {},
   "outputs": [
    {
     "name": "stdout",
     "output_type": "stream",
     "text": [
      "Nani ['Wipro', 'NTH']\n"
     ]
    }
   ],
   "source": [
    "#8 name employees who only worked in two companies:\n",
    "\n",
    "# while True:\n",
    "#     print(\"choose name of any employee : \",[x[\"name\"] for x in employees.values()])\n",
    "#     user=input(\"please enter the name => \")\n",
    "#     if user in [x[\"name\"] for x in employees.values()]:\n",
    "#         break\n",
    "\n",
    "for i in employees.values():\n",
    "    if len(i[\"company\"])==2:\n",
    "        print(i[\"name\"],i[\"company\"])"
   ]
  }
 ],
 "metadata": {
  "kernelspec": {
   "display_name": "Python 3",
   "language": "python",
   "name": "python3"
  },
  "language_info": {
   "codemirror_mode": {
    "name": "ipython",
    "version": 3
   },
   "file_extension": ".py",
   "mimetype": "text/x-python",
   "name": "python",
   "nbconvert_exporter": "python",
   "pygments_lexer": "ipython3",
   "version": "3.12.8"
  }
 },
 "nbformat": 4,
 "nbformat_minor": 2
}
