{
 "cells": [
  {
   "cell_type": "code",
   "execution_count": 2,
   "metadata": {},
   "outputs": [],
   "source": [
    "from selenium import webdriver\n",
    "from selenium.webdriver.common.by import By\n",
    "from selenium.webdriver.common.keys import Keys\n"
   ]
  },
  {
   "cell_type": "code",
   "execution_count": 5,
   "metadata": {},
   "outputs": [],
   "source": [
    "#opening the website \n",
    "\n",
    "driver=webdriver.Chrome()\n",
    "url=\"https://pythondjango12345.pythonanywhere.com/\"\n",
    "driver.get(url)\n",
    "\n"
   ]
  },
  {
   "cell_type": "code",
   "execution_count": null,
   "metadata": {},
   "outputs": [],
   "source": [
    "#opening the navbartoggle and clicking the signup button: \n",
    "\n",
    "driver.find_element(By.CLASS_NAME,\"navbar-toggler\").click()\n",
    "driver.find_element(By.XPATH,\"//button[@data-target='#signup']\").click()"
   ]
  },
  {
   "cell_type": "code",
   "execution_count": 57,
   "metadata": {},
   "outputs": [],
   "source": [
    "#filling the signup form\n",
    "\n",
    "driver.find_element(By.NAME,\"fname\").send_keys(\"Nishant\")\n",
    "\n",
    "driver.find_element(By.NAME,\"lname\").send_keys(\"Kagra\")\n",
    "\n",
    "driver.find_element(By.NAME,\"username\").send_keys(\"nerd0822\")\n",
    "\n",
    "driver.find_element(By.NAME,\"email\").send_keys(\"nishantkagra420@gmail.com\")\n",
    "\n",
    "driver.find_element(By.NAME,\"pass1\").send_keys(\"nerd@0822\")\n",
    "\n",
    "driver.find_element(By.NAME,\"pass2\").send_keys(\"nerd@0822\")\n",
    "\n",
    "driver.find_element(By.XPATH,\"//button[@type = 'submit' and text() = 'Get Account']\").click()"
   ]
  },
  {
   "cell_type": "code",
   "execution_count": 65,
   "metadata": {},
   "outputs": [],
   "source": [
    "#clicking the login button:\n",
    "driver.find_element(By.CLASS_NAME,\"navbar-toggler\").click()\n",
    "driver.find_element(By.XPATH,\"//button[@data-target = '#login']\").click()"
   ]
  },
  {
   "cell_type": "code",
   "execution_count": 66,
   "metadata": {},
   "outputs": [],
   "source": [
    "#filling the login form:\n",
    "\n",
    "driver.find_element(By.NAME,\"loginusername\").send_keys(\"nerd0822\")\n",
    "\n",
    "driver.find_element(By.NAME,\"loginpass\").send_keys(\"nerd@0822\")"
   ]
  },
  {
   "cell_type": "code",
   "execution_count": 67,
   "metadata": {},
   "outputs": [],
   "source": [
    "#clicking the submit button on the login page:\n",
    "\n",
    "driver.find_element(By.XPATH,\"//button[@type = 'submit' and text() = 'Submit']\").click()"
   ]
  },
  {
   "cell_type": "code",
   "execution_count": 68,
   "metadata": {},
   "outputs": [],
   "source": [
    "#performing the logout process:\n",
    "driver.find_element(By.CLASS_NAME,\"navbar-toggler\").click()\n",
    "#finding the welcome user button:\n",
    "driver.find_element(By.ID,\"navbarDropdown\").click()\n",
    "\n",
    "#clicking the logout button:\n",
    "driver.find_element(By.XPATH,\"//a[@ href = '/logout']\").click()"
   ]
  },
  {
   "cell_type": "markdown",
   "metadata": {},
   "source": [
    "# the next section is just me trying to do other things with selenium\n"
   ]
  },
  {
   "cell_type": "code",
   "execution_count": 6,
   "metadata": {},
   "outputs": [],
   "source": [
    "#accesing the online python compiler via selenium:\n",
    "\n",
    "url=\"https://www.programiz.com/python-programming/online-compiler/\"\n",
    "driver=webdriver.Chrome()\n",
    "driver.get(url)\n",
    "\n"
   ]
  },
  {
   "cell_type": "code",
   "execution_count": 11,
   "metadata": {},
   "outputs": [],
   "source": [
    "editor=driver.find_element(By.CLASS_NAME,\"ace_text-input\")\n",
    "\n",
    "editor.send_keys(\"print(1+2)\")\n",
    "\n",
    "run=driver.find_element(By.CLASS_NAME,\"desktop-run-button\")\n",
    "\n",
    "run.click()"
   ]
  },
  {
   "cell_type": "code",
   "execution_count": 12,
   "metadata": {},
   "outputs": [],
   "source": []
  },
  {
   "cell_type": "code",
   "execution_count": 3,
   "metadata": {},
   "outputs": [
    {
     "ename": "ElementClickInterceptedException",
     "evalue": "Message: element click intercepted: Element <video tabindex=\"-1\" class=\"video-stream html5-main-video\" data-no-fullscreen=\"true\" controlslist=\"nodownload\" src=\"blob:https://www.youtube.com/b1233002-453a-4e74-a86e-3f9c250004cb\" style=\"width: 484px; height: 861px; left: 0px; top: -861px;\" loop=\"\"></video> is not clickable at point (1068, 32). Other element would receive the click: <input name=\"search_query\" type=\"text\" autocomplete=\"off\" autocorrect=\"off\" aria-autocomplete=\"list\" role=\"combobox\" class=\"ytSearchboxComponentInput yt-searchbox-input title\" placeholder=\"Search\">\n  (Session info: MicrosoftEdge=131.0.2903.112)\nStacktrace:\n\t(No symbol) [0x00007FF75A2B6B05]\n\tMicrosoft::Applications::Events::EventProperty::empty [0x00007FF75A5DF464+1437348]\n\tsqlite3_dbdata_init [0x00007FF75A682D96+643174]\n\t(No symbol) [0x00007FF75A1E2E8A]\n\t(No symbol) [0x00007FF75A1E0FEC]\n\t(No symbol) [0x00007FF75A1DEC27]\n\t(No symbol) [0x00007FF75A1DDF29]\n\t(No symbol) [0x00007FF75A1D3EB3]\n\t(No symbol) [0x00007FF75A1FC19A]\n\t(No symbol) [0x00007FF75A1D3437]\n\t(No symbol) [0x00007FF75A1D32FD]\n\t(No symbol) [0x00007FF75A1FC480]\n\t(No symbol) [0x00007FF75A1D3437]\n\t(No symbol) [0x00007FF75A216BFF]\n\t(No symbol) [0x00007FF75A1FBE03]\n\t(No symbol) [0x00007FF75A1D2984]\n\t(No symbol) [0x00007FF75A1D1E30]\n\t(No symbol) [0x00007FF75A1D2571]\n\tMicrosoft::Applications::Events::EventProperty::empty [0x00007FF75A58BAF4+1094964]\n\t(No symbol) [0x00007FF75A2F32B8]\n\tMicrosoft::Applications::Events::EventProperty::empty [0x00007FF75A58AF33+1091955]\n\tMicrosoft::Applications::Events::EventProperty::empty [0x00007FF75A58AA99+1090777]\n\tMicrosoft::Applications::Events::ILogConfiguration::operator* [0x00007FF75A390CA1+461569]\n\tMicrosoft::Applications::Events::ILogConfiguration::operator* [0x00007FF75A38C9C4+444452]\n\tMicrosoft::Applications::Events::ILogConfiguration::operator* [0x00007FF75A38CB09+444777]\n\tMicrosoft::Applications::Events::ILogConfiguration::operator* [0x00007FF75A382186+401382]\n\tBaseThreadInitThunk [0x00007FF8469B259D+29]\n\tRtlUserThreadStart [0x00007FF846DEAF38+40]\n",
     "output_type": "error",
     "traceback": [
      "\u001b[1;31m---------------------------------------------------------------------------\u001b[0m",
      "\u001b[1;31mElementClickInterceptedException\u001b[0m          Traceback (most recent call last)",
      "Cell \u001b[1;32mIn[3], line 24\u001b[0m\n\u001b[0;32m     21\u001b[0m driver\u001b[38;5;241m.\u001b[39mmaximize_window()\n\u001b[0;32m     22\u001b[0m run\u001b[38;5;241m=\u001b[39mdriver\u001b[38;5;241m.\u001b[39mfind_element(By\u001b[38;5;241m.\u001b[39mCLASS_NAME,\u001b[38;5;124m\"\u001b[39m\u001b[38;5;124mvideo-stream.html5-main-video\u001b[39m\u001b[38;5;124m\"\u001b[39m)\n\u001b[1;32m---> 24\u001b[0m \u001b[43mrun\u001b[49m\u001b[38;5;241;43m.\u001b[39;49m\u001b[43mclick\u001b[49m\u001b[43m(\u001b[49m\u001b[43m)\u001b[49m\n",
      "File \u001b[1;32m~\\AppData\\Local\\Packages\\PythonSoftwareFoundation.Python.3.12_qbz5n2kfra8p0\\LocalCache\\local-packages\\Python312\\site-packages\\selenium\\webdriver\\remote\\webelement.py:94\u001b[0m, in \u001b[0;36mWebElement.click\u001b[1;34m(self)\u001b[0m\n\u001b[0;32m     92\u001b[0m \u001b[38;5;28;01mdef\u001b[39;00m \u001b[38;5;21mclick\u001b[39m(\u001b[38;5;28mself\u001b[39m) \u001b[38;5;241m-\u001b[39m\u001b[38;5;241m>\u001b[39m \u001b[38;5;28;01mNone\u001b[39;00m:\n\u001b[0;32m     93\u001b[0m \u001b[38;5;250m    \u001b[39m\u001b[38;5;124;03m\"\"\"Clicks the element.\"\"\"\u001b[39;00m\n\u001b[1;32m---> 94\u001b[0m     \u001b[38;5;28;43mself\u001b[39;49m\u001b[38;5;241;43m.\u001b[39;49m\u001b[43m_execute\u001b[49m\u001b[43m(\u001b[49m\u001b[43mCommand\u001b[49m\u001b[38;5;241;43m.\u001b[39;49m\u001b[43mCLICK_ELEMENT\u001b[49m\u001b[43m)\u001b[49m\n",
      "File \u001b[1;32m~\\AppData\\Local\\Packages\\PythonSoftwareFoundation.Python.3.12_qbz5n2kfra8p0\\LocalCache\\local-packages\\Python312\\site-packages\\selenium\\webdriver\\remote\\webelement.py:395\u001b[0m, in \u001b[0;36mWebElement._execute\u001b[1;34m(self, command, params)\u001b[0m\n\u001b[0;32m    393\u001b[0m     params \u001b[38;5;241m=\u001b[39m {}\n\u001b[0;32m    394\u001b[0m params[\u001b[38;5;124m\"\u001b[39m\u001b[38;5;124mid\u001b[39m\u001b[38;5;124m\"\u001b[39m] \u001b[38;5;241m=\u001b[39m \u001b[38;5;28mself\u001b[39m\u001b[38;5;241m.\u001b[39m_id\n\u001b[1;32m--> 395\u001b[0m \u001b[38;5;28;01mreturn\u001b[39;00m \u001b[38;5;28;43mself\u001b[39;49m\u001b[38;5;241;43m.\u001b[39;49m\u001b[43m_parent\u001b[49m\u001b[38;5;241;43m.\u001b[39;49m\u001b[43mexecute\u001b[49m\u001b[43m(\u001b[49m\u001b[43mcommand\u001b[49m\u001b[43m,\u001b[49m\u001b[43m \u001b[49m\u001b[43mparams\u001b[49m\u001b[43m)\u001b[49m\n",
      "File \u001b[1;32m~\\AppData\\Local\\Packages\\PythonSoftwareFoundation.Python.3.12_qbz5n2kfra8p0\\LocalCache\\local-packages\\Python312\\site-packages\\selenium\\webdriver\\remote\\webdriver.py:384\u001b[0m, in \u001b[0;36mWebDriver.execute\u001b[1;34m(self, driver_command, params)\u001b[0m\n\u001b[0;32m    382\u001b[0m response \u001b[38;5;241m=\u001b[39m \u001b[38;5;28mself\u001b[39m\u001b[38;5;241m.\u001b[39mcommand_executor\u001b[38;5;241m.\u001b[39mexecute(driver_command, params)\n\u001b[0;32m    383\u001b[0m \u001b[38;5;28;01mif\u001b[39;00m response:\n\u001b[1;32m--> 384\u001b[0m     \u001b[38;5;28;43mself\u001b[39;49m\u001b[38;5;241;43m.\u001b[39;49m\u001b[43merror_handler\u001b[49m\u001b[38;5;241;43m.\u001b[39;49m\u001b[43mcheck_response\u001b[49m\u001b[43m(\u001b[49m\u001b[43mresponse\u001b[49m\u001b[43m)\u001b[49m\n\u001b[0;32m    385\u001b[0m     response[\u001b[38;5;124m\"\u001b[39m\u001b[38;5;124mvalue\u001b[39m\u001b[38;5;124m\"\u001b[39m] \u001b[38;5;241m=\u001b[39m \u001b[38;5;28mself\u001b[39m\u001b[38;5;241m.\u001b[39m_unwrap_value(response\u001b[38;5;241m.\u001b[39mget(\u001b[38;5;124m\"\u001b[39m\u001b[38;5;124mvalue\u001b[39m\u001b[38;5;124m\"\u001b[39m, \u001b[38;5;28;01mNone\u001b[39;00m))\n\u001b[0;32m    386\u001b[0m     \u001b[38;5;28;01mreturn\u001b[39;00m response\n",
      "File \u001b[1;32m~\\AppData\\Local\\Packages\\PythonSoftwareFoundation.Python.3.12_qbz5n2kfra8p0\\LocalCache\\local-packages\\Python312\\site-packages\\selenium\\webdriver\\remote\\errorhandler.py:232\u001b[0m, in \u001b[0;36mErrorHandler.check_response\u001b[1;34m(self, response)\u001b[0m\n\u001b[0;32m    230\u001b[0m         alert_text \u001b[38;5;241m=\u001b[39m value[\u001b[38;5;124m\"\u001b[39m\u001b[38;5;124malert\u001b[39m\u001b[38;5;124m\"\u001b[39m]\u001b[38;5;241m.\u001b[39mget(\u001b[38;5;124m\"\u001b[39m\u001b[38;5;124mtext\u001b[39m\u001b[38;5;124m\"\u001b[39m)\n\u001b[0;32m    231\u001b[0m     \u001b[38;5;28;01mraise\u001b[39;00m exception_class(message, screen, stacktrace, alert_text)  \u001b[38;5;66;03m# type: ignore[call-arg]  # mypy is not smart enough here\u001b[39;00m\n\u001b[1;32m--> 232\u001b[0m \u001b[38;5;28;01mraise\u001b[39;00m exception_class(message, screen, stacktrace)\n",
      "\u001b[1;31mElementClickInterceptedException\u001b[0m: Message: element click intercepted: Element <video tabindex=\"-1\" class=\"video-stream html5-main-video\" data-no-fullscreen=\"true\" controlslist=\"nodownload\" src=\"blob:https://www.youtube.com/b1233002-453a-4e74-a86e-3f9c250004cb\" style=\"width: 484px; height: 861px; left: 0px; top: -861px;\" loop=\"\"></video> is not clickable at point (1068, 32). Other element would receive the click: <input name=\"search_query\" type=\"text\" autocomplete=\"off\" autocorrect=\"off\" aria-autocomplete=\"list\" role=\"combobox\" class=\"ytSearchboxComponentInput yt-searchbox-input title\" placeholder=\"Search\">\n  (Session info: MicrosoftEdge=131.0.2903.112)\nStacktrace:\n\t(No symbol) [0x00007FF75A2B6B05]\n\tMicrosoft::Applications::Events::EventProperty::empty [0x00007FF75A5DF464+1437348]\n\tsqlite3_dbdata_init [0x00007FF75A682D96+643174]\n\t(No symbol) [0x00007FF75A1E2E8A]\n\t(No symbol) [0x00007FF75A1E0FEC]\n\t(No symbol) [0x00007FF75A1DEC27]\n\t(No symbol) [0x00007FF75A1DDF29]\n\t(No symbol) [0x00007FF75A1D3EB3]\n\t(No symbol) [0x00007FF75A1FC19A]\n\t(No symbol) [0x00007FF75A1D3437]\n\t(No symbol) [0x00007FF75A1D32FD]\n\t(No symbol) [0x00007FF75A1FC480]\n\t(No symbol) [0x00007FF75A1D3437]\n\t(No symbol) [0x00007FF75A216BFF]\n\t(No symbol) [0x00007FF75A1FBE03]\n\t(No symbol) [0x00007FF75A1D2984]\n\t(No symbol) [0x00007FF75A1D1E30]\n\t(No symbol) [0x00007FF75A1D2571]\n\tMicrosoft::Applications::Events::EventProperty::empty [0x00007FF75A58BAF4+1094964]\n\t(No symbol) [0x00007FF75A2F32B8]\n\tMicrosoft::Applications::Events::EventProperty::empty [0x00007FF75A58AF33+1091955]\n\tMicrosoft::Applications::Events::EventProperty::empty [0x00007FF75A58AA99+1090777]\n\tMicrosoft::Applications::Events::ILogConfiguration::operator* [0x00007FF75A390CA1+461569]\n\tMicrosoft::Applications::Events::ILogConfiguration::operator* [0x00007FF75A38C9C4+444452]\n\tMicrosoft::Applications::Events::ILogConfiguration::operator* [0x00007FF75A38CB09+444777]\n\tMicrosoft::Applications::Events::ILogConfiguration::operator* [0x00007FF75A382186+401382]\n\tBaseThreadInitThunk [0x00007FF8469B259D+29]\n\tRtlUserThreadStart [0x00007FF846DEAF38+40]\n"
     ]
    }
   ],
   "source": [
    "\n"
   ]
  },
  {
   "cell_type": "code",
   "execution_count": null,
   "metadata": {},
   "outputs": [],
   "source": []
  }
 ],
 "metadata": {
  "kernelspec": {
   "display_name": "Python 3",
   "language": "python",
   "name": "python3"
  },
  "language_info": {
   "codemirror_mode": {
    "name": "ipython",
    "version": 3
   },
   "file_extension": ".py",
   "mimetype": "text/x-python",
   "name": "python",
   "nbconvert_exporter": "python",
   "pygments_lexer": "ipython3",
   "version": "3.12.8"
  }
 },
 "nbformat": 4,
 "nbformat_minor": 2
}
