{
 "cells": [
  {
   "cell_type": "code",
   "execution_count": 1,
   "metadata": {},
   "outputs": [
    {
     "name": "stdout",
     "output_type": "stream",
     "text": [
      "[15, 30]\n"
     ]
    }
   ],
   "source": [
    "#1  program to fetch all numbers which are divisible y 3 and 5 \n",
    "\n",
    "lst=[5,9,15,20,25,30,35,40]\n",
    "\n",
    "print([x for x in lst if x%3==0 and x%5==0])"
   ]
  },
  {
   "cell_type": "code",
   "execution_count": 2,
   "metadata": {},
   "outputs": [
    {
     "name": "stdout",
     "output_type": "stream",
     "text": [
      "{'name': 'nishant', 'hobby': 'gaming', 'age': 23}\n"
     ]
    }
   ],
   "source": [
    "#2 take a dict with 3 pairs and update any one value\n",
    "\n",
    "mydict={\n",
    "    \"name\":\"nishant\",\n",
    "    \"hobby\":\"gaming\",\n",
    "    \"age\":22\n",
    "}\n",
    "\n",
    "mydict[\"age\"]=23\n",
    "\n",
    "print(mydict)"
   ]
  },
  {
   "cell_type": "code",
   "execution_count": null,
   "metadata": {},
   "outputs": [],
   "source": []
  },
  {
   "cell_type": "code",
   "execution_count": null,
   "metadata": {},
   "outputs": [],
   "source": []
  },
  {
   "cell_type": "code",
   "execution_count": 3,
   "metadata": {},
   "outputs": [
    {
     "name": "stdout",
     "output_type": "stream",
     "text": [
      "python narayana tech house HYDERABAD\n",
      "python narayana tech house HYDERABAD\n"
     ]
    }
   ],
   "source": [
    "#3 python function to write vowels in uppercase and consonants in lowercase of same string given by user:\n",
    "\n",
    "st=\"python narayana tech house HYDERABAD\"\n",
    "st.lower()\n",
    "def change(x):\n",
    "    \n",
    "    for i in x:\n",
    "        if i in \"aeiou\":\n",
    "            i.upper()\n",
    "    return x\n",
    "\n",
    "print(st)\n",
    "\n",
    "print(change(st))"
   ]
  }
 ],
 "metadata": {
  "kernelspec": {
   "display_name": "Python 3",
   "language": "python",
   "name": "python3"
  },
  "language_info": {
   "codemirror_mode": {
    "name": "ipython",
    "version": 3
   },
   "file_extension": ".py",
   "mimetype": "text/x-python",
   "name": "python",
   "nbconvert_exporter": "python",
   "pygments_lexer": "ipython3",
   "version": "3.12.8"
  }
 },
 "nbformat": 4,
 "nbformat_minor": 2
}
