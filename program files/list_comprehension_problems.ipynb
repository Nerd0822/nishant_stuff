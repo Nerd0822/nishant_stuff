{
 "cells": [
  {
   "cell_type": "markdown",
   "metadata": {},
   "source": [
    "## list comprehension\n"
   ]
  },
  {
   "cell_type": "markdown",
   "metadata": {},
   "source": [
    "1) fetch all even numbers\n"
   ]
  },
  {
   "cell_type": "code",
   "execution_count": 1,
   "metadata": {},
   "outputs": [
    {
     "name": "stdout",
     "output_type": "stream",
     "text": [
      "[10, 14, 8]\n"
     ]
    }
   ],
   "source": [
    "lst=[10,11,13,14,9,8]\n",
    "\n",
    "print([x for x in lst if x%2==0])"
   ]
  },
  {
   "cell_type": "markdown",
   "metadata": {},
   "source": [
    "2 fetch all string values from list\n"
   ]
  },
  {
   "cell_type": "code",
   "execution_count": 3,
   "metadata": {},
   "outputs": [
    {
     "name": "stdout",
     "output_type": "stream",
     "text": [
      "['a', 'b']\n",
      "['a', 'b']\n"
     ]
    }
   ],
   "source": [
    "lst=[10,\"a\",20,True,30,\"b\",40]\n",
    "\n",
    "print([x for x in lst if isinstance(x,str)])\n",
    "print([y for y in lst if type(y) is str])"
   ]
  },
  {
   "cell_type": "code",
   "execution_count": 4,
   "metadata": {},
   "outputs": [
    {
     "name": "stdout",
     "output_type": "stream",
     "text": [
      "[15, 20, 5]\n"
     ]
    }
   ],
   "source": [
    "#3 feth all 5 divvisibles from list\n",
    "\n",
    "lst=[12,15,27,20,5]\n",
    "\n",
    "print([x for x in lst if x%5==0])"
   ]
  },
  {
   "cell_type": "code",
   "execution_count": 8,
   "metadata": {},
   "outputs": [
    {
     "name": "stdout",
     "output_type": "stream",
     "text": [
      "4\n"
     ]
    }
   ],
   "source": [
    "#4 count total number of int values in the list\n",
    "lst = [10,\"a\",20,True,30,\"b\",40]\n",
    "\n",
    "print(len([x for x in lst if type(x) is int]))"
   ]
  },
  {
   "cell_type": "code",
   "execution_count": 10,
   "metadata": {},
   "outputs": [
    {
     "name": "stdout",
     "output_type": "stream",
     "text": [
      "15\n"
     ]
    }
   ],
   "source": [
    "#5 count total number of characters in the string (including space)\n",
    "\n",
    "st=\"python language\"\n",
    "\n",
    "print(len([char for char in st]))"
   ]
  },
  {
   "cell_type": "code",
   "execution_count": 11,
   "metadata": {},
   "outputs": [
    {
     "name": "stdout",
     "output_type": "stream",
     "text": [
      "5\n"
     ]
    }
   ],
   "source": [
    "#6 count total number of words in the string:\n",
    "\n",
    "st=\"python narayana tech house hyd\"\n",
    "\n",
    "print(len([x for x in st.split()]))"
   ]
  },
  {
   "cell_type": "code",
   "execution_count": 12,
   "metadata": {},
   "outputs": [
    {
     "name": "stdout",
     "output_type": "stream",
     "text": [
      "['o', 'a', 'u', 'a', 'e']\n"
     ]
    }
   ],
   "source": [
    "#7 fetch all vowels from the string:\n",
    "\n",
    "st=\"python language\"\n",
    "\n",
    "print([x for x in st if x in \"aeiou\"])"
   ]
  },
  {
   "cell_type": "code",
   "execution_count": 13,
   "metadata": {},
   "outputs": [
    {
     "name": "stdout",
     "output_type": "stream",
     "text": [
      "5\n"
     ]
    }
   ],
   "source": [
    "#8 count total number of vowels:\n",
    "\n",
    "st=\"python narayana\"\n",
    "\n",
    "print(len([x for x in st if x in \"aeiou\"]))"
   ]
  },
  {
   "cell_type": "code",
   "execution_count": 15,
   "metadata": {},
   "outputs": [
    {
     "name": "stdout",
     "output_type": "stream",
     "text": [
      "23\n"
     ]
    }
   ],
   "source": [
    "#9 count total numbr fo characters int he string (excluding space):\n",
    "\n",
    "st=\"python is a simple language\"\n",
    "\n",
    "print(len([x for x in st if x.isalpha()]))"
   ]
  },
  {
   "cell_type": "code",
   "execution_count": 20,
   "metadata": {},
   "outputs": [
    {
     "name": "stdout",
     "output_type": "stream",
     "text": [
      "9\n"
     ]
    }
   ],
   "source": [
    "#10 count consonent in the string:\n",
    "\n",
    "st=\"python language\"\n",
    "\n",
    "print(len([x for x in st if x not in \"aeiou \"]))"
   ]
  },
  {
   "cell_type": "code",
   "execution_count": 1,
   "metadata": {},
   "outputs": [
    {
     "name": "stdout",
     "output_type": "stream",
     "text": [
      "['is', 'and', 'easy']\n"
     ]
    }
   ],
   "source": [
    "#11 fetch all words which starts with vowel from given string:\n",
    "\n",
    "st=\"python is simple and easy language\"\n",
    "\n",
    "print([i for i in st.split() if i.startswith((\"a\",\"e\",\"i\",\"o\",\"u\"))])"
   ]
  },
  {
   "cell_type": "code",
   "execution_count": 4,
   "metadata": {},
   "outputs": [
    {
     "name": "stdout",
     "output_type": "stream",
     "text": [
      "['python', 'is', 'and', 'easy']\n"
     ]
    }
   ],
   "source": [
    "#12 fetch all words which ends with consonant in the given string:\n",
    "\n",
    "st=\"python is simple and easy language\"\n",
    "\n",
    "print([i for i in st.split() if i[-1] not in (\"a\",\"e\",\"i\",\"o\",\"u\")])"
   ]
  },
  {
   "cell_type": "code",
   "execution_count": 6,
   "metadata": {},
   "outputs": [
    {
     "name": "stdout",
     "output_type": "stream",
     "text": [
      "['language']\n"
     ]
    }
   ],
   "source": [
    "#13 fetch all words which \"a\" 2 or more than 2 times:\n",
    "\n",
    "st=\"python is simple and easy language\"\n",
    "\n",
    "print([i for i in st.split() if i.count(\"a\")>=2 ])"
   ]
  },
  {
   "cell_type": "code",
   "execution_count": 8,
   "metadata": {},
   "outputs": [
    {
     "name": "stdout",
     "output_type": "stream",
     "text": [
      "[6, 2, 6, 3, 4, 8]\n"
     ]
    }
   ],
   "source": [
    "#14 count nuber of characters of each word in the string:\n",
    "st=\"python is simple and easy language\"\n",
    "\n",
    "print([len(i) for i in st.split()])"
   ]
  },
  {
   "cell_type": "code",
   "execution_count": 11,
   "metadata": {},
   "outputs": [
    {
     "name": "stdout",
     "output_type": "stream",
     "text": [
      "[('p', 'n'), ('i', 's'), ('s', 'e'), ('a', 'd'), ('e', 'y'), ('l', 'e')]\n"
     ]
    }
   ],
   "source": [
    "#15 fetch the first and last char from each word in the string:\n",
    "\n",
    "st=\"python is simple and easy language\"\n",
    "\n",
    "print([(i[0],i[-1]) for i in st.split()])"
   ]
  },
  {
   "cell_type": "code",
   "execution_count": 12,
   "metadata": {},
   "outputs": [
    {
     "name": "stdout",
     "output_type": "stream",
     "text": [
      "['and', 'easy', 'language']\n"
     ]
    }
   ],
   "source": [
    "#16 fetch all words which contains \"a\" char in the string:\n",
    "st=\"python is simple and easy language\"\n",
    "\n",
    "print([i for i in st.split() if \"a\" in i])"
   ]
  },
  {
   "cell_type": "code",
   "execution_count": 13,
   "metadata": {},
   "outputs": [
    {
     "name": "stdout",
     "output_type": "stream",
     "text": [
      "['python', 'is', 'and']\n"
     ]
    }
   ],
   "source": [
    "#17 fetch al words which does not contain \"e\" in string:\n",
    "\n",
    "st=\"python is simple and easy language\"\n",
    "\n",
    "print([i for i in st.split() if \"e\" not in i])"
   ]
  },
  {
   "cell_type": "code",
   "execution_count": 14,
   "metadata": {},
   "outputs": [
    {
     "name": "stdout",
     "output_type": "stream",
     "text": [
      "['is', 'and', 'easy']\n"
     ]
    }
   ],
   "source": [
    "#18 fetch all words which contains only 4 or less then 4 characters:\n",
    "\n",
    "st=\"python is simple and easy language\"\n",
    "\n",
    "print([i for i in st.split() if len(i)<=4])"
   ]
  },
  {
   "cell_type": "code",
   "execution_count": 17,
   "metadata": {},
   "outputs": [
    {
     "name": "stdout",
     "output_type": "stream",
     "text": [
      "['and']\n"
     ]
    }
   ],
   "source": [
    "#19 fetch all words hich contain odd number of characters in the string:\n",
    "\n",
    "st=\"python is simple and easy language\"\n",
    "\n",
    "print([i for i in st.split() if len(i)%2!=0])"
   ]
  },
  {
   "cell_type": "code",
   "execution_count": 18,
   "metadata": {},
   "outputs": [
    {
     "name": "stdout",
     "output_type": "stream",
     "text": [
      "['one']\n"
     ]
    }
   ],
   "source": [
    "#20 fetch all words which starts and ends with vowel in the string:\n",
    "st=\"python is number one language\"\n",
    "\n",
    "print([i for i in st.split() if i.startswith((\"a\",\"e\",\"i\",\"o\",\"u\"))and i.endswith((\"a\",\"e\",\"i\",\"o\",\"u\"))])"
   ]
  },
  {
   "cell_type": "code",
   "execution_count": 19,
   "metadata": {},
   "outputs": [
    {
     "name": "stdout",
     "output_type": "stream",
     "text": [
      "['madam', 'dad', 'eye', 'malayalam']\n"
     ]
    }
   ],
   "source": [
    "#21 fetch all palindrome words from list:\n",
    "names=[\"madam\",\"python\",\"dad\",\"language\",\"eye\",\"malayalam\"]\n",
    "\n",
    "print([i for i in names if i==i[::-1]])"
   ]
  },
  {
   "cell_type": "code",
   "execution_count": 20,
   "metadata": {},
   "outputs": [
    {
     "name": "stdout",
     "output_type": "stream",
     "text": [
      "['python', 'language']\n"
     ]
    }
   ],
   "source": [
    "#22 fethc all non palindrome\n",
    "\n",
    "names=[\"madam\",\"python\",\"dad\",\"language\",\"eye\",\"malayalam\"]\n",
    "\n",
    "print([i for i in names if i!=i[::-1]])"
   ]
  },
  {
   "cell_type": "code",
   "execution_count": 21,
   "metadata": {},
   "outputs": [
    {
     "name": "stdout",
     "output_type": "stream",
     "text": [
      "['madam', 'malayalam']\n"
     ]
    }
   ],
   "source": [
    "#23 palindrome which starts with m char:\n",
    "\n",
    "names=[\"madam\",\"python\",\"dad\",\"language\",\"eye\",\"malayalam\"]\n",
    "\n",
    "print([i for i in names if i==i[::-1]and i.startswith(\"m\")])"
   ]
  },
  {
   "cell_type": "code",
   "execution_count": 22,
   "metadata": {},
   "outputs": [
    {
     "name": "stdout",
     "output_type": "stream",
     "text": [
      "['madam', 'malayalam']\n"
     ]
    }
   ],
   "source": [
    "#24 palindrome words which more then 3 characers:\n",
    "names=[\"madam\",\"python\",\"dad\",\"language\",\"eye\",\"malayalam\"]\n",
    "\n",
    "print([i for i in names if i==i[::-1] and len(i)>3])"
   ]
  },
  {
   "cell_type": "code",
   "execution_count": 5,
   "metadata": {},
   "outputs": [
    {
     "name": "stdout",
     "output_type": "stream",
     "text": [
      "malayalam\n"
     ]
    }
   ],
   "source": [
    "#25 longest palindrome word:\n",
    "\n",
    "names=[\"madam\",\"python\",\"dad\",\"language\",\"eye\",\"malayalam\"]\n",
    "\n",
    "print(max([i for i in names if i==i[::-1]],key=len))\n"
   ]
  }
 ],
 "metadata": {
  "kernelspec": {
   "display_name": "Python 3",
   "language": "python",
   "name": "python3"
  },
  "language_info": {
   "codemirror_mode": {
    "name": "ipython",
    "version": 3
   },
   "file_extension": ".py",
   "mimetype": "text/x-python",
   "name": "python",
   "nbconvert_exporter": "python",
   "pygments_lexer": "ipython3",
   "version": "3.12.8"
  }
 },
 "nbformat": 4,
 "nbformat_minor": 2
}
