{
 "cells": [
  {
   "cell_type": "code",
   "execution_count": 1,
   "metadata": {},
   "outputs": [],
   "source": [
    "from selenium import webdriver\n",
    "from selenium.webdriver.common.by import By\n",
    "from selenium.webdriver.common.keys import Keys"
   ]
  },
  {
   "cell_type": "code",
   "execution_count": 2,
   "metadata": {},
   "outputs": [],
   "source": [
    "url=\"https://www.youtube.com/\"\n",
    "driver=webdriver.Chrome()\n",
    "driver.get(url)\n",
    "# driver.maximize_window()"
   ]
  },
  {
   "cell_type": "code",
   "execution_count": 3,
   "metadata": {},
   "outputs": [],
   "source": [
    "#accessing the vedio:\n",
    "vedio_title=\"high life nerd set fire to the rain\"\n",
    "driver.find_element(By.NAME,\"search_query\").send_keys(vedio_title)\n",
    "searchbtn=driver.find_element(By.CLASS_NAME,\"ytSearchboxComponentSearchButton\")\n",
    "searchbtn.click()\n",
    "driver.implicitly_wait(5)\n",
    "driver.find_element(By.XPATH,\"//a[@title='SET FIRE TO THE RAIN 🖤 BGMI MONTAGE|HIGHLIFE NERD|Oneplus,9R,9,8T,7T,7,6T,8,N105G,N100 60 fps 90 fps']\").click()\n",
    "driver.implicitly_wait(5)\n",
    "driver.find_element(By.CLASS_NAME,\"ytp-autonav-toggle-button\")\n",
    "driver.implicitly_wait(170)"
   ]
  },
  {
   "cell_type": "code",
   "execution_count": null,
   "metadata": {},
   "outputs": [],
   "source": []
  }
 ],
 "metadata": {
  "kernelspec": {
   "display_name": "Python 3",
   "language": "python",
   "name": "python3"
  },
  "language_info": {
   "codemirror_mode": {
    "name": "ipython",
    "version": 3
   },
   "file_extension": ".py",
   "mimetype": "text/x-python",
   "name": "python",
   "nbconvert_exporter": "python",
   "pygments_lexer": "ipython3",
   "version": "3.12.8"
  }
 },
 "nbformat": 4,
 "nbformat_minor": 2
}
